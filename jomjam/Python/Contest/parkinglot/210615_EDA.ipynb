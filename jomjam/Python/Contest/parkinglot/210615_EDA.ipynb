{
 "cells": [
  {
   "cell_type": "markdown",
   "metadata": {},
   "source": [
    "Featurer가 두단계로 이루어져 있어서 어려움  \n",
    "Target에 대한 예측방식을 두가지로 나누어볼 수 있을 듯 하다.\n",
    "1. 하위 Feature layer를 무너뜨리기 (단지 코드별로 에측)\n",
    "2. 상위 Feature layer를 무너뜨리기 (각 주택 특징별로 예측)\n",
    "\n",
    "위의 방법을 이용할 때, 각각 필요한 조건이 있음\n",
    "1. 하위 Feature들을 무너뜨릴 방법 --> 전체 면적 및 주택 특징별 비율, 자격유형별 비율, 공급유형별 비율 등으로 데이터 변환이 가능할 듯 하다.\n",
    "2. 상위 Feature들을 무너뜨릴 방법 --> 현재 단지코드 별로 되어 있는 '등록차량수'를 각 주택 별 세대당 등록차량수로 치환할 수 있어야 한다.\n",
    "\n",
    "위에서 걱정거리는\n",
    "1. 데이터 수가 너무 적어서 Feature를 늘렸을때 위험부담이 있을 확률이 있다.\n",
    "2. 데이터 수는 많아지나, 변환 부분에서 위험부담이 있음"
   ]
  },
  {
   "cell_type": "code",
   "execution_count": 1,
   "metadata": {},
   "outputs": [],
   "source": [
    "import pandas as pd\n",
    "import numpy as np\n",
    "import matplotlib.pyplot as plt\n",
    "import seaborn as sns\n",
    "import os\n",
    "%matplotlib inline\n",
    "import matplotlib\n",
    "matplotlib.rc('axes', unicode_minus=False)"
   ]
  },
  {
   "cell_type": "markdown",
   "metadata": {},
   "source": [
    "# Data Load"
   ]
  },
  {
   "cell_type": "code",
   "execution_count": 2,
   "metadata": {},
   "outputs": [
    {
     "name": "stdout",
     "output_type": "stream",
     "text": [
      "5\n"
     ]
    },
    {
     "data": {
      "text/plain": [
       "['.DS_Store',\n",
       " 'age_gender_info.csv',\n",
       " 'test.csv',\n",
       " 'train.csv',\n",
       " 'sample_submission.csv']"
      ]
     },
     "execution_count": 2,
     "metadata": {},
     "output_type": "execute_result"
    }
   ],
   "source": [
    "data_list = os.listdir(\"./data/\")\n",
    "print(len(data_list))\n",
    "data_list"
   ]
  },
  {
   "cell_type": "code",
   "execution_count": 3,
   "metadata": {},
   "outputs": [],
   "source": [
    "train_df = pd.read_csv(\"./data/train.csv\")\n",
    "age_gender_info_df = pd.read_csv(\"./data/age_gender_info.csv\")"
   ]
  },
  {
   "cell_type": "code",
   "execution_count": 4,
   "metadata": {},
   "outputs": [
    {
     "name": "stdout",
     "output_type": "stream",
     "text": [
      "(2952, 15)\n",
      "(16, 23)\n"
     ]
    }
   ],
   "source": [
    "print(train_df.shape)\n",
    "print(age_gender_info_df.shape)"
   ]
  },
  {
   "cell_type": "code",
   "execution_count": 5,
   "metadata": {},
   "outputs": [
    {
     "data": {
      "text/html": [
       "<div>\n",
       "<style scoped>\n",
       "    .dataframe tbody tr th:only-of-type {\n",
       "        vertical-align: middle;\n",
       "    }\n",
       "\n",
       "    .dataframe tbody tr th {\n",
       "        vertical-align: top;\n",
       "    }\n",
       "\n",
       "    .dataframe thead th {\n",
       "        text-align: right;\n",
       "    }\n",
       "</style>\n",
       "<table border=\"1\" class=\"dataframe\">\n",
       "  <thead>\n",
       "    <tr style=\"text-align: right;\">\n",
       "      <th></th>\n",
       "      <th>단지코드</th>\n",
       "      <th>총세대수</th>\n",
       "      <th>임대건물구분</th>\n",
       "      <th>지역</th>\n",
       "      <th>공급유형</th>\n",
       "      <th>전용면적</th>\n",
       "      <th>전용면적별세대수</th>\n",
       "      <th>공가수</th>\n",
       "      <th>자격유형</th>\n",
       "      <th>임대보증금</th>\n",
       "      <th>임대료</th>\n",
       "      <th>도보 10분거리 내 지하철역 수(환승노선 수 반영)</th>\n",
       "      <th>도보 10분거리 내 버스정류장 수</th>\n",
       "      <th>단지내주차면수</th>\n",
       "      <th>등록차량수</th>\n",
       "    </tr>\n",
       "  </thead>\n",
       "  <tbody>\n",
       "    <tr>\n",
       "      <th>0</th>\n",
       "      <td>C2483</td>\n",
       "      <td>900</td>\n",
       "      <td>아파트</td>\n",
       "      <td>경상북도</td>\n",
       "      <td>국민임대</td>\n",
       "      <td>39.72</td>\n",
       "      <td>134</td>\n",
       "      <td>38.0</td>\n",
       "      <td>A</td>\n",
       "      <td>15667000</td>\n",
       "      <td>103680</td>\n",
       "      <td>0.0</td>\n",
       "      <td>3.0</td>\n",
       "      <td>1425.0</td>\n",
       "      <td>1015.0</td>\n",
       "    </tr>\n",
       "    <tr>\n",
       "      <th>1</th>\n",
       "      <td>C2483</td>\n",
       "      <td>900</td>\n",
       "      <td>아파트</td>\n",
       "      <td>경상북도</td>\n",
       "      <td>국민임대</td>\n",
       "      <td>39.72</td>\n",
       "      <td>15</td>\n",
       "      <td>38.0</td>\n",
       "      <td>A</td>\n",
       "      <td>15667000</td>\n",
       "      <td>103680</td>\n",
       "      <td>0.0</td>\n",
       "      <td>3.0</td>\n",
       "      <td>1425.0</td>\n",
       "      <td>1015.0</td>\n",
       "    </tr>\n",
       "    <tr>\n",
       "      <th>2</th>\n",
       "      <td>C2483</td>\n",
       "      <td>900</td>\n",
       "      <td>아파트</td>\n",
       "      <td>경상북도</td>\n",
       "      <td>국민임대</td>\n",
       "      <td>51.93</td>\n",
       "      <td>385</td>\n",
       "      <td>38.0</td>\n",
       "      <td>A</td>\n",
       "      <td>27304000</td>\n",
       "      <td>184330</td>\n",
       "      <td>0.0</td>\n",
       "      <td>3.0</td>\n",
       "      <td>1425.0</td>\n",
       "      <td>1015.0</td>\n",
       "    </tr>\n",
       "    <tr>\n",
       "      <th>3</th>\n",
       "      <td>C2483</td>\n",
       "      <td>900</td>\n",
       "      <td>아파트</td>\n",
       "      <td>경상북도</td>\n",
       "      <td>국민임대</td>\n",
       "      <td>51.93</td>\n",
       "      <td>15</td>\n",
       "      <td>38.0</td>\n",
       "      <td>A</td>\n",
       "      <td>27304000</td>\n",
       "      <td>184330</td>\n",
       "      <td>0.0</td>\n",
       "      <td>3.0</td>\n",
       "      <td>1425.0</td>\n",
       "      <td>1015.0</td>\n",
       "    </tr>\n",
       "    <tr>\n",
       "      <th>4</th>\n",
       "      <td>C2483</td>\n",
       "      <td>900</td>\n",
       "      <td>아파트</td>\n",
       "      <td>경상북도</td>\n",
       "      <td>국민임대</td>\n",
       "      <td>51.93</td>\n",
       "      <td>41</td>\n",
       "      <td>38.0</td>\n",
       "      <td>A</td>\n",
       "      <td>27304000</td>\n",
       "      <td>184330</td>\n",
       "      <td>0.0</td>\n",
       "      <td>3.0</td>\n",
       "      <td>1425.0</td>\n",
       "      <td>1015.0</td>\n",
       "    </tr>\n",
       "  </tbody>\n",
       "</table>\n",
       "</div>"
      ],
      "text/plain": [
       "    단지코드  총세대수 임대건물구분    지역  공급유형   전용면적  전용면적별세대수   공가수 자격유형     임대보증금  \\\n",
       "0  C2483   900    아파트  경상북도  국민임대  39.72       134  38.0    A  15667000   \n",
       "1  C2483   900    아파트  경상북도  국민임대  39.72        15  38.0    A  15667000   \n",
       "2  C2483   900    아파트  경상북도  국민임대  51.93       385  38.0    A  27304000   \n",
       "3  C2483   900    아파트  경상북도  국민임대  51.93        15  38.0    A  27304000   \n",
       "4  C2483   900    아파트  경상북도  국민임대  51.93        41  38.0    A  27304000   \n",
       "\n",
       "      임대료  도보 10분거리 내 지하철역 수(환승노선 수 반영)  도보 10분거리 내 버스정류장 수  단지내주차면수   등록차량수  \n",
       "0  103680                           0.0                 3.0   1425.0  1015.0  \n",
       "1  103680                           0.0                 3.0   1425.0  1015.0  \n",
       "2  184330                           0.0                 3.0   1425.0  1015.0  \n",
       "3  184330                           0.0                 3.0   1425.0  1015.0  \n",
       "4  184330                           0.0                 3.0   1425.0  1015.0  "
      ]
     },
     "execution_count": 5,
     "metadata": {},
     "output_type": "execute_result"
    }
   ],
   "source": [
    "train_df.head()"
   ]
  },
  {
   "cell_type": "code",
   "execution_count": 6,
   "metadata": {},
   "outputs": [
    {
     "name": "stdout",
     "output_type": "stream",
     "text": [
      "<class 'pandas.core.frame.DataFrame'>\n",
      "RangeIndex: 2952 entries, 0 to 2951\n",
      "Data columns (total 15 columns):\n",
      " #   Column                        Non-Null Count  Dtype  \n",
      "---  ------                        --------------  -----  \n",
      " 0   단지코드                          2952 non-null   object \n",
      " 1   총세대수                          2952 non-null   int64  \n",
      " 2   임대건물구분                        2952 non-null   object \n",
      " 3   지역                            2952 non-null   object \n",
      " 4   공급유형                          2952 non-null   object \n",
      " 5   전용면적                          2952 non-null   float64\n",
      " 6   전용면적별세대수                      2952 non-null   int64  \n",
      " 7   공가수                           2952 non-null   float64\n",
      " 8   자격유형                          2952 non-null   object \n",
      " 9   임대보증금                         2383 non-null   object \n",
      " 10  임대료                           2383 non-null   object \n",
      " 11  도보 10분거리 내 지하철역 수(환승노선 수 반영)  2741 non-null   float64\n",
      " 12  도보 10분거리 내 버스정류장 수            2948 non-null   float64\n",
      " 13  단지내주차면수                       2952 non-null   float64\n",
      " 14  등록차량수                         2952 non-null   float64\n",
      "dtypes: float64(6), int64(2), object(7)\n",
      "memory usage: 346.1+ KB\n"
     ]
    }
   ],
   "source": [
    "train_df.info()"
   ]
  },
  {
   "cell_type": "code",
   "execution_count": 7,
   "metadata": {},
   "outputs": [
    {
     "data": {
      "text/html": [
       "<div>\n",
       "<style scoped>\n",
       "    .dataframe tbody tr th:only-of-type {\n",
       "        vertical-align: middle;\n",
       "    }\n",
       "\n",
       "    .dataframe tbody tr th {\n",
       "        vertical-align: top;\n",
       "    }\n",
       "\n",
       "    .dataframe thead th {\n",
       "        text-align: right;\n",
       "    }\n",
       "</style>\n",
       "<table border=\"1\" class=\"dataframe\">\n",
       "  <thead>\n",
       "    <tr style=\"text-align: right;\">\n",
       "      <th></th>\n",
       "      <th>총세대수</th>\n",
       "      <th>전용면적</th>\n",
       "      <th>전용면적별세대수</th>\n",
       "      <th>공가수</th>\n",
       "      <th>도보 10분거리 내 지하철역 수(환승노선 수 반영)</th>\n",
       "      <th>도보 10분거리 내 버스정류장 수</th>\n",
       "      <th>단지내주차면수</th>\n",
       "      <th>등록차량수</th>\n",
       "    </tr>\n",
       "  </thead>\n",
       "  <tbody>\n",
       "    <tr>\n",
       "      <th>count</th>\n",
       "      <td>2952.000000</td>\n",
       "      <td>2952.000000</td>\n",
       "      <td>2952.000000</td>\n",
       "      <td>2952.000000</td>\n",
       "      <td>2741.000000</td>\n",
       "      <td>2948.000000</td>\n",
       "      <td>2952.000000</td>\n",
       "      <td>2952.000000</td>\n",
       "    </tr>\n",
       "    <tr>\n",
       "      <th>mean</th>\n",
       "      <td>886.661247</td>\n",
       "      <td>44.757215</td>\n",
       "      <td>102.747967</td>\n",
       "      <td>12.921070</td>\n",
       "      <td>0.176578</td>\n",
       "      <td>3.695726</td>\n",
       "      <td>601.668360</td>\n",
       "      <td>559.768293</td>\n",
       "    </tr>\n",
       "    <tr>\n",
       "      <th>std</th>\n",
       "      <td>513.540168</td>\n",
       "      <td>31.874280</td>\n",
       "      <td>132.640159</td>\n",
       "      <td>10.778831</td>\n",
       "      <td>0.427408</td>\n",
       "      <td>2.644665</td>\n",
       "      <td>396.407072</td>\n",
       "      <td>433.375027</td>\n",
       "    </tr>\n",
       "    <tr>\n",
       "      <th>min</th>\n",
       "      <td>26.000000</td>\n",
       "      <td>12.620000</td>\n",
       "      <td>1.000000</td>\n",
       "      <td>0.000000</td>\n",
       "      <td>0.000000</td>\n",
       "      <td>0.000000</td>\n",
       "      <td>13.000000</td>\n",
       "      <td>13.000000</td>\n",
       "    </tr>\n",
       "    <tr>\n",
       "      <th>25%</th>\n",
       "      <td>513.500000</td>\n",
       "      <td>32.100000</td>\n",
       "      <td>14.000000</td>\n",
       "      <td>4.000000</td>\n",
       "      <td>0.000000</td>\n",
       "      <td>2.000000</td>\n",
       "      <td>279.250000</td>\n",
       "      <td>220.000000</td>\n",
       "    </tr>\n",
       "    <tr>\n",
       "      <th>50%</th>\n",
       "      <td>779.000000</td>\n",
       "      <td>39.930000</td>\n",
       "      <td>60.000000</td>\n",
       "      <td>11.000000</td>\n",
       "      <td>0.000000</td>\n",
       "      <td>3.000000</td>\n",
       "      <td>517.000000</td>\n",
       "      <td>487.000000</td>\n",
       "    </tr>\n",
       "    <tr>\n",
       "      <th>75%</th>\n",
       "      <td>1106.000000</td>\n",
       "      <td>51.562500</td>\n",
       "      <td>144.000000</td>\n",
       "      <td>20.000000</td>\n",
       "      <td>0.000000</td>\n",
       "      <td>4.000000</td>\n",
       "      <td>823.000000</td>\n",
       "      <td>770.000000</td>\n",
       "    </tr>\n",
       "    <tr>\n",
       "      <th>max</th>\n",
       "      <td>2568.000000</td>\n",
       "      <td>583.400000</td>\n",
       "      <td>1865.000000</td>\n",
       "      <td>55.000000</td>\n",
       "      <td>3.000000</td>\n",
       "      <td>20.000000</td>\n",
       "      <td>1798.000000</td>\n",
       "      <td>2550.000000</td>\n",
       "    </tr>\n",
       "  </tbody>\n",
       "</table>\n",
       "</div>"
      ],
      "text/plain": [
       "              총세대수         전용면적     전용면적별세대수          공가수  \\\n",
       "count  2952.000000  2952.000000  2952.000000  2952.000000   \n",
       "mean    886.661247    44.757215   102.747967    12.921070   \n",
       "std     513.540168    31.874280   132.640159    10.778831   \n",
       "min      26.000000    12.620000     1.000000     0.000000   \n",
       "25%     513.500000    32.100000    14.000000     4.000000   \n",
       "50%     779.000000    39.930000    60.000000    11.000000   \n",
       "75%    1106.000000    51.562500   144.000000    20.000000   \n",
       "max    2568.000000   583.400000  1865.000000    55.000000   \n",
       "\n",
       "       도보 10분거리 내 지하철역 수(환승노선 수 반영)  도보 10분거리 내 버스정류장 수      단지내주차면수  \\\n",
       "count                   2741.000000         2948.000000  2952.000000   \n",
       "mean                       0.176578            3.695726   601.668360   \n",
       "std                        0.427408            2.644665   396.407072   \n",
       "min                        0.000000            0.000000    13.000000   \n",
       "25%                        0.000000            2.000000   279.250000   \n",
       "50%                        0.000000            3.000000   517.000000   \n",
       "75%                        0.000000            4.000000   823.000000   \n",
       "max                        3.000000           20.000000  1798.000000   \n",
       "\n",
       "             등록차량수  \n",
       "count  2952.000000  \n",
       "mean    559.768293  \n",
       "std     433.375027  \n",
       "min      13.000000  \n",
       "25%     220.000000  \n",
       "50%     487.000000  \n",
       "75%     770.000000  \n",
       "max    2550.000000  "
      ]
     },
     "execution_count": 7,
     "metadata": {},
     "output_type": "execute_result"
    }
   ],
   "source": [
    "train_df.describe()"
   ]
  },
  {
   "cell_type": "code",
   "execution_count": 8,
   "metadata": {},
   "outputs": [
    {
     "data": {
      "text/html": [
       "<div>\n",
       "<style scoped>\n",
       "    .dataframe tbody tr th:only-of-type {\n",
       "        vertical-align: middle;\n",
       "    }\n",
       "\n",
       "    .dataframe tbody tr th {\n",
       "        vertical-align: top;\n",
       "    }\n",
       "\n",
       "    .dataframe thead th {\n",
       "        text-align: right;\n",
       "    }\n",
       "</style>\n",
       "<table border=\"1\" class=\"dataframe\">\n",
       "  <thead>\n",
       "    <tr style=\"text-align: right;\">\n",
       "      <th></th>\n",
       "      <th>지역</th>\n",
       "      <th>10대미만(여자)</th>\n",
       "      <th>10대미만(남자)</th>\n",
       "      <th>10대(여자)</th>\n",
       "      <th>10대(남자)</th>\n",
       "      <th>20대(여자)</th>\n",
       "      <th>20대(남자)</th>\n",
       "      <th>30대(여자)</th>\n",
       "      <th>30대(남자)</th>\n",
       "      <th>40대(여자)</th>\n",
       "      <th>...</th>\n",
       "      <th>60대(여자)</th>\n",
       "      <th>60대(남자)</th>\n",
       "      <th>70대(여자)</th>\n",
       "      <th>70대(남자)</th>\n",
       "      <th>80대(여자)</th>\n",
       "      <th>80대(남자)</th>\n",
       "      <th>90대(여자)</th>\n",
       "      <th>90대(남자)</th>\n",
       "      <th>100대(여자)</th>\n",
       "      <th>100대(남자)</th>\n",
       "    </tr>\n",
       "  </thead>\n",
       "  <tbody>\n",
       "    <tr>\n",
       "      <th>0</th>\n",
       "      <td>경상북도</td>\n",
       "      <td>0.030158</td>\n",
       "      <td>0.033195</td>\n",
       "      <td>0.056346</td>\n",
       "      <td>0.061360</td>\n",
       "      <td>0.060096</td>\n",
       "      <td>0.067859</td>\n",
       "      <td>0.053433</td>\n",
       "      <td>0.049572</td>\n",
       "      <td>0.083660</td>\n",
       "      <td>...</td>\n",
       "      <td>0.082684</td>\n",
       "      <td>0.063889</td>\n",
       "      <td>0.047717</td>\n",
       "      <td>0.030172</td>\n",
       "      <td>0.029361</td>\n",
       "      <td>0.011211</td>\n",
       "      <td>0.005578</td>\n",
       "      <td>0.001553</td>\n",
       "      <td>0.000234</td>\n",
       "      <td>0.000014</td>\n",
       "    </tr>\n",
       "    <tr>\n",
       "      <th>1</th>\n",
       "      <td>경상남도</td>\n",
       "      <td>0.027400</td>\n",
       "      <td>0.026902</td>\n",
       "      <td>0.053257</td>\n",
       "      <td>0.055568</td>\n",
       "      <td>0.064920</td>\n",
       "      <td>0.070618</td>\n",
       "      <td>0.056414</td>\n",
       "      <td>0.057550</td>\n",
       "      <td>0.077092</td>\n",
       "      <td>...</td>\n",
       "      <td>0.087201</td>\n",
       "      <td>0.069562</td>\n",
       "      <td>0.048357</td>\n",
       "      <td>0.033277</td>\n",
       "      <td>0.027361</td>\n",
       "      <td>0.011295</td>\n",
       "      <td>0.004910</td>\n",
       "      <td>0.001086</td>\n",
       "      <td>0.000179</td>\n",
       "      <td>0.000010</td>\n",
       "    </tr>\n",
       "    <tr>\n",
       "      <th>2</th>\n",
       "      <td>대전광역시</td>\n",
       "      <td>0.028197</td>\n",
       "      <td>0.029092</td>\n",
       "      <td>0.040490</td>\n",
       "      <td>0.042793</td>\n",
       "      <td>0.060834</td>\n",
       "      <td>0.064247</td>\n",
       "      <td>0.068654</td>\n",
       "      <td>0.066848</td>\n",
       "      <td>0.074667</td>\n",
       "      <td>...</td>\n",
       "      <td>0.088468</td>\n",
       "      <td>0.070261</td>\n",
       "      <td>0.051010</td>\n",
       "      <td>0.037143</td>\n",
       "      <td>0.032455</td>\n",
       "      <td>0.013751</td>\n",
       "      <td>0.006494</td>\n",
       "      <td>0.001740</td>\n",
       "      <td>0.000298</td>\n",
       "      <td>0.000066</td>\n",
       "    </tr>\n",
       "    <tr>\n",
       "      <th>3</th>\n",
       "      <td>경기도</td>\n",
       "      <td>0.038030</td>\n",
       "      <td>0.039507</td>\n",
       "      <td>0.052546</td>\n",
       "      <td>0.053990</td>\n",
       "      <td>0.058484</td>\n",
       "      <td>0.059894</td>\n",
       "      <td>0.072331</td>\n",
       "      <td>0.068704</td>\n",
       "      <td>0.083208</td>\n",
       "      <td>...</td>\n",
       "      <td>0.074237</td>\n",
       "      <td>0.058419</td>\n",
       "      <td>0.042422</td>\n",
       "      <td>0.032725</td>\n",
       "      <td>0.025136</td>\n",
       "      <td>0.012354</td>\n",
       "      <td>0.005390</td>\n",
       "      <td>0.001707</td>\n",
       "      <td>0.000290</td>\n",
       "      <td>0.000067</td>\n",
       "    </tr>\n",
       "    <tr>\n",
       "      <th>4</th>\n",
       "      <td>전라북도</td>\n",
       "      <td>0.028089</td>\n",
       "      <td>0.029065</td>\n",
       "      <td>0.059685</td>\n",
       "      <td>0.060080</td>\n",
       "      <td>0.066262</td>\n",
       "      <td>0.070322</td>\n",
       "      <td>0.052027</td>\n",
       "      <td>0.046596</td>\n",
       "      <td>0.077005</td>\n",
       "      <td>...</td>\n",
       "      <td>0.076636</td>\n",
       "      <td>0.068042</td>\n",
       "      <td>0.051025</td>\n",
       "      <td>0.035748</td>\n",
       "      <td>0.035049</td>\n",
       "      <td>0.012641</td>\n",
       "      <td>0.007223</td>\n",
       "      <td>0.001898</td>\n",
       "      <td>0.000158</td>\n",
       "      <td>0.000013</td>\n",
       "    </tr>\n",
       "  </tbody>\n",
       "</table>\n",
       "<p>5 rows × 23 columns</p>\n",
       "</div>"
      ],
      "text/plain": [
       "      지역  10대미만(여자)  10대미만(남자)   10대(여자)   10대(남자)   20대(여자)   20대(남자)  \\\n",
       "0   경상북도   0.030158   0.033195  0.056346  0.061360  0.060096  0.067859   \n",
       "1   경상남도   0.027400   0.026902  0.053257  0.055568  0.064920  0.070618   \n",
       "2  대전광역시   0.028197   0.029092  0.040490  0.042793  0.060834  0.064247   \n",
       "3    경기도   0.038030   0.039507  0.052546  0.053990  0.058484  0.059894   \n",
       "4   전라북도   0.028089   0.029065  0.059685  0.060080  0.066262  0.070322   \n",
       "\n",
       "    30대(여자)   30대(남자)   40대(여자)  ...   60대(여자)   60대(남자)   70대(여자)   70대(남자)  \\\n",
       "0  0.053433  0.049572  0.083660  ...  0.082684  0.063889  0.047717  0.030172   \n",
       "1  0.056414  0.057550  0.077092  ...  0.087201  0.069562  0.048357  0.033277   \n",
       "2  0.068654  0.066848  0.074667  ...  0.088468  0.070261  0.051010  0.037143   \n",
       "3  0.072331  0.068704  0.083208  ...  0.074237  0.058419  0.042422  0.032725   \n",
       "4  0.052027  0.046596  0.077005  ...  0.076636  0.068042  0.051025  0.035748   \n",
       "\n",
       "    80대(여자)   80대(남자)   90대(여자)   90대(남자)  100대(여자)  100대(남자)  \n",
       "0  0.029361  0.011211  0.005578  0.001553  0.000234  0.000014  \n",
       "1  0.027361  0.011295  0.004910  0.001086  0.000179  0.000010  \n",
       "2  0.032455  0.013751  0.006494  0.001740  0.000298  0.000066  \n",
       "3  0.025136  0.012354  0.005390  0.001707  0.000290  0.000067  \n",
       "4  0.035049  0.012641  0.007223  0.001898  0.000158  0.000013  \n",
       "\n",
       "[5 rows x 23 columns]"
      ]
     },
     "execution_count": 8,
     "metadata": {},
     "output_type": "execute_result"
    }
   ],
   "source": [
    "age_gender_info_df.head()"
   ]
  },
  {
   "cell_type": "markdown",
   "metadata": {},
   "source": [
    "# Overview"
   ]
  },
  {
   "cell_type": "markdown",
   "metadata": {},
   "source": [
    "총 단지 코드 개수"
   ]
  },
  {
   "cell_type": "code",
   "execution_count": 9,
   "metadata": {},
   "outputs": [
    {
     "data": {
      "text/plain": [
       "423"
      ]
     },
     "execution_count": 9,
     "metadata": {},
     "output_type": "execute_result"
    }
   ],
   "source": [
    "len(train_df['단지코드'].unique())"
   ]
  },
  {
   "cell_type": "markdown",
   "metadata": {},
   "source": [
    "같은 단지 코드 -> 같은 값인 경우는?  \n",
    "뭐가 코드별로 묶여있고, 뭐가 나뉘어있는지 파악이 필요함"
   ]
  },
  {
   "cell_type": "code",
   "execution_count": 10,
   "metadata": {},
   "outputs": [],
   "source": [
    "else_num = 0\n",
    "all_set = set(list(train_df.columns[1:]))\n",
    "not_only_one_value = set()\n",
    "for ap_code in train_df['단지코드'].unique():\n",
    "    sample_df = train_df[train_df[\"단지코드\"] == ap_code]\n",
    "    for col in sample_df.columns[1:]:\n",
    "        if len(sample_df[col].unique()) != 1:\n",
    "            not_only_one_value.add(col)\n",
    "            \n",
    "only_one_value = all_set-not_only_one_value"
   ]
  },
  {
   "cell_type": "code",
   "execution_count": 11,
   "metadata": {},
   "outputs": [
    {
     "name": "stdout",
     "output_type": "stream",
     "text": [
      "댠지 안에서 구분\n",
      "{'임대건물구분', '자격유형', '임대보증금', '임대료', '공급유형', '전용면적별세대수', '전용면적'}\n",
      "단지안에서 공통\n",
      "{'단지내주차면수', '총세대수', '도보 10분거리 내 버스정류장 수', '등록차량수', '도보 10분거리 내 지하철역 수(환승노선 수 반영)', '공가수', '지역'}\n"
     ]
    }
   ],
   "source": [
    "print(\"댠지 안에서 구분\")\n",
    "print(not_only_one_value)\n",
    "print(\"단지안에서 공통\")\n",
    "print(only_one_value)"
   ]
  },
  {
   "cell_type": "markdown",
   "metadata": {},
   "source": [
    "고유값으로 확인\n",
    "\n",
    "자격 유형은?"
   ]
  },
  {
   "cell_type": "code",
   "execution_count": 12,
   "metadata": {},
   "outputs": [
    {
     "data": {
      "text/plain": [
       "array(['A', 'B', 'C', 'D', 'E', 'F', 'G', 'H', 'I', 'J', 'K', 'L', 'M',\n",
       "       'N', 'O'], dtype=object)"
      ]
     },
     "execution_count": 12,
     "metadata": {},
     "output_type": "execute_result"
    }
   ],
   "source": [
    "train_df[\"자격유형\"].unique()"
   ]
  },
  {
   "cell_type": "markdown",
   "metadata": {},
   "source": [
    "임대건물구분, 공급유형, 지역 Unique 값보기"
   ]
  },
  {
   "cell_type": "code",
   "execution_count": 13,
   "metadata": {},
   "outputs": [
    {
     "name": "stdout",
     "output_type": "stream",
     "text": [
      "['아파트' '상가']\n",
      "\n",
      "['국민임대' '공공임대(50년)' '영구임대' '임대상가' '공공임대(10년)' '공공임대(분납)' '장기전세' '공공분양'\n",
      " '행복주택' '공공임대(5년)']\n",
      "\n",
      "['경상북도' '경상남도' '대전광역시' '경기도' '전라북도' '강원도' '광주광역시' '충청남도' '부산광역시' '제주특별자치도'\n",
      " '울산광역시' '충청북도' '전라남도' '대구광역시' '서울특별시' '세종특별자치시']\n"
     ]
    }
   ],
   "source": [
    "print(train_df[\"임대건물구분\"].unique())\n",
    "print()\n",
    "print(train_df[\"공급유형\"].unique())\n",
    "print()\n",
    "print(train_df[\"지역\"].unique())"
   ]
  },
  {
   "cell_type": "code",
   "execution_count": 14,
   "metadata": {},
   "outputs": [
    {
     "data": {
      "image/png": "[encoded data removed]",
      "text/plain": [
       "<Figure size 144x360 with 1 Axes>"
      ]
     },
     "metadata": {
      "needs_background": "light"
     },
     "output_type": "display_data"
    }
   ],
   "source": [
    "fig = plt.figure(figsize=(2,5))\n",
    "ax = fig.add_subplot(111)\n",
    "sns.boxplot(y=\"등록차량수\", data=train_df, ax=ax)\n",
    "plt.show()"
   ]
  },
  {
   "cell_type": "markdown",
   "metadata": {},
   "source": [
    "차량대수 분포 확인하기"
   ]
  },
  {
   "cell_type": "code",
   "execution_count": 15,
   "metadata": {
    "scrolled": false
   },
   "outputs": [
    {
     "data": {
      "text/plain": [
       "0     1.0\n",
       "1     1.0\n",
       "2     1.0\n",
       "3     1.0\n",
       "4     1.0\n",
       "5     1.0\n",
       "6     1.0\n",
       "7     1.0\n",
       "8     1.0\n",
       "9     1.0\n",
       "10    1.0\n",
       "11    1.0\n",
       "12    1.0\n",
       "13    1.0\n",
       "14    1.0\n",
       "15    1.0\n",
       "dtype: float64"
      ]
     },
     "execution_count": 15,
     "metadata": {},
     "output_type": "execute_result"
    }
   ],
   "source": [
    "# 지역별 합이 1이 되도록 비율로 변환한 듯\n",
    "age_gender_info_df.sum(axis=1)"
   ]
  },
  {
   "cell_type": "code",
   "execution_count": 16,
   "metadata": {},
   "outputs": [
    {
     "data": {
      "text/html": [
       "<div>\n",
       "<style scoped>\n",
       "    .dataframe tbody tr th:only-of-type {\n",
       "        vertical-align: middle;\n",
       "    }\n",
       "\n",
       "    .dataframe tbody tr th {\n",
       "        vertical-align: top;\n",
       "    }\n",
       "\n",
       "    .dataframe thead th {\n",
       "        text-align: right;\n",
       "    }\n",
       "</style>\n",
       "<table border=\"1\" class=\"dataframe\">\n",
       "  <thead>\n",
       "    <tr style=\"text-align: right;\">\n",
       "      <th></th>\n",
       "      <th>단지코드</th>\n",
       "      <th>총세대수</th>\n",
       "      <th>임대건물구분</th>\n",
       "      <th>지역</th>\n",
       "      <th>공급유형</th>\n",
       "      <th>전용면적</th>\n",
       "      <th>전용면적별세대수</th>\n",
       "      <th>공가수</th>\n",
       "      <th>자격유형</th>\n",
       "      <th>임대보증금</th>\n",
       "      <th>임대료</th>\n",
       "      <th>도보 10분거리 내 지하철역 수(환승노선 수 반영)</th>\n",
       "      <th>도보 10분거리 내 버스정류장 수</th>\n",
       "      <th>단지내주차면수</th>\n",
       "      <th>등록차량수</th>\n",
       "    </tr>\n",
       "  </thead>\n",
       "  <tbody>\n",
       "    <tr>\n",
       "      <th>88</th>\n",
       "      <td>C1925</td>\n",
       "      <td>601</td>\n",
       "      <td>상가</td>\n",
       "      <td>강원도</td>\n",
       "      <td>임대상가</td>\n",
       "      <td>32.10</td>\n",
       "      <td>1</td>\n",
       "      <td>9.0</td>\n",
       "      <td>D</td>\n",
       "      <td>NaN</td>\n",
       "      <td>NaN</td>\n",
       "      <td>0.0</td>\n",
       "      <td>4.0</td>\n",
       "      <td>117.0</td>\n",
       "      <td>75.0</td>\n",
       "    </tr>\n",
       "    <tr>\n",
       "      <th>89</th>\n",
       "      <td>C1925</td>\n",
       "      <td>601</td>\n",
       "      <td>상가</td>\n",
       "      <td>강원도</td>\n",
       "      <td>임대상가</td>\n",
       "      <td>32.10</td>\n",
       "      <td>1</td>\n",
       "      <td>9.0</td>\n",
       "      <td>D</td>\n",
       "      <td>NaN</td>\n",
       "      <td>NaN</td>\n",
       "      <td>0.0</td>\n",
       "      <td>4.0</td>\n",
       "      <td>117.0</td>\n",
       "      <td>75.0</td>\n",
       "    </tr>\n",
       "    <tr>\n",
       "      <th>90</th>\n",
       "      <td>C1925</td>\n",
       "      <td>601</td>\n",
       "      <td>상가</td>\n",
       "      <td>강원도</td>\n",
       "      <td>임대상가</td>\n",
       "      <td>32.10</td>\n",
       "      <td>1</td>\n",
       "      <td>9.0</td>\n",
       "      <td>D</td>\n",
       "      <td>NaN</td>\n",
       "      <td>NaN</td>\n",
       "      <td>0.0</td>\n",
       "      <td>4.0</td>\n",
       "      <td>117.0</td>\n",
       "      <td>75.0</td>\n",
       "    </tr>\n",
       "    <tr>\n",
       "      <th>91</th>\n",
       "      <td>C1925</td>\n",
       "      <td>601</td>\n",
       "      <td>상가</td>\n",
       "      <td>강원도</td>\n",
       "      <td>임대상가</td>\n",
       "      <td>72.16</td>\n",
       "      <td>1</td>\n",
       "      <td>9.0</td>\n",
       "      <td>D</td>\n",
       "      <td>NaN</td>\n",
       "      <td>NaN</td>\n",
       "      <td>0.0</td>\n",
       "      <td>4.0</td>\n",
       "      <td>117.0</td>\n",
       "      <td>75.0</td>\n",
       "    </tr>\n",
       "    <tr>\n",
       "      <th>101</th>\n",
       "      <td>C1874</td>\n",
       "      <td>619</td>\n",
       "      <td>상가</td>\n",
       "      <td>충청남도</td>\n",
       "      <td>임대상가</td>\n",
       "      <td>12.62</td>\n",
       "      <td>1</td>\n",
       "      <td>2.0</td>\n",
       "      <td>D</td>\n",
       "      <td>NaN</td>\n",
       "      <td>NaN</td>\n",
       "      <td>NaN</td>\n",
       "      <td>2.0</td>\n",
       "      <td>97.0</td>\n",
       "      <td>62.0</td>\n",
       "    </tr>\n",
       "    <tr>\n",
       "      <th>...</th>\n",
       "      <td>...</td>\n",
       "      <td>...</td>\n",
       "      <td>...</td>\n",
       "      <td>...</td>\n",
       "      <td>...</td>\n",
       "      <td>...</td>\n",
       "      <td>...</td>\n",
       "      <td>...</td>\n",
       "      <td>...</td>\n",
       "      <td>...</td>\n",
       "      <td>...</td>\n",
       "      <td>...</td>\n",
       "      <td>...</td>\n",
       "      <td>...</td>\n",
       "      <td>...</td>\n",
       "    </tr>\n",
       "    <tr>\n",
       "      <th>834</th>\n",
       "      <td>C2571</td>\n",
       "      <td>481</td>\n",
       "      <td>상가</td>\n",
       "      <td>경상남도</td>\n",
       "      <td>임대상가</td>\n",
       "      <td>31.84</td>\n",
       "      <td>1</td>\n",
       "      <td>5.0</td>\n",
       "      <td>D</td>\n",
       "      <td>NaN</td>\n",
       "      <td>NaN</td>\n",
       "      <td>0.0</td>\n",
       "      <td>1.0</td>\n",
       "      <td>65.0</td>\n",
       "      <td>62.0</td>\n",
       "    </tr>\n",
       "    <tr>\n",
       "      <th>835</th>\n",
       "      <td>C2571</td>\n",
       "      <td>481</td>\n",
       "      <td>상가</td>\n",
       "      <td>경상남도</td>\n",
       "      <td>임대상가</td>\n",
       "      <td>31.84</td>\n",
       "      <td>1</td>\n",
       "      <td>5.0</td>\n",
       "      <td>D</td>\n",
       "      <td>NaN</td>\n",
       "      <td>NaN</td>\n",
       "      <td>0.0</td>\n",
       "      <td>1.0</td>\n",
       "      <td>65.0</td>\n",
       "      <td>62.0</td>\n",
       "    </tr>\n",
       "    <tr>\n",
       "      <th>836</th>\n",
       "      <td>C2571</td>\n",
       "      <td>481</td>\n",
       "      <td>상가</td>\n",
       "      <td>경상남도</td>\n",
       "      <td>임대상가</td>\n",
       "      <td>31.84</td>\n",
       "      <td>1</td>\n",
       "      <td>5.0</td>\n",
       "      <td>D</td>\n",
       "      <td>NaN</td>\n",
       "      <td>NaN</td>\n",
       "      <td>0.0</td>\n",
       "      <td>1.0</td>\n",
       "      <td>65.0</td>\n",
       "      <td>62.0</td>\n",
       "    </tr>\n",
       "    <tr>\n",
       "      <th>837</th>\n",
       "      <td>C2571</td>\n",
       "      <td>481</td>\n",
       "      <td>상가</td>\n",
       "      <td>경상남도</td>\n",
       "      <td>임대상가</td>\n",
       "      <td>31.84</td>\n",
       "      <td>1</td>\n",
       "      <td>5.0</td>\n",
       "      <td>D</td>\n",
       "      <td>NaN</td>\n",
       "      <td>NaN</td>\n",
       "      <td>0.0</td>\n",
       "      <td>1.0</td>\n",
       "      <td>65.0</td>\n",
       "      <td>62.0</td>\n",
       "    </tr>\n",
       "    <tr>\n",
       "      <th>838</th>\n",
       "      <td>C2571</td>\n",
       "      <td>481</td>\n",
       "      <td>상가</td>\n",
       "      <td>경상남도</td>\n",
       "      <td>임대상가</td>\n",
       "      <td>126.65</td>\n",
       "      <td>1</td>\n",
       "      <td>5.0</td>\n",
       "      <td>D</td>\n",
       "      <td>NaN</td>\n",
       "      <td>NaN</td>\n",
       "      <td>0.0</td>\n",
       "      <td>1.0</td>\n",
       "      <td>65.0</td>\n",
       "      <td>62.0</td>\n",
       "    </tr>\n",
       "  </tbody>\n",
       "</table>\n",
       "<p>562 rows × 15 columns</p>\n",
       "</div>"
      ],
      "text/plain": [
       "      단지코드  총세대수 임대건물구분    지역  공급유형    전용면적  전용면적별세대수  공가수 자격유형 임대보증금  임대료  \\\n",
       "88   C1925   601     상가   강원도  임대상가   32.10         1  9.0    D   NaN  NaN   \n",
       "89   C1925   601     상가   강원도  임대상가   32.10         1  9.0    D   NaN  NaN   \n",
       "90   C1925   601     상가   강원도  임대상가   32.10         1  9.0    D   NaN  NaN   \n",
       "91   C1925   601     상가   강원도  임대상가   72.16         1  9.0    D   NaN  NaN   \n",
       "101  C1874   619     상가  충청남도  임대상가   12.62         1  2.0    D   NaN  NaN   \n",
       "..     ...   ...    ...   ...   ...     ...       ...  ...  ...   ...  ...   \n",
       "834  C2571   481     상가  경상남도  임대상가   31.84         1  5.0    D   NaN  NaN   \n",
       "835  C2571   481     상가  경상남도  임대상가   31.84         1  5.0    D   NaN  NaN   \n",
       "836  C2571   481     상가  경상남도  임대상가   31.84         1  5.0    D   NaN  NaN   \n",
       "837  C2571   481     상가  경상남도  임대상가   31.84         1  5.0    D   NaN  NaN   \n",
       "838  C2571   481     상가  경상남도  임대상가  126.65         1  5.0    D   NaN  NaN   \n",
       "\n",
       "     도보 10분거리 내 지하철역 수(환승노선 수 반영)  도보 10분거리 내 버스정류장 수  단지내주차면수  등록차량수  \n",
       "88                            0.0                 4.0    117.0   75.0  \n",
       "89                            0.0                 4.0    117.0   75.0  \n",
       "90                            0.0                 4.0    117.0   75.0  \n",
       "91                            0.0                 4.0    117.0   75.0  \n",
       "101                           NaN                 2.0     97.0   62.0  \n",
       "..                            ...                 ...      ...    ...  \n",
       "834                           0.0                 1.0     65.0   62.0  \n",
       "835                           0.0                 1.0     65.0   62.0  \n",
       "836                           0.0                 1.0     65.0   62.0  \n",
       "837                           0.0                 1.0     65.0   62.0  \n",
       "838                           0.0                 1.0     65.0   62.0  \n",
       "\n",
       "[562 rows x 15 columns]"
      ]
     },
     "execution_count": 16,
     "metadata": {},
     "output_type": "execute_result"
    }
   ],
   "source": [
    "train_df[train_df[\"임대건물구분\"] == \"상가\"]"
   ]
  },
  {
   "cell_type": "code",
   "execution_count": 17,
   "metadata": {
    "scrolled": true
   },
   "outputs": [
    {
     "data": {
      "text/html": [
       "<div>\n",
       "<style scoped>\n",
       "    .dataframe tbody tr th:only-of-type {\n",
       "        vertical-align: middle;\n",
       "    }\n",
       "\n",
       "    .dataframe tbody tr th {\n",
       "        vertical-align: top;\n",
       "    }\n",
       "\n",
       "    .dataframe thead th {\n",
       "        text-align: right;\n",
       "    }\n",
       "</style>\n",
       "<table border=\"1\" class=\"dataframe\">\n",
       "  <thead>\n",
       "    <tr style=\"text-align: right;\">\n",
       "      <th></th>\n",
       "      <th>단지코드</th>\n",
       "      <th>총세대수</th>\n",
       "      <th>임대건물구분</th>\n",
       "      <th>지역</th>\n",
       "      <th>공급유형</th>\n",
       "      <th>전용면적</th>\n",
       "      <th>전용면적별세대수</th>\n",
       "      <th>공가수</th>\n",
       "      <th>자격유형</th>\n",
       "      <th>임대보증금</th>\n",
       "      <th>임대료</th>\n",
       "      <th>도보 10분거리 내 지하철역 수(환승노선 수 반영)</th>\n",
       "      <th>도보 10분거리 내 버스정류장 수</th>\n",
       "      <th>단지내주차면수</th>\n",
       "      <th>등록차량수</th>\n",
       "    </tr>\n",
       "  </thead>\n",
       "  <tbody>\n",
       "    <tr>\n",
       "      <th>2043</th>\n",
       "      <td>C1397</td>\n",
       "      <td>370</td>\n",
       "      <td>아파트</td>\n",
       "      <td>서울특별시</td>\n",
       "      <td>장기전세</td>\n",
       "      <td>23.32</td>\n",
       "      <td>51</td>\n",
       "      <td>9.0</td>\n",
       "      <td>A</td>\n",
       "      <td>87444000</td>\n",
       "      <td>-</td>\n",
       "      <td>0.0</td>\n",
       "      <td>3.0</td>\n",
       "      <td>1590.0</td>\n",
       "      <td>1595.0</td>\n",
       "    </tr>\n",
       "    <tr>\n",
       "      <th>2044</th>\n",
       "      <td>C1397</td>\n",
       "      <td>370</td>\n",
       "      <td>아파트</td>\n",
       "      <td>서울특별시</td>\n",
       "      <td>장기전세</td>\n",
       "      <td>46.79</td>\n",
       "      <td>4</td>\n",
       "      <td>9.0</td>\n",
       "      <td>A</td>\n",
       "      <td>174888000</td>\n",
       "      <td>-</td>\n",
       "      <td>0.0</td>\n",
       "      <td>3.0</td>\n",
       "      <td>1590.0</td>\n",
       "      <td>1595.0</td>\n",
       "    </tr>\n",
       "    <tr>\n",
       "      <th>2045</th>\n",
       "      <td>C1397</td>\n",
       "      <td>370</td>\n",
       "      <td>아파트</td>\n",
       "      <td>서울특별시</td>\n",
       "      <td>장기전세</td>\n",
       "      <td>46.91</td>\n",
       "      <td>69</td>\n",
       "      <td>9.0</td>\n",
       "      <td>A</td>\n",
       "      <td>174888000</td>\n",
       "      <td>-</td>\n",
       "      <td>0.0</td>\n",
       "      <td>3.0</td>\n",
       "      <td>1590.0</td>\n",
       "      <td>1595.0</td>\n",
       "    </tr>\n",
       "    <tr>\n",
       "      <th>2046</th>\n",
       "      <td>C1397</td>\n",
       "      <td>370</td>\n",
       "      <td>아파트</td>\n",
       "      <td>서울특별시</td>\n",
       "      <td>장기전세</td>\n",
       "      <td>51.96</td>\n",
       "      <td>24</td>\n",
       "      <td>9.0</td>\n",
       "      <td>A</td>\n",
       "      <td>194562000</td>\n",
       "      <td>-</td>\n",
       "      <td>0.0</td>\n",
       "      <td>3.0</td>\n",
       "      <td>1590.0</td>\n",
       "      <td>1595.0</td>\n",
       "    </tr>\n",
       "    <tr>\n",
       "      <th>2047</th>\n",
       "      <td>C1397</td>\n",
       "      <td>370</td>\n",
       "      <td>아파트</td>\n",
       "      <td>서울특별시</td>\n",
       "      <td>장기전세</td>\n",
       "      <td>51.99</td>\n",
       "      <td>80</td>\n",
       "      <td>9.0</td>\n",
       "      <td>A</td>\n",
       "      <td>194562000</td>\n",
       "      <td>-</td>\n",
       "      <td>0.0</td>\n",
       "      <td>3.0</td>\n",
       "      <td>1590.0</td>\n",
       "      <td>1595.0</td>\n",
       "    </tr>\n",
       "    <tr>\n",
       "      <th>2048</th>\n",
       "      <td>C1397</td>\n",
       "      <td>370</td>\n",
       "      <td>아파트</td>\n",
       "      <td>서울특별시</td>\n",
       "      <td>장기전세</td>\n",
       "      <td>59.93</td>\n",
       "      <td>142</td>\n",
       "      <td>9.0</td>\n",
       "      <td>A</td>\n",
       "      <td>216423000</td>\n",
       "      <td>-</td>\n",
       "      <td>0.0</td>\n",
       "      <td>3.0</td>\n",
       "      <td>1590.0</td>\n",
       "      <td>1595.0</td>\n",
       "    </tr>\n",
       "    <tr>\n",
       "      <th>2100</th>\n",
       "      <td>C1039</td>\n",
       "      <td>790</td>\n",
       "      <td>아파트</td>\n",
       "      <td>서울특별시</td>\n",
       "      <td>장기전세</td>\n",
       "      <td>51.32</td>\n",
       "      <td>126</td>\n",
       "      <td>13.0</td>\n",
       "      <td>A</td>\n",
       "      <td>187694000</td>\n",
       "      <td>-</td>\n",
       "      <td>0.0</td>\n",
       "      <td>3.0</td>\n",
       "      <td>673.0</td>\n",
       "      <td>645.0</td>\n",
       "    </tr>\n",
       "    <tr>\n",
       "      <th>2101</th>\n",
       "      <td>C1039</td>\n",
       "      <td>790</td>\n",
       "      <td>아파트</td>\n",
       "      <td>서울특별시</td>\n",
       "      <td>장기전세</td>\n",
       "      <td>59.88</td>\n",
       "      <td>49</td>\n",
       "      <td>13.0</td>\n",
       "      <td>A</td>\n",
       "      <td>213863000</td>\n",
       "      <td>-</td>\n",
       "      <td>0.0</td>\n",
       "      <td>3.0</td>\n",
       "      <td>673.0</td>\n",
       "      <td>645.0</td>\n",
       "    </tr>\n",
       "    <tr>\n",
       "      <th>2102</th>\n",
       "      <td>C1039</td>\n",
       "      <td>790</td>\n",
       "      <td>아파트</td>\n",
       "      <td>서울특별시</td>\n",
       "      <td>장기전세</td>\n",
       "      <td>59.94</td>\n",
       "      <td>75</td>\n",
       "      <td>13.0</td>\n",
       "      <td>A</td>\n",
       "      <td>213863000</td>\n",
       "      <td>-</td>\n",
       "      <td>0.0</td>\n",
       "      <td>3.0</td>\n",
       "      <td>673.0</td>\n",
       "      <td>645.0</td>\n",
       "    </tr>\n",
       "    <tr>\n",
       "      <th>2547</th>\n",
       "      <td>C1326</td>\n",
       "      <td>1934</td>\n",
       "      <td>아파트</td>\n",
       "      <td>부산광역시</td>\n",
       "      <td>국민임대</td>\n",
       "      <td>24.72</td>\n",
       "      <td>472</td>\n",
       "      <td>43.0</td>\n",
       "      <td>H</td>\n",
       "      <td>-</td>\n",
       "      <td>-</td>\n",
       "      <td>0.0</td>\n",
       "      <td>4.0</td>\n",
       "      <td>1670.0</td>\n",
       "      <td>1153.0</td>\n",
       "    </tr>\n",
       "    <tr>\n",
       "      <th>2548</th>\n",
       "      <td>C1326</td>\n",
       "      <td>1934</td>\n",
       "      <td>아파트</td>\n",
       "      <td>부산광역시</td>\n",
       "      <td>국민임대</td>\n",
       "      <td>24.79</td>\n",
       "      <td>104</td>\n",
       "      <td>43.0</td>\n",
       "      <td>H</td>\n",
       "      <td>-</td>\n",
       "      <td>-</td>\n",
       "      <td>0.0</td>\n",
       "      <td>4.0</td>\n",
       "      <td>1670.0</td>\n",
       "      <td>1153.0</td>\n",
       "    </tr>\n",
       "    <tr>\n",
       "      <th>2549</th>\n",
       "      <td>C1326</td>\n",
       "      <td>1934</td>\n",
       "      <td>아파트</td>\n",
       "      <td>부산광역시</td>\n",
       "      <td>국민임대</td>\n",
       "      <td>26.83</td>\n",
       "      <td>590</td>\n",
       "      <td>43.0</td>\n",
       "      <td>H</td>\n",
       "      <td>-</td>\n",
       "      <td>-</td>\n",
       "      <td>0.0</td>\n",
       "      <td>4.0</td>\n",
       "      <td>1670.0</td>\n",
       "      <td>1153.0</td>\n",
       "    </tr>\n",
       "    <tr>\n",
       "      <th>2550</th>\n",
       "      <td>C1326</td>\n",
       "      <td>1934</td>\n",
       "      <td>아파트</td>\n",
       "      <td>부산광역시</td>\n",
       "      <td>국민임대</td>\n",
       "      <td>37.70</td>\n",
       "      <td>464</td>\n",
       "      <td>43.0</td>\n",
       "      <td>H</td>\n",
       "      <td>-</td>\n",
       "      <td>-</td>\n",
       "      <td>0.0</td>\n",
       "      <td>4.0</td>\n",
       "      <td>1670.0</td>\n",
       "      <td>1153.0</td>\n",
       "    </tr>\n",
       "    <tr>\n",
       "      <th>2551</th>\n",
       "      <td>C1326</td>\n",
       "      <td>1934</td>\n",
       "      <td>아파트</td>\n",
       "      <td>부산광역시</td>\n",
       "      <td>국민임대</td>\n",
       "      <td>46.94</td>\n",
       "      <td>304</td>\n",
       "      <td>43.0</td>\n",
       "      <td>H</td>\n",
       "      <td>-</td>\n",
       "      <td>-</td>\n",
       "      <td>0.0</td>\n",
       "      <td>4.0</td>\n",
       "      <td>1670.0</td>\n",
       "      <td>1153.0</td>\n",
       "    </tr>\n",
       "    <tr>\n",
       "      <th>2680</th>\n",
       "      <td>C1786</td>\n",
       "      <td>480</td>\n",
       "      <td>아파트</td>\n",
       "      <td>강원도</td>\n",
       "      <td>행복주택</td>\n",
       "      <td>16.91</td>\n",
       "      <td>156</td>\n",
       "      <td>25.0</td>\n",
       "      <td>K</td>\n",
       "      <td>-</td>\n",
       "      <td>-</td>\n",
       "      <td>0.0</td>\n",
       "      <td>3.0</td>\n",
       "      <td>338.0</td>\n",
       "      <td>345.0</td>\n",
       "    </tr>\n",
       "    <tr>\n",
       "      <th>2681</th>\n",
       "      <td>C1786</td>\n",
       "      <td>480</td>\n",
       "      <td>아파트</td>\n",
       "      <td>강원도</td>\n",
       "      <td>행복주택</td>\n",
       "      <td>26.90</td>\n",
       "      <td>136</td>\n",
       "      <td>25.0</td>\n",
       "      <td>K</td>\n",
       "      <td>-</td>\n",
       "      <td>-</td>\n",
       "      <td>0.0</td>\n",
       "      <td>3.0</td>\n",
       "      <td>338.0</td>\n",
       "      <td>345.0</td>\n",
       "    </tr>\n",
       "    <tr>\n",
       "      <th>2682</th>\n",
       "      <td>C1786</td>\n",
       "      <td>480</td>\n",
       "      <td>아파트</td>\n",
       "      <td>강원도</td>\n",
       "      <td>행복주택</td>\n",
       "      <td>26.90</td>\n",
       "      <td>72</td>\n",
       "      <td>25.0</td>\n",
       "      <td>K</td>\n",
       "      <td>-</td>\n",
       "      <td>-</td>\n",
       "      <td>0.0</td>\n",
       "      <td>3.0</td>\n",
       "      <td>338.0</td>\n",
       "      <td>345.0</td>\n",
       "    </tr>\n",
       "    <tr>\n",
       "      <th>2683</th>\n",
       "      <td>C1786</td>\n",
       "      <td>480</td>\n",
       "      <td>아파트</td>\n",
       "      <td>강원도</td>\n",
       "      <td>행복주택</td>\n",
       "      <td>26.90</td>\n",
       "      <td>24</td>\n",
       "      <td>25.0</td>\n",
       "      <td>K</td>\n",
       "      <td>-</td>\n",
       "      <td>-</td>\n",
       "      <td>0.0</td>\n",
       "      <td>3.0</td>\n",
       "      <td>338.0</td>\n",
       "      <td>345.0</td>\n",
       "    </tr>\n",
       "    <tr>\n",
       "      <th>2906</th>\n",
       "      <td>C2186</td>\n",
       "      <td>924</td>\n",
       "      <td>아파트</td>\n",
       "      <td>대구광역시</td>\n",
       "      <td>국민임대</td>\n",
       "      <td>29.17</td>\n",
       "      <td>238</td>\n",
       "      <td>0.0</td>\n",
       "      <td>H</td>\n",
       "      <td>-</td>\n",
       "      <td>-</td>\n",
       "      <td>0.0</td>\n",
       "      <td>8.0</td>\n",
       "      <td>664.0</td>\n",
       "      <td>744.0</td>\n",
       "    </tr>\n",
       "    <tr>\n",
       "      <th>2907</th>\n",
       "      <td>C2186</td>\n",
       "      <td>924</td>\n",
       "      <td>아파트</td>\n",
       "      <td>대구광역시</td>\n",
       "      <td>국민임대</td>\n",
       "      <td>29.34</td>\n",
       "      <td>38</td>\n",
       "      <td>0.0</td>\n",
       "      <td>H</td>\n",
       "      <td>-</td>\n",
       "      <td>-</td>\n",
       "      <td>0.0</td>\n",
       "      <td>8.0</td>\n",
       "      <td>664.0</td>\n",
       "      <td>744.0</td>\n",
       "    </tr>\n",
       "    <tr>\n",
       "      <th>2908</th>\n",
       "      <td>C2186</td>\n",
       "      <td>924</td>\n",
       "      <td>아파트</td>\n",
       "      <td>대구광역시</td>\n",
       "      <td>국민임대</td>\n",
       "      <td>37.43</td>\n",
       "      <td>220</td>\n",
       "      <td>0.0</td>\n",
       "      <td>H</td>\n",
       "      <td>-</td>\n",
       "      <td>-</td>\n",
       "      <td>0.0</td>\n",
       "      <td>8.0</td>\n",
       "      <td>664.0</td>\n",
       "      <td>744.0</td>\n",
       "    </tr>\n",
       "  </tbody>\n",
       "</table>\n",
       "</div>"
      ],
      "text/plain": [
       "       단지코드  총세대수 임대건물구분     지역  공급유형   전용면적  전용면적별세대수   공가수 자격유형      임대보증금  \\\n",
       "2043  C1397   370    아파트  서울특별시  장기전세  23.32        51   9.0    A   87444000   \n",
       "2044  C1397   370    아파트  서울특별시  장기전세  46.79         4   9.0    A  174888000   \n",
       "2045  C1397   370    아파트  서울특별시  장기전세  46.91        69   9.0    A  174888000   \n",
       "2046  C1397   370    아파트  서울특별시  장기전세  51.96        24   9.0    A  194562000   \n",
       "2047  C1397   370    아파트  서울특별시  장기전세  51.99        80   9.0    A  194562000   \n",
       "2048  C1397   370    아파트  서울특별시  장기전세  59.93       142   9.0    A  216423000   \n",
       "2100  C1039   790    아파트  서울특별시  장기전세  51.32       126  13.0    A  187694000   \n",
       "2101  C1039   790    아파트  서울특별시  장기전세  59.88        49  13.0    A  213863000   \n",
       "2102  C1039   790    아파트  서울특별시  장기전세  59.94        75  13.0    A  213863000   \n",
       "2547  C1326  1934    아파트  부산광역시  국민임대  24.72       472  43.0    H          -   \n",
       "2548  C1326  1934    아파트  부산광역시  국민임대  24.79       104  43.0    H          -   \n",
       "2549  C1326  1934    아파트  부산광역시  국민임대  26.83       590  43.0    H          -   \n",
       "2550  C1326  1934    아파트  부산광역시  국민임대  37.70       464  43.0    H          -   \n",
       "2551  C1326  1934    아파트  부산광역시  국민임대  46.94       304  43.0    H          -   \n",
       "2680  C1786   480    아파트    강원도  행복주택  16.91       156  25.0    K          -   \n",
       "2681  C1786   480    아파트    강원도  행복주택  26.90       136  25.0    K          -   \n",
       "2682  C1786   480    아파트    강원도  행복주택  26.90        72  25.0    K          -   \n",
       "2683  C1786   480    아파트    강원도  행복주택  26.90        24  25.0    K          -   \n",
       "2906  C2186   924    아파트  대구광역시  국민임대  29.17       238   0.0    H          -   \n",
       "2907  C2186   924    아파트  대구광역시  국민임대  29.34        38   0.0    H          -   \n",
       "2908  C2186   924    아파트  대구광역시  국민임대  37.43       220   0.0    H          -   \n",
       "\n",
       "     임대료  도보 10분거리 내 지하철역 수(환승노선 수 반영)  도보 10분거리 내 버스정류장 수  단지내주차면수   등록차량수  \n",
       "2043   -                           0.0                 3.0   1590.0  1595.0  \n",
       "2044   -                           0.0                 3.0   1590.0  1595.0  \n",
       "2045   -                           0.0                 3.0   1590.0  1595.0  \n",
       "2046   -                           0.0                 3.0   1590.0  1595.0  \n",
       "2047   -                           0.0                 3.0   1590.0  1595.0  \n",
       "2048   -                           0.0                 3.0   1590.0  1595.0  \n",
       "2100   -                           0.0                 3.0    673.0   645.0  \n",
       "2101   -                           0.0                 3.0    673.0   645.0  \n",
       "2102   -                           0.0                 3.0    673.0   645.0  \n",
       "2547   -                           0.0                 4.0   1670.0  1153.0  \n",
       "2548   -                           0.0                 4.0   1670.0  1153.0  \n",
       "2549   -                           0.0                 4.0   1670.0  1153.0  \n",
       "2550   -                           0.0                 4.0   1670.0  1153.0  \n",
       "2551   -                           0.0                 4.0   1670.0  1153.0  \n",
       "2680   -                           0.0                 3.0    338.0   345.0  \n",
       "2681   -                           0.0                 3.0    338.0   345.0  \n",
       "2682   -                           0.0                 3.0    338.0   345.0  \n",
       "2683   -                           0.0                 3.0    338.0   345.0  \n",
       "2906   -                           0.0                 8.0    664.0   744.0  \n",
       "2907   -                           0.0                 8.0    664.0   744.0  \n",
       "2908   -                           0.0                 8.0    664.0   744.0  "
      ]
     },
     "execution_count": 17,
     "metadata": {},
     "output_type": "execute_result"
    }
   ],
   "source": [
    "train_df[train_df[\"임대료\"]==\"-\"]"
   ]
  },
  {
   "cell_type": "code",
   "execution_count": 18,
   "metadata": {
    "scrolled": true
   },
   "outputs": [
    {
     "data": {
      "text/html": [
       "<div>\n",
       "<style scoped>\n",
       "    .dataframe tbody tr th:only-of-type {\n",
       "        vertical-align: middle;\n",
       "    }\n",
       "\n",
       "    .dataframe tbody tr th {\n",
       "        vertical-align: top;\n",
       "    }\n",
       "\n",
       "    .dataframe thead th {\n",
       "        text-align: right;\n",
       "    }\n",
       "</style>\n",
       "<table border=\"1\" class=\"dataframe\">\n",
       "  <thead>\n",
       "    <tr style=\"text-align: right;\">\n",
       "      <th></th>\n",
       "      <th>단지코드</th>\n",
       "      <th>총세대수</th>\n",
       "      <th>임대건물구분</th>\n",
       "      <th>지역</th>\n",
       "      <th>공급유형</th>\n",
       "      <th>전용면적</th>\n",
       "      <th>전용면적별세대수</th>\n",
       "      <th>공가수</th>\n",
       "      <th>자격유형</th>\n",
       "      <th>임대보증금</th>\n",
       "      <th>임대료</th>\n",
       "      <th>도보 10분거리 내 지하철역 수(환승노선 수 반영)</th>\n",
       "      <th>도보 10분거리 내 버스정류장 수</th>\n",
       "      <th>단지내주차면수</th>\n",
       "      <th>등록차량수</th>\n",
       "    </tr>\n",
       "  </thead>\n",
       "  <tbody>\n",
       "    <tr>\n",
       "      <th>2547</th>\n",
       "      <td>C1326</td>\n",
       "      <td>1934</td>\n",
       "      <td>아파트</td>\n",
       "      <td>부산광역시</td>\n",
       "      <td>국민임대</td>\n",
       "      <td>24.72</td>\n",
       "      <td>472</td>\n",
       "      <td>43.0</td>\n",
       "      <td>H</td>\n",
       "      <td>-</td>\n",
       "      <td>-</td>\n",
       "      <td>0.0</td>\n",
       "      <td>4.0</td>\n",
       "      <td>1670.0</td>\n",
       "      <td>1153.0</td>\n",
       "    </tr>\n",
       "    <tr>\n",
       "      <th>2548</th>\n",
       "      <td>C1326</td>\n",
       "      <td>1934</td>\n",
       "      <td>아파트</td>\n",
       "      <td>부산광역시</td>\n",
       "      <td>국민임대</td>\n",
       "      <td>24.79</td>\n",
       "      <td>104</td>\n",
       "      <td>43.0</td>\n",
       "      <td>H</td>\n",
       "      <td>-</td>\n",
       "      <td>-</td>\n",
       "      <td>0.0</td>\n",
       "      <td>4.0</td>\n",
       "      <td>1670.0</td>\n",
       "      <td>1153.0</td>\n",
       "    </tr>\n",
       "    <tr>\n",
       "      <th>2549</th>\n",
       "      <td>C1326</td>\n",
       "      <td>1934</td>\n",
       "      <td>아파트</td>\n",
       "      <td>부산광역시</td>\n",
       "      <td>국민임대</td>\n",
       "      <td>26.83</td>\n",
       "      <td>590</td>\n",
       "      <td>43.0</td>\n",
       "      <td>H</td>\n",
       "      <td>-</td>\n",
       "      <td>-</td>\n",
       "      <td>0.0</td>\n",
       "      <td>4.0</td>\n",
       "      <td>1670.0</td>\n",
       "      <td>1153.0</td>\n",
       "    </tr>\n",
       "    <tr>\n",
       "      <th>2550</th>\n",
       "      <td>C1326</td>\n",
       "      <td>1934</td>\n",
       "      <td>아파트</td>\n",
       "      <td>부산광역시</td>\n",
       "      <td>국민임대</td>\n",
       "      <td>37.70</td>\n",
       "      <td>464</td>\n",
       "      <td>43.0</td>\n",
       "      <td>H</td>\n",
       "      <td>-</td>\n",
       "      <td>-</td>\n",
       "      <td>0.0</td>\n",
       "      <td>4.0</td>\n",
       "      <td>1670.0</td>\n",
       "      <td>1153.0</td>\n",
       "    </tr>\n",
       "    <tr>\n",
       "      <th>2551</th>\n",
       "      <td>C1326</td>\n",
       "      <td>1934</td>\n",
       "      <td>아파트</td>\n",
       "      <td>부산광역시</td>\n",
       "      <td>국민임대</td>\n",
       "      <td>46.94</td>\n",
       "      <td>304</td>\n",
       "      <td>43.0</td>\n",
       "      <td>H</td>\n",
       "      <td>-</td>\n",
       "      <td>-</td>\n",
       "      <td>0.0</td>\n",
       "      <td>4.0</td>\n",
       "      <td>1670.0</td>\n",
       "      <td>1153.0</td>\n",
       "    </tr>\n",
       "    <tr>\n",
       "      <th>2680</th>\n",
       "      <td>C1786</td>\n",
       "      <td>480</td>\n",
       "      <td>아파트</td>\n",
       "      <td>강원도</td>\n",
       "      <td>행복주택</td>\n",
       "      <td>16.91</td>\n",
       "      <td>156</td>\n",
       "      <td>25.0</td>\n",
       "      <td>K</td>\n",
       "      <td>-</td>\n",
       "      <td>-</td>\n",
       "      <td>0.0</td>\n",
       "      <td>3.0</td>\n",
       "      <td>338.0</td>\n",
       "      <td>345.0</td>\n",
       "    </tr>\n",
       "    <tr>\n",
       "      <th>2681</th>\n",
       "      <td>C1786</td>\n",
       "      <td>480</td>\n",
       "      <td>아파트</td>\n",
       "      <td>강원도</td>\n",
       "      <td>행복주택</td>\n",
       "      <td>26.90</td>\n",
       "      <td>136</td>\n",
       "      <td>25.0</td>\n",
       "      <td>K</td>\n",
       "      <td>-</td>\n",
       "      <td>-</td>\n",
       "      <td>0.0</td>\n",
       "      <td>3.0</td>\n",
       "      <td>338.0</td>\n",
       "      <td>345.0</td>\n",
       "    </tr>\n",
       "    <tr>\n",
       "      <th>2682</th>\n",
       "      <td>C1786</td>\n",
       "      <td>480</td>\n",
       "      <td>아파트</td>\n",
       "      <td>강원도</td>\n",
       "      <td>행복주택</td>\n",
       "      <td>26.90</td>\n",
       "      <td>72</td>\n",
       "      <td>25.0</td>\n",
       "      <td>K</td>\n",
       "      <td>-</td>\n",
       "      <td>-</td>\n",
       "      <td>0.0</td>\n",
       "      <td>3.0</td>\n",
       "      <td>338.0</td>\n",
       "      <td>345.0</td>\n",
       "    </tr>\n",
       "    <tr>\n",
       "      <th>2683</th>\n",
       "      <td>C1786</td>\n",
       "      <td>480</td>\n",
       "      <td>아파트</td>\n",
       "      <td>강원도</td>\n",
       "      <td>행복주택</td>\n",
       "      <td>26.90</td>\n",
       "      <td>24</td>\n",
       "      <td>25.0</td>\n",
       "      <td>K</td>\n",
       "      <td>-</td>\n",
       "      <td>-</td>\n",
       "      <td>0.0</td>\n",
       "      <td>3.0</td>\n",
       "      <td>338.0</td>\n",
       "      <td>345.0</td>\n",
       "    </tr>\n",
       "    <tr>\n",
       "      <th>2906</th>\n",
       "      <td>C2186</td>\n",
       "      <td>924</td>\n",
       "      <td>아파트</td>\n",
       "      <td>대구광역시</td>\n",
       "      <td>국민임대</td>\n",
       "      <td>29.17</td>\n",
       "      <td>238</td>\n",
       "      <td>0.0</td>\n",
       "      <td>H</td>\n",
       "      <td>-</td>\n",
       "      <td>-</td>\n",
       "      <td>0.0</td>\n",
       "      <td>8.0</td>\n",
       "      <td>664.0</td>\n",
       "      <td>744.0</td>\n",
       "    </tr>\n",
       "    <tr>\n",
       "      <th>2907</th>\n",
       "      <td>C2186</td>\n",
       "      <td>924</td>\n",
       "      <td>아파트</td>\n",
       "      <td>대구광역시</td>\n",
       "      <td>국민임대</td>\n",
       "      <td>29.34</td>\n",
       "      <td>38</td>\n",
       "      <td>0.0</td>\n",
       "      <td>H</td>\n",
       "      <td>-</td>\n",
       "      <td>-</td>\n",
       "      <td>0.0</td>\n",
       "      <td>8.0</td>\n",
       "      <td>664.0</td>\n",
       "      <td>744.0</td>\n",
       "    </tr>\n",
       "    <tr>\n",
       "      <th>2908</th>\n",
       "      <td>C2186</td>\n",
       "      <td>924</td>\n",
       "      <td>아파트</td>\n",
       "      <td>대구광역시</td>\n",
       "      <td>국민임대</td>\n",
       "      <td>37.43</td>\n",
       "      <td>220</td>\n",
       "      <td>0.0</td>\n",
       "      <td>H</td>\n",
       "      <td>-</td>\n",
       "      <td>-</td>\n",
       "      <td>0.0</td>\n",
       "      <td>8.0</td>\n",
       "      <td>664.0</td>\n",
       "      <td>744.0</td>\n",
       "    </tr>\n",
       "  </tbody>\n",
       "</table>\n",
       "</div>"
      ],
      "text/plain": [
       "       단지코드  총세대수 임대건물구분     지역  공급유형   전용면적  전용면적별세대수   공가수 자격유형 임대보증금 임대료  \\\n",
       "2547  C1326  1934    아파트  부산광역시  국민임대  24.72       472  43.0    H     -   -   \n",
       "2548  C1326  1934    아파트  부산광역시  국민임대  24.79       104  43.0    H     -   -   \n",
       "2549  C1326  1934    아파트  부산광역시  국민임대  26.83       590  43.0    H     -   -   \n",
       "2550  C1326  1934    아파트  부산광역시  국민임대  37.70       464  43.0    H     -   -   \n",
       "2551  C1326  1934    아파트  부산광역시  국민임대  46.94       304  43.0    H     -   -   \n",
       "2680  C1786   480    아파트    강원도  행복주택  16.91       156  25.0    K     -   -   \n",
       "2681  C1786   480    아파트    강원도  행복주택  26.90       136  25.0    K     -   -   \n",
       "2682  C1786   480    아파트    강원도  행복주택  26.90        72  25.0    K     -   -   \n",
       "2683  C1786   480    아파트    강원도  행복주택  26.90        24  25.0    K     -   -   \n",
       "2906  C2186   924    아파트  대구광역시  국민임대  29.17       238   0.0    H     -   -   \n",
       "2907  C2186   924    아파트  대구광역시  국민임대  29.34        38   0.0    H     -   -   \n",
       "2908  C2186   924    아파트  대구광역시  국민임대  37.43       220   0.0    H     -   -   \n",
       "\n",
       "      도보 10분거리 내 지하철역 수(환승노선 수 반영)  도보 10분거리 내 버스정류장 수  단지내주차면수   등록차량수  \n",
       "2547                           0.0                 4.0   1670.0  1153.0  \n",
       "2548                           0.0                 4.0   1670.0  1153.0  \n",
       "2549                           0.0                 4.0   1670.0  1153.0  \n",
       "2550                           0.0                 4.0   1670.0  1153.0  \n",
       "2551                           0.0                 4.0   1670.0  1153.0  \n",
       "2680                           0.0                 3.0    338.0   345.0  \n",
       "2681                           0.0                 3.0    338.0   345.0  \n",
       "2682                           0.0                 3.0    338.0   345.0  \n",
       "2683                           0.0                 3.0    338.0   345.0  \n",
       "2906                           0.0                 8.0    664.0   744.0  \n",
       "2907                           0.0                 8.0    664.0   744.0  \n",
       "2908                           0.0                 8.0    664.0   744.0  "
      ]
     },
     "execution_count": 18,
     "metadata": {},
     "output_type": "execute_result"
    }
   ],
   "source": [
    "train_df[train_df[\"임대보증금\"]==\"-\"]"
   ]
  },
  {
   "cell_type": "markdown",
   "metadata": {},
   "source": [
    "\"임대건물\"이 \"상가\"인 경우는 임대료 전부 표기가 안됨.  \n",
    "\"임대건물\"이 \"아파트\"인 경우에도 임대료가 없으면 \"-\"으로 표기"
   ]
  },
  {
   "cell_type": "code",
   "execution_count": 19,
   "metadata": {},
   "outputs": [
    {
     "data": {
      "text/html": [
       "<div>\n",
       "<style scoped>\n",
       "    .dataframe tbody tr th:only-of-type {\n",
       "        vertical-align: middle;\n",
       "    }\n",
       "\n",
       "    .dataframe tbody tr th {\n",
       "        vertical-align: top;\n",
       "    }\n",
       "\n",
       "    .dataframe thead th {\n",
       "        text-align: right;\n",
       "    }\n",
       "</style>\n",
       "<table border=\"1\" class=\"dataframe\">\n",
       "  <thead>\n",
       "    <tr style=\"text-align: right;\">\n",
       "      <th></th>\n",
       "      <th>단지코드</th>\n",
       "      <th>총세대수</th>\n",
       "      <th>임대건물구분</th>\n",
       "      <th>지역</th>\n",
       "      <th>공급유형</th>\n",
       "      <th>전용면적</th>\n",
       "      <th>전용면적별세대수</th>\n",
       "      <th>공가수</th>\n",
       "      <th>자격유형</th>\n",
       "      <th>임대보증금</th>\n",
       "      <th>임대료</th>\n",
       "      <th>도보 10분거리 내 지하철역 수(환승노선 수 반영)</th>\n",
       "      <th>도보 10분거리 내 버스정류장 수</th>\n",
       "      <th>단지내주차면수</th>\n",
       "      <th>등록차량수</th>\n",
       "    </tr>\n",
       "  </thead>\n",
       "  <tbody>\n",
       "    <tr>\n",
       "      <th>94</th>\n",
       "      <td>C1312</td>\n",
       "      <td>518</td>\n",
       "      <td>아파트</td>\n",
       "      <td>충청남도</td>\n",
       "      <td>국민임대</td>\n",
       "      <td>39.72</td>\n",
       "      <td>60</td>\n",
       "      <td>12.0</td>\n",
       "      <td>A</td>\n",
       "      <td>17460000</td>\n",
       "      <td>122210</td>\n",
       "      <td>NaN</td>\n",
       "      <td>3.0</td>\n",
       "      <td>527.0</td>\n",
       "      <td>359.0</td>\n",
       "    </tr>\n",
       "    <tr>\n",
       "      <th>95</th>\n",
       "      <td>C1312</td>\n",
       "      <td>518</td>\n",
       "      <td>아파트</td>\n",
       "      <td>충청남도</td>\n",
       "      <td>국민임대</td>\n",
       "      <td>39.98</td>\n",
       "      <td>89</td>\n",
       "      <td>12.0</td>\n",
       "      <td>A</td>\n",
       "      <td>17460000</td>\n",
       "      <td>122210</td>\n",
       "      <td>NaN</td>\n",
       "      <td>3.0</td>\n",
       "      <td>527.0</td>\n",
       "      <td>359.0</td>\n",
       "    </tr>\n",
       "    <tr>\n",
       "      <th>96</th>\n",
       "      <td>C1312</td>\n",
       "      <td>518</td>\n",
       "      <td>아파트</td>\n",
       "      <td>충청남도</td>\n",
       "      <td>국민임대</td>\n",
       "      <td>41.55</td>\n",
       "      <td>225</td>\n",
       "      <td>12.0</td>\n",
       "      <td>A</td>\n",
       "      <td>19954000</td>\n",
       "      <td>130940</td>\n",
       "      <td>NaN</td>\n",
       "      <td>3.0</td>\n",
       "      <td>527.0</td>\n",
       "      <td>359.0</td>\n",
       "    </tr>\n",
       "    <tr>\n",
       "      <th>97</th>\n",
       "      <td>C1312</td>\n",
       "      <td>518</td>\n",
       "      <td>아파트</td>\n",
       "      <td>충청남도</td>\n",
       "      <td>국민임대</td>\n",
       "      <td>46.90</td>\n",
       "      <td>143</td>\n",
       "      <td>12.0</td>\n",
       "      <td>A</td>\n",
       "      <td>28687000</td>\n",
       "      <td>149660</td>\n",
       "      <td>NaN</td>\n",
       "      <td>3.0</td>\n",
       "      <td>527.0</td>\n",
       "      <td>359.0</td>\n",
       "    </tr>\n",
       "    <tr>\n",
       "      <th>98</th>\n",
       "      <td>C1874</td>\n",
       "      <td>619</td>\n",
       "      <td>아파트</td>\n",
       "      <td>충청남도</td>\n",
       "      <td>영구임대</td>\n",
       "      <td>26.37</td>\n",
       "      <td>294</td>\n",
       "      <td>2.0</td>\n",
       "      <td>C</td>\n",
       "      <td>3141000</td>\n",
       "      <td>69900</td>\n",
       "      <td>NaN</td>\n",
       "      <td>2.0</td>\n",
       "      <td>97.0</td>\n",
       "      <td>62.0</td>\n",
       "    </tr>\n",
       "    <tr>\n",
       "      <th>...</th>\n",
       "      <td>...</td>\n",
       "      <td>...</td>\n",
       "      <td>...</td>\n",
       "      <td>...</td>\n",
       "      <td>...</td>\n",
       "      <td>...</td>\n",
       "      <td>...</td>\n",
       "      <td>...</td>\n",
       "      <td>...</td>\n",
       "      <td>...</td>\n",
       "      <td>...</td>\n",
       "      <td>...</td>\n",
       "      <td>...</td>\n",
       "      <td>...</td>\n",
       "      <td>...</td>\n",
       "    </tr>\n",
       "    <tr>\n",
       "      <th>2339</th>\n",
       "      <td>C1350</td>\n",
       "      <td>1401</td>\n",
       "      <td>아파트</td>\n",
       "      <td>대전광역시</td>\n",
       "      <td>공공임대(10년)</td>\n",
       "      <td>59.91</td>\n",
       "      <td>13</td>\n",
       "      <td>2.0</td>\n",
       "      <td>A</td>\n",
       "      <td>37474000</td>\n",
       "      <td>519350</td>\n",
       "      <td>NaN</td>\n",
       "      <td>6.0</td>\n",
       "      <td>1636.0</td>\n",
       "      <td>2315.0</td>\n",
       "    </tr>\n",
       "    <tr>\n",
       "      <th>2340</th>\n",
       "      <td>C1350</td>\n",
       "      <td>1401</td>\n",
       "      <td>아파트</td>\n",
       "      <td>대전광역시</td>\n",
       "      <td>공공임대(10년)</td>\n",
       "      <td>59.92</td>\n",
       "      <td>223</td>\n",
       "      <td>2.0</td>\n",
       "      <td>A</td>\n",
       "      <td>37385000</td>\n",
       "      <td>516130</td>\n",
       "      <td>NaN</td>\n",
       "      <td>6.0</td>\n",
       "      <td>1636.0</td>\n",
       "      <td>2315.0</td>\n",
       "    </tr>\n",
       "    <tr>\n",
       "      <th>2341</th>\n",
       "      <td>C1350</td>\n",
       "      <td>1401</td>\n",
       "      <td>아파트</td>\n",
       "      <td>대전광역시</td>\n",
       "      <td>공공임대(분납)</td>\n",
       "      <td>51.99</td>\n",
       "      <td>146</td>\n",
       "      <td>2.0</td>\n",
       "      <td>A</td>\n",
       "      <td>54612000</td>\n",
       "      <td>131130</td>\n",
       "      <td>NaN</td>\n",
       "      <td>6.0</td>\n",
       "      <td>1636.0</td>\n",
       "      <td>2315.0</td>\n",
       "    </tr>\n",
       "    <tr>\n",
       "      <th>2342</th>\n",
       "      <td>C1350</td>\n",
       "      <td>1401</td>\n",
       "      <td>아파트</td>\n",
       "      <td>대전광역시</td>\n",
       "      <td>공공임대(분납)</td>\n",
       "      <td>59.91</td>\n",
       "      <td>32</td>\n",
       "      <td>2.0</td>\n",
       "      <td>A</td>\n",
       "      <td>63585000</td>\n",
       "      <td>152680</td>\n",
       "      <td>NaN</td>\n",
       "      <td>6.0</td>\n",
       "      <td>1636.0</td>\n",
       "      <td>2315.0</td>\n",
       "    </tr>\n",
       "    <tr>\n",
       "      <th>2343</th>\n",
       "      <td>C1350</td>\n",
       "      <td>1401</td>\n",
       "      <td>아파트</td>\n",
       "      <td>대전광역시</td>\n",
       "      <td>공공임대(분납)</td>\n",
       "      <td>59.92</td>\n",
       "      <td>170</td>\n",
       "      <td>2.0</td>\n",
       "      <td>A</td>\n",
       "      <td>63501000</td>\n",
       "      <td>152480</td>\n",
       "      <td>NaN</td>\n",
       "      <td>6.0</td>\n",
       "      <td>1636.0</td>\n",
       "      <td>2315.0</td>\n",
       "    </tr>\n",
       "  </tbody>\n",
       "</table>\n",
       "<p>211 rows × 15 columns</p>\n",
       "</div>"
      ],
      "text/plain": [
       "       단지코드  총세대수 임대건물구분     지역       공급유형   전용면적  전용면적별세대수   공가수 자격유형  \\\n",
       "94    C1312   518    아파트   충청남도       국민임대  39.72        60  12.0    A   \n",
       "95    C1312   518    아파트   충청남도       국민임대  39.98        89  12.0    A   \n",
       "96    C1312   518    아파트   충청남도       국민임대  41.55       225  12.0    A   \n",
       "97    C1312   518    아파트   충청남도       국민임대  46.90       143  12.0    A   \n",
       "98    C1874   619    아파트   충청남도       영구임대  26.37       294   2.0    C   \n",
       "...     ...   ...    ...    ...        ...    ...       ...   ...  ...   \n",
       "2339  C1350  1401    아파트  대전광역시  공공임대(10년)  59.91        13   2.0    A   \n",
       "2340  C1350  1401    아파트  대전광역시  공공임대(10년)  59.92       223   2.0    A   \n",
       "2341  C1350  1401    아파트  대전광역시   공공임대(분납)  51.99       146   2.0    A   \n",
       "2342  C1350  1401    아파트  대전광역시   공공임대(분납)  59.91        32   2.0    A   \n",
       "2343  C1350  1401    아파트  대전광역시   공공임대(분납)  59.92       170   2.0    A   \n",
       "\n",
       "         임대보증금     임대료  도보 10분거리 내 지하철역 수(환승노선 수 반영)  도보 10분거리 내 버스정류장 수  \\\n",
       "94    17460000  122210                           NaN                 3.0   \n",
       "95    17460000  122210                           NaN                 3.0   \n",
       "96    19954000  130940                           NaN                 3.0   \n",
       "97    28687000  149660                           NaN                 3.0   \n",
       "98     3141000   69900                           NaN                 2.0   \n",
       "...        ...     ...                           ...                 ...   \n",
       "2339  37474000  519350                           NaN                 6.0   \n",
       "2340  37385000  516130                           NaN                 6.0   \n",
       "2341  54612000  131130                           NaN                 6.0   \n",
       "2342  63585000  152680                           NaN                 6.0   \n",
       "2343  63501000  152480                           NaN                 6.0   \n",
       "\n",
       "      단지내주차면수   등록차량수  \n",
       "94      527.0   359.0  \n",
       "95      527.0   359.0  \n",
       "96      527.0   359.0  \n",
       "97      527.0   359.0  \n",
       "98       97.0    62.0  \n",
       "...       ...     ...  \n",
       "2339   1636.0  2315.0  \n",
       "2340   1636.0  2315.0  \n",
       "2341   1636.0  2315.0  \n",
       "2342   1636.0  2315.0  \n",
       "2343   1636.0  2315.0  \n",
       "\n",
       "[211 rows x 15 columns]"
      ]
     },
     "execution_count": 19,
     "metadata": {},
     "output_type": "execute_result"
    }
   ],
   "source": [
    "train_df[train_df[\"도보 10분거리 내 지하철역 수(환승노선 수 반영)\"].isnull()]"
   ]
  },
  {
   "cell_type": "code",
   "execution_count": 20,
   "metadata": {},
   "outputs": [
    {
     "data": {
      "text/html": [
       "<div>\n",
       "<style scoped>\n",
       "    .dataframe tbody tr th:only-of-type {\n",
       "        vertical-align: middle;\n",
       "    }\n",
       "\n",
       "    .dataframe tbody tr th {\n",
       "        vertical-align: top;\n",
       "    }\n",
       "\n",
       "    .dataframe thead th {\n",
       "        text-align: right;\n",
       "    }\n",
       "</style>\n",
       "<table border=\"1\" class=\"dataframe\">\n",
       "  <thead>\n",
       "    <tr style=\"text-align: right;\">\n",
       "      <th></th>\n",
       "      <th>단지코드</th>\n",
       "      <th>총세대수</th>\n",
       "      <th>임대건물구분</th>\n",
       "      <th>지역</th>\n",
       "      <th>공급유형</th>\n",
       "      <th>전용면적</th>\n",
       "      <th>전용면적별세대수</th>\n",
       "      <th>공가수</th>\n",
       "      <th>자격유형</th>\n",
       "      <th>임대보증금</th>\n",
       "      <th>임대료</th>\n",
       "      <th>도보 10분거리 내 지하철역 수(환승노선 수 반영)</th>\n",
       "      <th>도보 10분거리 내 버스정류장 수</th>\n",
       "      <th>단지내주차면수</th>\n",
       "      <th>등록차량수</th>\n",
       "    </tr>\n",
       "  </thead>\n",
       "  <tbody>\n",
       "    <tr>\n",
       "      <th>2315</th>\n",
       "      <td>C1649</td>\n",
       "      <td>575</td>\n",
       "      <td>아파트</td>\n",
       "      <td>경상남도</td>\n",
       "      <td>공공임대(10년)</td>\n",
       "      <td>74.97</td>\n",
       "      <td>80</td>\n",
       "      <td>15.0</td>\n",
       "      <td>A</td>\n",
       "      <td>46000000</td>\n",
       "      <td>456000</td>\n",
       "      <td>NaN</td>\n",
       "      <td>NaN</td>\n",
       "      <td>1066.0</td>\n",
       "      <td>855.0</td>\n",
       "    </tr>\n",
       "    <tr>\n",
       "      <th>2316</th>\n",
       "      <td>C1649</td>\n",
       "      <td>575</td>\n",
       "      <td>아파트</td>\n",
       "      <td>경상남도</td>\n",
       "      <td>공공임대(10년)</td>\n",
       "      <td>84.95</td>\n",
       "      <td>124</td>\n",
       "      <td>15.0</td>\n",
       "      <td>A</td>\n",
       "      <td>57000000</td>\n",
       "      <td>462000</td>\n",
       "      <td>NaN</td>\n",
       "      <td>NaN</td>\n",
       "      <td>1066.0</td>\n",
       "      <td>855.0</td>\n",
       "    </tr>\n",
       "    <tr>\n",
       "      <th>2317</th>\n",
       "      <td>C1649</td>\n",
       "      <td>575</td>\n",
       "      <td>아파트</td>\n",
       "      <td>경상남도</td>\n",
       "      <td>공공임대(10년)</td>\n",
       "      <td>84.96</td>\n",
       "      <td>289</td>\n",
       "      <td>15.0</td>\n",
       "      <td>A</td>\n",
       "      <td>57000000</td>\n",
       "      <td>462000</td>\n",
       "      <td>NaN</td>\n",
       "      <td>NaN</td>\n",
       "      <td>1066.0</td>\n",
       "      <td>855.0</td>\n",
       "    </tr>\n",
       "    <tr>\n",
       "      <th>2318</th>\n",
       "      <td>C1649</td>\n",
       "      <td>575</td>\n",
       "      <td>아파트</td>\n",
       "      <td>경상남도</td>\n",
       "      <td>공공임대(10년)</td>\n",
       "      <td>84.98</td>\n",
       "      <td>82</td>\n",
       "      <td>15.0</td>\n",
       "      <td>A</td>\n",
       "      <td>57000000</td>\n",
       "      <td>462000</td>\n",
       "      <td>NaN</td>\n",
       "      <td>NaN</td>\n",
       "      <td>1066.0</td>\n",
       "      <td>855.0</td>\n",
       "    </tr>\n",
       "  </tbody>\n",
       "</table>\n",
       "</div>"
      ],
      "text/plain": [
       "       단지코드  총세대수 임대건물구분    지역       공급유형   전용면적  전용면적별세대수   공가수 자격유형  \\\n",
       "2315  C1649   575    아파트  경상남도  공공임대(10년)  74.97        80  15.0    A   \n",
       "2316  C1649   575    아파트  경상남도  공공임대(10년)  84.95       124  15.0    A   \n",
       "2317  C1649   575    아파트  경상남도  공공임대(10년)  84.96       289  15.0    A   \n",
       "2318  C1649   575    아파트  경상남도  공공임대(10년)  84.98        82  15.0    A   \n",
       "\n",
       "         임대보증금     임대료  도보 10분거리 내 지하철역 수(환승노선 수 반영)  도보 10분거리 내 버스정류장 수  \\\n",
       "2315  46000000  456000                           NaN                 NaN   \n",
       "2316  57000000  462000                           NaN                 NaN   \n",
       "2317  57000000  462000                           NaN                 NaN   \n",
       "2318  57000000  462000                           NaN                 NaN   \n",
       "\n",
       "      단지내주차면수  등록차량수  \n",
       "2315   1066.0  855.0  \n",
       "2316   1066.0  855.0  \n",
       "2317   1066.0  855.0  \n",
       "2318   1066.0  855.0  "
      ]
     },
     "execution_count": 20,
     "metadata": {},
     "output_type": "execute_result"
    }
   ],
   "source": [
    "train_df[train_df[\"도보 10분거리 내 버스정류장 수\"].isnull()]"
   ]
  },
  {
   "cell_type": "markdown",
   "metadata": {},
   "source": [
    "# Find Correlation"
   ]
  },
  {
   "cell_type": "markdown",
   "metadata": {},
   "source": [
    "#### 총세대수 <-> 등록차량수"
   ]
  },
  {
   "cell_type": "code",
   "execution_count": 21,
   "metadata": {},
   "outputs": [],
   "source": [
    "house_holder_nums = []\n",
    "car_nums = []\n",
    "for ap_code in train_df['단지코드'].unique():\n",
    "    sample_vals = train_df[train_df[\"단지코드\"] == ap_code][[\"총세대수\",\"등록차량수\"]].values[0]\n",
    "    house_holder_nums.append(sample_vals[0])\n",
    "    car_nums.append(sample_vals[1])\n",
    "    \n",
    "house_holder_nums = np.array(house_holder_nums, dtype=np.int16)\n",
    "car_nums = np.array(car_nums, dtype=np.int16)"
   ]
  },
  {
   "cell_type": "code",
   "execution_count": 22,
   "metadata": {},
   "outputs": [
    {
     "data": {
      "image/png": "[encoded data removed]",
      "text/plain": [
       "<Figure size 432x288 with 1 Axes>"
      ]
     },
     "metadata": {
      "needs_background": "light"
     },
     "output_type": "display_data"
    }
   ],
   "source": [
    "fig = plt.figure()\n",
    "ax = fig.add_subplot(111)\n",
    "ax.scatter(house_holder_nums,car_nums)\n",
    "ax.set_xlabel(\"Number of HouseHolder\")\n",
    "ax.set_ylabel(\"Number of cars\")\n",
    "plt.show()"
   ]
  },
  {
   "cell_type": "markdown",
   "metadata": {},
   "source": [
    "대체로 비례하는 모습을 보임"
   ]
  },
  {
   "cell_type": "markdown",
   "metadata": {},
   "source": [
    "#### 전용면적 <-> 등록차량수"
   ]
  },
  {
   "cell_type": "code",
   "execution_count": 16,
   "metadata": {},
   "outputs": [
    {
     "data": {
      "image/png": "[encoded data removed]",
      "text/plain": [
       "<Figure size 432x288 with 1 Axes>"
      ]
     },
     "metadata": {
      "needs_background": "light"
     },
     "output_type": "display_data"
    }
   ],
   "source": [
    "use_space_arr = train_df[\"전용면적\"].values\n",
    "car_nums_arr = train_df[\"등록차량수\"].values\n",
    "\n",
    "fig = plt.figure()\n",
    "ax = fig.add_subplot(111)\n",
    "ax.scatter(use_space_arr,car_nums_arr)\n",
    "ax.set_xlabel(\"Use Space Area\")\n",
    "ax.set_ylabel(\"Number of cars\")\n",
    "plt.show()\n"
   ]
  },
  {
   "cell_type": "markdown",
   "metadata": {},
   "source": [
    "그나마 반비례?\n",
    "\n",
    "일정 범위안에 차량수가 넓게 분포되었다고 보는게 맞는 듯 하다\n",
    "\n",
    "사실 전용면적이 작다면 그만큼 세대수가 적다거나 그런 경우도 있으니 그런것과 더 상관도가 높다고 보는게 맞을 듯 하다"
   ]
  },
  {
   "cell_type": "markdown",
   "metadata": {},
   "source": [
    "#### 지역별 차량 대수 Boxplot & 지역별 인구 통계"
   ]
  },
  {
   "cell_type": "code",
   "execution_count": 17,
   "metadata": {
    "scrolled": true
   },
   "outputs": [
    {
     "data": {
      "image/png": "[encoded data removed]",
      "text/plain": [
       "<Figure size 1440x360 with 1 Axes>"
      ]
     },
     "metadata": {
      "needs_background": "light"
     },
     "output_type": "display_data"
    },
    {
     "data": {
      "image/png": "[encoded data removed]",
      "text/plain": [
       "<Figure size 1440x720 with 1 Axes>"
      ]
     },
     "metadata": {
      "needs_background": "light"
     },
     "output_type": "display_data"
    }
   ],
   "source": [
    "fig = plt.figure(figsize=(20,5))\n",
    "ax = fig.add_subplot(111)\n",
    "sns.boxplot(x=\"지역\", y=\"등록차량수\", data=train_df, ax=ax)\n",
    "plt.show()\n",
    "\n",
    "labels = age_gender_info_df['지역'].unique()\n",
    "width = 0.35       # the width of the bars: can also be len(x) sequence\n",
    "\n",
    "fig = plt.figure(figsize=(20,10))\n",
    "ax = fig.add_subplot(111)\n",
    "for col in age_gender_info_df.columns[1:]:\n",
    "    ax.bar(labels, age_gender_info_df[col].values, width, label=col)\n",
    "    \n",
    "ax.set_ylabel('Rate')\n",
    "ax.set_title('Demographics')\n",
    "plt.legend(bbox_to_anchor=(1.05, 1.0), loc=\"upper center\")\n",
    "\n",
    "plt.show()"
   ]
  },
  {
   "cell_type": "markdown",
   "metadata": {},
   "source": [
    "지역 별로 차량 대수 분포가 차이가 있기도 힘  \n",
    "인구분포가 더 유의미 할 것 같은?\n",
    "> 세종 시 인구 분포가 다른 분포와 유의미하게 달라보임\n",
    "\n",
    "그러나 위 그래프는 중복이 많은 형태 -> 중복을 최대한 제외하고 지역 특성과 차량 대수를 비교하려면?  \n",
    "(현재 같은 아파트여도 각 세대별 특성에 따라 중복되어있음 -> 세대별 특성을 제외시킨 데이터가 필요함)\n",
    "> 세대별 가중치를 주어서 분해 시도해보자\n",
    "\n",
    "가중치는? 현재는 복잡하게 분해는 어려울 듯 하다. -> 기초적인 방법으로 세대수를 나누어 보자 (즉 세대당 차량 수로 보고 비교해보자)"
   ]
  },
  {
   "cell_type": "code",
   "execution_count": 18,
   "metadata": {},
   "outputs": [
    {
     "data": {
      "image/png": "[encoded data removed]",
      "text/plain": [
       "<Figure size 1440x216 with 1 Axes>"
      ]
     },
     "metadata": {
      "needs_background": "light"
     },
     "output_type": "display_data"
    }
   ],
   "source": [
    "areas_arr = []\n",
    "car_num_by_household_arr = []\n",
    "for ap_code in train_df[\"단지코드\"].unique():\n",
    "    sample_df = train_df[train_df[\"단지코드\"]==ap_code]\n",
    "    tot_house_num = sample_df[\"총세대수\"].values[0] - sample_df[\"공가수\"].values[0]\n",
    "    cars_num = sample_df[\"등록차량수\"].values[0]\n",
    "    car_num_by_household = cars_num/tot_house_num\n",
    "    \n",
    "    areas_arr.append(sample_df[\"지역\"].values[0])\n",
    "    car_num_by_household_arr.append(car_num_by_household)\n",
    "    \n",
    "areas_arr = np.array(areas_arr)\n",
    "car_num_by_household_arr = np.array(car_num_by_household_arr)\n",
    "\n",
    "cars_num_by_household_by_area = {}\n",
    "\n",
    "# 지역별 평균 값을 보자\n",
    "for area_ in np.unique(areas_arr):\n",
    "    mean_val = car_num_by_household_arr[areas_arr==area_].mean()\n",
    "    cars_num_by_household_by_area[area_] = mean_val\n",
    "    \n",
    "lists = sorted(cars_num_by_household_by_area.items())\n",
    "x, y = zip(*lists)\n",
    "\n",
    "fig = plt.figure(figsize=(20,3))\n",
    "ax = fig.add_subplot(111)\n",
    "ax.plot(x, y)\n",
    "plt.show()"
   ]
  },
  {
   "cell_type": "markdown",
   "metadata": {},
   "source": [
    "대략 지역 별로 세대창 보유차량의 개수가 차이가 나는 듯 하다.  \n",
    "이대로 지역별 가중치로 사용하여도 될듯한데...\n",
    "\n",
    "나이, 세대 별로도 비슷한 방법 시도? -> 그러기에는 이미 지역별로 다 반영된듯한데...  \n",
    "그런데 인구 특성이 이미 지역의 키값에 묶여있는 것 자체가 독립적인 데이터로 활용하기에 큰 한계점이 있음  \n",
    "그나마? 인구 특성은 반대로 나머지 데이터 부분에 곱하는 방법과 같이..로 반영해야할 듯 하다.(이것도 해결책인지는 미지수) --> 쓸 방법은 추후에 더 고민을 해보아야겠음"
   ]
  },
  {
   "cell_type": "markdown",
   "metadata": {},
   "source": [
    "#### 임대건물 별 차량대수 Boxplot"
   ]
  },
  {
   "cell_type": "code",
   "execution_count": 19,
   "metadata": {},
   "outputs": [
    {
     "data": {
      "image/png": "[encoded data removed]",
      "text/plain": [
       "<Figure size 216x360 with 1 Axes>"
      ]
     },
     "metadata": {
      "needs_background": "light"
     },
     "output_type": "display_data"
    }
   ],
   "source": [
    "fig = plt.figure(figsize=(3,5))\n",
    "ax = fig.add_subplot(111)\n",
    "sns.boxplot(x=\"임대건물구분\", y=\"등록차량수\", data=train_df, ax=ax)\n",
    "plt.show()"
   ]
  },
  {
   "cell_type": "markdown",
   "metadata": {},
   "source": [
    "#### 공급유형 별 차량대수 Boxplot"
   ]
  },
  {
   "cell_type": "code",
   "execution_count": 20,
   "metadata": {},
   "outputs": [
    {
     "data": {
      "image/png": "[encoded data removed]",
      "text/plain": [
       "<Figure size 720x360 with 1 Axes>"
      ]
     },
     "metadata": {
      "needs_background": "light"
     },
     "output_type": "display_data"
    }
   ],
   "source": [
    "fig = plt.figure(figsize=(10,5))\n",
    "ax = fig.add_subplot(111)\n",
    "sns.boxplot(x=\"공급유형\", y=\"등록차량수\", data=train_df, ax=ax)\n",
    "plt.show()"
   ]
  },
  {
   "cell_type": "markdown",
   "metadata": {},
   "source": [
    "### 도보 10분거리 내 지하철역 수(환승노선 수 반영) <-> 차량대수"
   ]
  },
  {
   "cell_type": "code",
   "execution_count": 21,
   "metadata": {},
   "outputs": [],
   "source": [
    "subway_nums = []\n",
    "car_nums = []\n",
    "for ap_code in train_df['단지코드'].unique():\n",
    "    sample_vals = train_df[train_df[\"단지코드\"] == ap_code][[\"도보 10분거리 내 지하철역 수(환승노선 수 반영)\",\"등록차량수\"]].values[0]\n",
    "    subway_nums.append(sample_vals[0])\n",
    "    car_nums.append(sample_vals[1])\n",
    "    \n",
    "subway_nums = np.array(subway_nums)\n",
    "car_nums = np.array(car_nums)"
   ]
  },
  {
   "cell_type": "code",
   "execution_count": 22,
   "metadata": {},
   "outputs": [
    {
     "data": {
      "image/png": "[encoded data removed]",
      "text/plain": [
       "<Figure size 432x288 with 1 Axes>"
      ]
     },
     "metadata": {
      "needs_background": "light"
     },
     "output_type": "display_data"
    }
   ],
   "source": [
    "fig = plt.figure()\n",
    "ax = fig.add_subplot(111)\n",
    "ax.scatter(subway_nums,car_nums)\n",
    "ax.set_xlabel(\"Number of Subway in 10 minutes\")\n",
    "ax.set_ylabel(\"Number of cars\")\n",
    "plt.show()"
   ]
  },
  {
   "cell_type": "markdown",
   "metadata": {},
   "source": [
    "0에서 다양하게 분포한다라는 정보는 있음\n",
    "\n",
    "오히려 지하철의 개수가 주택 별 특징을 더 잘 담고 있다고 보는게 맞을수도?\n",
    "\n",
    "이 특성치도 가중치로 변환 시키자. (단지코드 안에서 공동이므로)"
   ]
  },
  {
   "cell_type": "code",
   "execution_count": 23,
   "metadata": {},
   "outputs": [],
   "source": [
    "import math\n",
    "metro_num_arr = []\n",
    "################################################# 세대별 구하는 파트 #################################################\n",
    "car_num_by_household_arr = []\n",
    "for ap_code in train_df[\"단지코드\"].unique():\n",
    "    sample_df = train_df[train_df[\"단지코드\"]==ap_code]\n",
    "    tot_house_num = sample_df[\"총세대수\"].values[0] - sample_df[\"공가수\"].values[0]\n",
    "    cars_num = sample_df[\"등록차량수\"].values[0]\n",
    "    car_num_by_household = cars_num/tot_house_num\n",
    "    car_num_by_household_arr.append(car_num_by_household)\n",
    "##################################################################################################################\n",
    "    \n",
    "    if math.isnan(sample_df[\"도보 10분거리 내 지하철역 수(환승노선 수 반영)\"].values[0]):\n",
    "        metro_num_arr.append(-1)\n",
    "    else:\n",
    "        metro_num_arr.append(sample_df[\"도보 10분거리 내 지하철역 수(환승노선 수 반영)\"].values[0])\n",
    "    \n",
    "metro_num_arr = np.array(metro_num_arr)\n",
    "car_num_by_household_arr = np.array(car_num_by_household_arr)\n",
    "\n",
    "cars_num_by_household_by_metro = {}"
   ]
  },
  {
   "cell_type": "code",
   "execution_count": 24,
   "metadata": {
    "scrolled": false
   },
   "outputs": [
    {
     "data": {
      "image/png": "[encoded data removed]",
      "text/plain": [
       "<Figure size 720x216 with 1 Axes>"
      ]
     },
     "metadata": {
      "needs_background": "light"
     },
     "output_type": "display_data"
    }
   ],
   "source": [
    "# 지하철 개수 별 평균 값을 보자\n",
    "for metro_num_ in np.unique(metro_num_arr):\n",
    "    mean_val = car_num_by_household_arr[metro_num_arr==metro_num_].mean()\n",
    "    cars_num_by_household_by_metro[metro_num_] = mean_val\n",
    "    \n",
    "lists = sorted(cars_num_by_household_by_metro.items())\n",
    "x, y = zip(*lists)\n",
    "\n",
    "fig = plt.figure(figsize=(10,3))\n",
    "ax = fig.add_subplot(111)\n",
    "ax.plot(x, y)\n",
    "plt.show()"
   ]
  },
  {
   "cell_type": "markdown",
   "metadata": {},
   "source": [
    "#### 도보 10분거리 내 버스정류장 수 <-> 차량대수"
   ]
  },
  {
   "cell_type": "code",
   "execution_count": 25,
   "metadata": {},
   "outputs": [],
   "source": [
    "bus_nums = []\n",
    "car_nums = []\n",
    "for ap_code in train_df['단지코드'].unique():\n",
    "    sample_vals = train_df[train_df[\"단지코드\"] == ap_code][[\"도보 10분거리 내 버스정류장 수\",\"등록차량수\"]].values[0]\n",
    "    bus_nums.append(sample_vals[0])\n",
    "    car_nums.append(sample_vals[1])\n",
    "    \n",
    "bus_nums = np.array(bus_nums)\n",
    "car_nums = np.array(car_nums)"
   ]
  },
  {
   "cell_type": "code",
   "execution_count": 26,
   "metadata": {},
   "outputs": [
    {
     "data": {
      "image/png": "[encoded data removed]",
      "text/plain": [
       "<Figure size 432x288 with 1 Axes>"
      ]
     },
     "metadata": {
      "needs_background": "light"
     },
     "output_type": "display_data"
    }
   ],
   "source": [
    "fig = plt.figure()\n",
    "ax = fig.add_subplot(111)\n",
    "ax.scatter(bus_nums,car_nums)\n",
    "ax.set_xlabel(\"Number of Bus in 10 minutes\")\n",
    "ax.set_ylabel(\"Number of cars\")\n",
    "plt.show()"
   ]
  },
  {
   "cell_type": "markdown",
   "metadata": {},
   "source": [
    "지하철보다는 아니지만, 지하철과 마찬가지일 확률이 있다\n",
    "\n",
    "버스 정류장 개수가 대다수 비슷하다고 보는게 더 맞을 듯 하다\n",
    "\n",
    "마찬가지로 버스별로 나누어보자"
   ]
  },
  {
   "cell_type": "code",
   "execution_count": 27,
   "metadata": {},
   "outputs": [
    {
     "data": {
      "image/png": "[encoded data removed]",
      "text/plain": [
       "<Figure size 720x216 with 1 Axes>"
      ]
     },
     "metadata": {
      "needs_background": "light"
     },
     "output_type": "display_data"
    }
   ],
   "source": [
    "bus_num_arr = []\n",
    "################################################# 세대별 구하는 파트 #################################################\n",
    "car_num_by_household_arr = []\n",
    "for ap_code in train_df[\"단지코드\"].unique():\n",
    "    sample_df = train_df[train_df[\"단지코드\"]==ap_code]\n",
    "    tot_house_num = sample_df[\"총세대수\"].values[0] - sample_df[\"공가수\"].values[0]\n",
    "    cars_num = sample_df[\"등록차량수\"].values[0]\n",
    "    car_num_by_household = cars_num/tot_house_num\n",
    "    car_num_by_household_arr.append(car_num_by_household)\n",
    "##################################################################################################################\n",
    "    \n",
    "    if math.isnan(sample_df[\"도보 10분거리 내 버스정류장 수\"].values[0]):\n",
    "        bus_num_arr.append(-1)\n",
    "    else:\n",
    "        bus_num_arr.append(sample_df[\"도보 10분거리 내 버스정류장 수\"].values[0])\n",
    "    \n",
    "bus_num_arr = np.array(bus_num_arr)\n",
    "car_num_by_household_arr = np.array(car_num_by_household_arr)\n",
    "\n",
    "cars_num_by_household_by_bus = {}\n",
    "\n",
    "# 버스 개수 별 평균 값을 보자\n",
    "for bus_num_ in np.unique(bus_num_arr):\n",
    "    mean_val = car_num_by_household_arr[bus_num_arr==bus_num_].mean()\n",
    "    cars_num_by_household_by_bus[bus_num_] = mean_val\n",
    "    \n",
    "lists = sorted(cars_num_by_household_by_bus.items())\n",
    "x, y = zip(*lists)\n",
    "\n",
    "fig = plt.figure(figsize=(10,3))\n",
    "ax = fig.add_subplot(111)\n",
    "ax.plot(x, y)\n",
    "plt.show()"
   ]
  },
  {
   "cell_type": "code",
   "execution_count": 28,
   "metadata": {},
   "outputs": [
    {
     "data": {
      "text/plain": [
       "dict_keys([-1.0, 0.0, 1.0, 2.0, 3.0, 4.0, 5.0, 6.0, 7.0, 8.0, 10.0, 11.0, 12.0, 14.0, 15.0, 16.0, 19.0, 20.0])"
      ]
     },
     "execution_count": 28,
     "metadata": {},
     "output_type": "execute_result"
    }
   ],
   "source": [
    "cars_num_by_household_by_bus.keys()"
   ]
  },
  {
   "cell_type": "markdown",
   "metadata": {},
   "source": [
    "#### 단지내주차면수와 차량대수간의 관계\n",
    "\n",
    "마찬가지로 가중치값으로 변환"
   ]
  },
  {
   "cell_type": "code",
   "execution_count": 32,
   "metadata": {},
   "outputs": [
    {
     "data": {
      "image/png": "[encoded data removed]",
      "text/plain": [
       "<Figure size 360x360 with 1 Axes>"
      ]
     },
     "metadata": {
      "needs_background": "light"
     },
     "output_type": "display_data"
    }
   ],
   "source": [
    "car_pos_num_arr = []\n",
    "################################################# 세대별 구하는 파트 #################################################\n",
    "car_num_by_household_arr = []\n",
    "for ap_code in train_df[\"단지코드\"].unique():\n",
    "    sample_df = train_df[train_df[\"단지코드\"]==ap_code]\n",
    "    tot_house_num = sample_df[\"총세대수\"].values[0] - sample_df[\"공가수\"].values[0]\n",
    "    cars_num = sample_df[\"등록차량수\"].values[0]\n",
    "    car_num_by_household = cars_num/tot_house_num\n",
    "    car_num_by_household_arr.append(car_num_by_household)\n",
    "    \n",
    "    pos_car_num = sample_df[\"단지내주차면수\"].values[0] / sample_df[\"총세대수\"].values[0]\n",
    "    car_pos_num_arr.append(pos_car_num)\n",
    "    \n",
    "car_pos_num_arr = np.array(car_pos_num_arr)\n",
    "car_num_by_household_arr = np.array(car_num_by_household_arr)\n",
    "\n",
    "\n",
    "fig = plt.figure(figsize=(5,5))\n",
    "ax = fig.add_subplot(111)\n",
    "ax.scatter(car_pos_num_arr, car_num_by_household_arr)\n",
    "plt.show()"
   ]
  },
  {
   "cell_type": "code",
   "execution_count": 36,
   "metadata": {},
   "outputs": [
    {
     "data": {
      "text/plain": [
       "array([[1.        , 0.75308636],\n",
       "       [0.75308636, 1.        ]])"
      ]
     },
     "execution_count": 36,
     "metadata": {},
     "output_type": "execute_result"
    }
   ],
   "source": [
    "np.corrcoef(car_pos_num_arr, car_num_by_household_arr)"
   ]
  },
  {
   "cell_type": "markdown",
   "metadata": {},
   "source": [
    "약한 상관관계를 지니는 것으로 보임"
   ]
  },
  {
   "cell_type": "markdown",
   "metadata": {},
   "source": [
    "세대당 주차 가능대수 및 실 세대당 등록 차수를 그래프로 나타냄  \n",
    "유의미할지는 모르겠으나, 비례관계처럼 보이기는함\n",
    "\n",
    "> 다른 단지내 공통 값들을 활용해서 가중치로 활용할지 교호작용이 있따고 판단할지는 테스트가 필요함 --> anova 분석 (이원분산분석 필요)"
   ]
  },
  {
   "cell_type": "markdown",
   "metadata": {},
   "source": [
    "#### 자격유형 별 차량대수 Boxplot"
   ]
  },
  {
   "cell_type": "code",
   "execution_count": 24,
   "metadata": {},
   "outputs": [
    {
     "data": {
      "image/png": "[encoded data removed]",
      "text/plain": [
       "<Figure size 1440x360 with 1 Axes>"
      ]
     },
     "metadata": {
      "needs_background": "light"
     },
     "output_type": "display_data"
    }
   ],
   "source": [
    "fig = plt.figure(figsize=(20,5))\n",
    "ax = fig.add_subplot(111)\n",
    "sns.boxplot(x=\"자격유형\", y=\"등록차량수\", data=train_df, ax=ax)\n",
    "plt.show()"
   ]
  },
  {
   "cell_type": "markdown",
   "metadata": {},
   "source": [
    "자격 유형별로 차이가 나타나는듯하다.  \n",
    "C,D,E는 비슷한 차량대수 유형을 보이고,  \n",
    "A,B,H,I 또한 비슷한 차량대수 유형을 보인다.  \n",
    "\n",
    "> 특별히 데이터 차이가 심하게 나는 유형도 보인다.... -> 별다른 특징이 있다고 판단하기 어려움 -> 특정 유형에서만 유의미하게 해야하나?"
   ]
  },
  {
   "cell_type": "markdown",
   "metadata": {},
   "source": [
    "#### 총면적 <-> 자동차 대수"
   ]
  },
  {
   "cell_type": "code",
   "execution_count": 25,
   "metadata": {},
   "outputs": [],
   "source": [
    "train_df_copy = train_df.copy()\n",
    "train_df_copy[\"total_space\"] = train_df_copy[\"전용면적\"] * train_df_copy[\"전용면적별세대수\"]"
   ]
  },
  {
   "cell_type": "code",
   "execution_count": 26,
   "metadata": {},
   "outputs": [
    {
     "data": {
      "text/html": [
       "<div>\n",
       "<style scoped>\n",
       "    .dataframe tbody tr th:only-of-type {\n",
       "        vertical-align: middle;\n",
       "    }\n",
       "\n",
       "    .dataframe tbody tr th {\n",
       "        vertical-align: top;\n",
       "    }\n",
       "\n",
       "    .dataframe thead th {\n",
       "        text-align: right;\n",
       "    }\n",
       "</style>\n",
       "<table border=\"1\" class=\"dataframe\">\n",
       "  <thead>\n",
       "    <tr style=\"text-align: right;\">\n",
       "      <th></th>\n",
       "      <th>단지코드</th>\n",
       "      <th>총세대수</th>\n",
       "      <th>임대건물구분</th>\n",
       "      <th>지역</th>\n",
       "      <th>공급유형</th>\n",
       "      <th>전용면적</th>\n",
       "      <th>전용면적별세대수</th>\n",
       "      <th>공가수</th>\n",
       "      <th>자격유형</th>\n",
       "      <th>임대보증금</th>\n",
       "      <th>임대료</th>\n",
       "      <th>도보 10분거리 내 지하철역 수(환승노선 수 반영)</th>\n",
       "      <th>도보 10분거리 내 버스정류장 수</th>\n",
       "      <th>단지내주차면수</th>\n",
       "      <th>등록차량수</th>\n",
       "      <th>total_space</th>\n",
       "    </tr>\n",
       "  </thead>\n",
       "  <tbody>\n",
       "    <tr>\n",
       "      <th>0</th>\n",
       "      <td>C2483</td>\n",
       "      <td>900</td>\n",
       "      <td>아파트</td>\n",
       "      <td>경상북도</td>\n",
       "      <td>국민임대</td>\n",
       "      <td>39.72</td>\n",
       "      <td>134</td>\n",
       "      <td>38.0</td>\n",
       "      <td>A</td>\n",
       "      <td>15667000</td>\n",
       "      <td>103680</td>\n",
       "      <td>0.0</td>\n",
       "      <td>3.0</td>\n",
       "      <td>1425.0</td>\n",
       "      <td>1015.0</td>\n",
       "      <td>5322.48</td>\n",
       "    </tr>\n",
       "    <tr>\n",
       "      <th>1</th>\n",
       "      <td>C2483</td>\n",
       "      <td>900</td>\n",
       "      <td>아파트</td>\n",
       "      <td>경상북도</td>\n",
       "      <td>국민임대</td>\n",
       "      <td>39.72</td>\n",
       "      <td>15</td>\n",
       "      <td>38.0</td>\n",
       "      <td>A</td>\n",
       "      <td>15667000</td>\n",
       "      <td>103680</td>\n",
       "      <td>0.0</td>\n",
       "      <td>3.0</td>\n",
       "      <td>1425.0</td>\n",
       "      <td>1015.0</td>\n",
       "      <td>595.80</td>\n",
       "    </tr>\n",
       "    <tr>\n",
       "      <th>2</th>\n",
       "      <td>C2483</td>\n",
       "      <td>900</td>\n",
       "      <td>아파트</td>\n",
       "      <td>경상북도</td>\n",
       "      <td>국민임대</td>\n",
       "      <td>51.93</td>\n",
       "      <td>385</td>\n",
       "      <td>38.0</td>\n",
       "      <td>A</td>\n",
       "      <td>27304000</td>\n",
       "      <td>184330</td>\n",
       "      <td>0.0</td>\n",
       "      <td>3.0</td>\n",
       "      <td>1425.0</td>\n",
       "      <td>1015.0</td>\n",
       "      <td>19993.05</td>\n",
       "    </tr>\n",
       "    <tr>\n",
       "      <th>3</th>\n",
       "      <td>C2483</td>\n",
       "      <td>900</td>\n",
       "      <td>아파트</td>\n",
       "      <td>경상북도</td>\n",
       "      <td>국민임대</td>\n",
       "      <td>51.93</td>\n",
       "      <td>15</td>\n",
       "      <td>38.0</td>\n",
       "      <td>A</td>\n",
       "      <td>27304000</td>\n",
       "      <td>184330</td>\n",
       "      <td>0.0</td>\n",
       "      <td>3.0</td>\n",
       "      <td>1425.0</td>\n",
       "      <td>1015.0</td>\n",
       "      <td>778.95</td>\n",
       "    </tr>\n",
       "    <tr>\n",
       "      <th>4</th>\n",
       "      <td>C2483</td>\n",
       "      <td>900</td>\n",
       "      <td>아파트</td>\n",
       "      <td>경상북도</td>\n",
       "      <td>국민임대</td>\n",
       "      <td>51.93</td>\n",
       "      <td>41</td>\n",
       "      <td>38.0</td>\n",
       "      <td>A</td>\n",
       "      <td>27304000</td>\n",
       "      <td>184330</td>\n",
       "      <td>0.0</td>\n",
       "      <td>3.0</td>\n",
       "      <td>1425.0</td>\n",
       "      <td>1015.0</td>\n",
       "      <td>2129.13</td>\n",
       "    </tr>\n",
       "    <tr>\n",
       "      <th>...</th>\n",
       "      <td>...</td>\n",
       "      <td>...</td>\n",
       "      <td>...</td>\n",
       "      <td>...</td>\n",
       "      <td>...</td>\n",
       "      <td>...</td>\n",
       "      <td>...</td>\n",
       "      <td>...</td>\n",
       "      <td>...</td>\n",
       "      <td>...</td>\n",
       "      <td>...</td>\n",
       "      <td>...</td>\n",
       "      <td>...</td>\n",
       "      <td>...</td>\n",
       "      <td>...</td>\n",
       "      <td>...</td>\n",
       "    </tr>\n",
       "    <tr>\n",
       "      <th>2947</th>\n",
       "      <td>C2532</td>\n",
       "      <td>239</td>\n",
       "      <td>아파트</td>\n",
       "      <td>강원도</td>\n",
       "      <td>국민임대</td>\n",
       "      <td>49.20</td>\n",
       "      <td>19</td>\n",
       "      <td>7.0</td>\n",
       "      <td>A</td>\n",
       "      <td>11346000</td>\n",
       "      <td>116090</td>\n",
       "      <td>0.0</td>\n",
       "      <td>1.0</td>\n",
       "      <td>166.0</td>\n",
       "      <td>146.0</td>\n",
       "      <td>934.80</td>\n",
       "    </tr>\n",
       "    <tr>\n",
       "      <th>2948</th>\n",
       "      <td>C2532</td>\n",
       "      <td>239</td>\n",
       "      <td>아파트</td>\n",
       "      <td>강원도</td>\n",
       "      <td>국민임대</td>\n",
       "      <td>51.08</td>\n",
       "      <td>34</td>\n",
       "      <td>7.0</td>\n",
       "      <td>A</td>\n",
       "      <td>14005000</td>\n",
       "      <td>142310</td>\n",
       "      <td>0.0</td>\n",
       "      <td>1.0</td>\n",
       "      <td>166.0</td>\n",
       "      <td>146.0</td>\n",
       "      <td>1736.72</td>\n",
       "    </tr>\n",
       "    <tr>\n",
       "      <th>2949</th>\n",
       "      <td>C2532</td>\n",
       "      <td>239</td>\n",
       "      <td>아파트</td>\n",
       "      <td>강원도</td>\n",
       "      <td>국민임대</td>\n",
       "      <td>51.73</td>\n",
       "      <td>34</td>\n",
       "      <td>7.0</td>\n",
       "      <td>A</td>\n",
       "      <td>14005000</td>\n",
       "      <td>142310</td>\n",
       "      <td>0.0</td>\n",
       "      <td>1.0</td>\n",
       "      <td>166.0</td>\n",
       "      <td>146.0</td>\n",
       "      <td>1758.82</td>\n",
       "    </tr>\n",
       "    <tr>\n",
       "      <th>2950</th>\n",
       "      <td>C2532</td>\n",
       "      <td>239</td>\n",
       "      <td>아파트</td>\n",
       "      <td>강원도</td>\n",
       "      <td>국민임대</td>\n",
       "      <td>51.96</td>\n",
       "      <td>114</td>\n",
       "      <td>7.0</td>\n",
       "      <td>A</td>\n",
       "      <td>14005000</td>\n",
       "      <td>142310</td>\n",
       "      <td>0.0</td>\n",
       "      <td>1.0</td>\n",
       "      <td>166.0</td>\n",
       "      <td>146.0</td>\n",
       "      <td>5923.44</td>\n",
       "    </tr>\n",
       "    <tr>\n",
       "      <th>2951</th>\n",
       "      <td>C2532</td>\n",
       "      <td>239</td>\n",
       "      <td>아파트</td>\n",
       "      <td>강원도</td>\n",
       "      <td>국민임대</td>\n",
       "      <td>54.95</td>\n",
       "      <td>19</td>\n",
       "      <td>7.0</td>\n",
       "      <td>A</td>\n",
       "      <td>14830000</td>\n",
       "      <td>151030</td>\n",
       "      <td>0.0</td>\n",
       "      <td>1.0</td>\n",
       "      <td>166.0</td>\n",
       "      <td>146.0</td>\n",
       "      <td>1044.05</td>\n",
       "    </tr>\n",
       "  </tbody>\n",
       "</table>\n",
       "<p>2952 rows × 16 columns</p>\n",
       "</div>"
      ],
      "text/plain": [
       "       단지코드  총세대수 임대건물구분    지역  공급유형   전용면적  전용면적별세대수   공가수 자격유형     임대보증금  \\\n",
       "0     C2483   900    아파트  경상북도  국민임대  39.72       134  38.0    A  15667000   \n",
       "1     C2483   900    아파트  경상북도  국민임대  39.72        15  38.0    A  15667000   \n",
       "2     C2483   900    아파트  경상북도  국민임대  51.93       385  38.0    A  27304000   \n",
       "3     C2483   900    아파트  경상북도  국민임대  51.93        15  38.0    A  27304000   \n",
       "4     C2483   900    아파트  경상북도  국민임대  51.93        41  38.0    A  27304000   \n",
       "...     ...   ...    ...   ...   ...    ...       ...   ...  ...       ...   \n",
       "2947  C2532   239    아파트   강원도  국민임대  49.20        19   7.0    A  11346000   \n",
       "2948  C2532   239    아파트   강원도  국민임대  51.08        34   7.0    A  14005000   \n",
       "2949  C2532   239    아파트   강원도  국민임대  51.73        34   7.0    A  14005000   \n",
       "2950  C2532   239    아파트   강원도  국민임대  51.96       114   7.0    A  14005000   \n",
       "2951  C2532   239    아파트   강원도  국민임대  54.95        19   7.0    A  14830000   \n",
       "\n",
       "         임대료  도보 10분거리 내 지하철역 수(환승노선 수 반영)  도보 10분거리 내 버스정류장 수  단지내주차면수  \\\n",
       "0     103680                           0.0                 3.0   1425.0   \n",
       "1     103680                           0.0                 3.0   1425.0   \n",
       "2     184330                           0.0                 3.0   1425.0   \n",
       "3     184330                           0.0                 3.0   1425.0   \n",
       "4     184330                           0.0                 3.0   1425.0   \n",
       "...      ...                           ...                 ...      ...   \n",
       "2947  116090                           0.0                 1.0    166.0   \n",
       "2948  142310                           0.0                 1.0    166.0   \n",
       "2949  142310                           0.0                 1.0    166.0   \n",
       "2950  142310                           0.0                 1.0    166.0   \n",
       "2951  151030                           0.0                 1.0    166.0   \n",
       "\n",
       "       등록차량수  total_space  \n",
       "0     1015.0      5322.48  \n",
       "1     1015.0       595.80  \n",
       "2     1015.0     19993.05  \n",
       "3     1015.0       778.95  \n",
       "4     1015.0      2129.13  \n",
       "...      ...          ...  \n",
       "2947   146.0       934.80  \n",
       "2948   146.0      1736.72  \n",
       "2949   146.0      1758.82  \n",
       "2950   146.0      5923.44  \n",
       "2951   146.0      1044.05  \n",
       "\n",
       "[2952 rows x 16 columns]"
      ]
     },
     "execution_count": 26,
     "metadata": {},
     "output_type": "execute_result"
    }
   ],
   "source": [
    "train_df_copy"
   ]
  },
  {
   "cell_type": "code",
   "execution_count": 27,
   "metadata": {},
   "outputs": [
    {
     "data": {
      "image/png": "[encoded data removed]",
      "text/plain": [
       "<Figure size 432x288 with 1 Axes>"
      ]
     },
     "metadata": {
      "needs_background": "light"
     },
     "output_type": "display_data"
    }
   ],
   "source": [
    "tot_space = []\n",
    "car_nums = []\n",
    "for ap_code in train_df_copy[\"단지코드\"].unique():\n",
    "    sum_val = train_df_copy[\"total_space\"][train_df_copy[\"단지코드\"]==ap_code].sum()\n",
    "    cars = train_df_copy[\"등록차량수\"][train_df_copy[\"단지코드\"]==ap_code].values[0]\n",
    "    tot_space.append(sum_val)\n",
    "    car_nums.append(cars)\n",
    "    \n",
    "tot_space = np.array(tot_space)\n",
    "car_nums = np.array(car_nums)\n",
    "\n",
    "fig = plt.figure()\n",
    "ax = fig.add_subplot(111)\n",
    "ax.scatter(tot_space,car_nums)\n",
    "ax.set_xlabel(\"Total Space\")\n",
    "ax.set_ylabel(\"Number of cars\")\n",
    "plt.show()"
   ]
  },
  {
   "cell_type": "markdown",
   "metadata": {},
   "source": [
    "# Feature Engineering"
   ]
  },
  {
   "cell_type": "markdown",
   "metadata": {},
   "source": [
    "값 하나로는 의미도가 많이 떨어지는게 보임 -> 작업 필요  \n",
    "하나의 값을 기준으로 다른 값과 조합을 할 수 있는 방법 고민해보기"
   ]
  },
  {
   "cell_type": "markdown",
   "metadata": {},
   "source": [
    "#### 총세대수\n",
    "\n",
    "총세대수가 커질수록 일정하게 커진다기 보다는 넓게 퍼지는 경향을 보임 이 원인을 한번 찾아보자\n",
    "\n",
    "1. 총세대수와 차량 대수를 Regression 모델에 대입\n",
    "2. Regression 모델을 기준으로 일정 범위안, 밖의 특성들에서 다른 데이터 차이를 살펴보자"
   ]
  },
  {
   "cell_type": "code",
   "execution_count": 28,
   "metadata": {},
   "outputs": [],
   "source": [
    "from sklearn.linear_model import LinearRegression"
   ]
  },
  {
   "cell_type": "code",
   "execution_count": 29,
   "metadata": {},
   "outputs": [],
   "source": [
    "ap_code_for_idxs = []\n",
    "house_holder_nums = []\n",
    "car_nums = []\n",
    "for ap_code in train_df['단지코드'].unique():\n",
    "    sample_vals = train_df[train_df[\"단지코드\"] == ap_code][[\"총세대수\",\"등록차량수\"]].values[0]\n",
    "    ap_code_for_idxs.append(ap_code)\n",
    "    house_holder_nums.append(sample_vals[0])\n",
    "    car_nums.append(sample_vals[1])\n",
    "\n",
    "ap_code_for_idxs = np.array(ap_code_for_idxs)\n",
    "house_holder_nums = np.array(house_holder_nums, dtype=np.float32).reshape(-1,1)\n",
    "car_nums = np.array(car_nums, dtype=np.float32)\n",
    "\n",
    "# Model\n",
    "line_fitter = LinearRegression()\n",
    "line_fitter.fit(house_holder_nums, car_nums)\n",
    "\n",
    "# Predict Result\n",
    "predict_result = line_fitter.predict(house_holder_nums)\n",
    "\n",
    "diff_with_predict =  predict_result - car_nums"
   ]
  },
  {
   "cell_type": "markdown",
   "metadata": {},
   "source": [
    "잔차 그래프 출력"
   ]
  },
  {
   "cell_type": "code",
   "execution_count": 30,
   "metadata": {},
   "outputs": [
    {
     "data": {
      "image/png": "[encoded data removed]",
      "text/plain": [
       "<Figure size 720x216 with 1 Axes>"
      ]
     },
     "metadata": {
      "needs_background": "light"
     },
     "output_type": "display_data"
    }
   ],
   "source": [
    "fig = plt.figure(figsize=(10,3))\n",
    "ax = fig.add_subplot(111)\n",
    "ax.scatter(house_holder_nums.reshape(-1), diff_with_predict)\n",
    "plt.show()"
   ]
  },
  {
   "cell_type": "markdown",
   "metadata": {},
   "source": [
    "값이 클때 잔차가 벌어지는 경향 확실히 보임\n",
    "\n",
    "잔차가 일정 범위 안과 밖의 데이터 특성 살펴보자"
   ]
  },
  {
   "cell_type": "code",
   "execution_count": 31,
   "metadata": {},
   "outputs": [
    {
     "name": "stdout",
     "output_type": "stream",
     "text": [
      "289 134\n"
     ]
    }
   ],
   "source": [
    "data_filter_idx = diff_with_predict<=100\n",
    "\n",
    "data_inside_ap_code = ap_code_for_idxs[data_filter_idx]\n",
    "data_outside_ap_code = ap_code_for_idxs[~data_filter_idx]\n",
    "\n",
    "print(len(data_inside_ap_code), len(data_outside_ap_code))"
   ]
  },
  {
   "cell_type": "code",
   "execution_count": 32,
   "metadata": {},
   "outputs": [],
   "source": [
    "def return_boxplot(column_name, figsize_arr=(10,3)):\n",
    "    data_sets_from_inside = []\n",
    "    for code_idx in data_inside_ap_code:\n",
    "        data_sets_from_inside += list(train_df[column_name][train_df['단지코드'] == code_idx].values)\n",
    "        \n",
    "    data_sets_from_outside = []\n",
    "    for code_idx in data_outside_ap_code:\n",
    "        data_sets_from_outside += list(train_df[column_name][train_df['단지코드'] == code_idx].values)\n",
    "        \n",
    "    data_sets_from_inside = np.array(data_sets_from_inside)\n",
    "    data_sets_from_outside = np.array(data_sets_from_outside)\n",
    "    \n",
    "    fig = plt.figure(figsize=figsize_arr)\n",
    "    ax_1 = fig.add_subplot(121)\n",
    "    ax_2 = fig.add_subplot(122)\n",
    "    sns.histplot(data_sets_from_inside, shrink=0.3, ax=ax_1)\n",
    "    sns.histplot(data_sets_from_outside, shrink=0.3, ax=ax_2)\n",
    "    fig.suptitle(column_name)\n",
    "    plt.show()"
   ]
  },
  {
   "cell_type": "code",
   "execution_count": 33,
   "metadata": {
    "scrolled": true
   },
   "outputs": [
    {
     "data": {
      "image/png": "[encoded data removed]",
      "text/plain": [
       "<Figure size 720x216 with 2 Axes>"
      ]
     },
     "metadata": {
      "needs_background": "light"
     },
     "output_type": "display_data"
    },
    {
     "data": {
      "image/png": "[encoded data removed]",
      "text/plain": [
       "<Figure size 2160x216 with 2 Axes>"
      ]
     },
     "metadata": {
      "needs_background": "light"
     },
     "output_type": "display_data"
    },
    {
     "data": {
      "image/png": "[encoded data removed]",
      "text/plain": [
       "<Figure size 1440x216 with 2 Axes>"
      ]
     },
     "metadata": {
      "needs_background": "light"
     },
     "output_type": "display_data"
    },
    {
     "data": {
      "image/png": "[encoded data removed]",
      "text/plain": [
       "<Figure size 1440x216 with 2 Axes>"
      ]
     },
     "metadata": {
      "needs_background": "light"
     },
     "output_type": "display_data"
    },
    {
     "data": {
      "image/png": "[encoded data removed]",
      "text/plain": [
       "<Figure size 720x216 with 2 Axes>"
      ]
     },
     "metadata": {
      "needs_background": "light"
     },
     "output_type": "display_data"
    },
    {
     "data": {
      "image/png": "[encoded data removed]",
      "text/plain": [
       "<Figure size 1440x216 with 2 Axes>"
      ]
     },
     "metadata": {
      "needs_background": "light"
     },
     "output_type": "display_data"
    },
    {
     "data": {
      "image/png": "[encoded data removed]",
      "text/plain": [
       "<Figure size 1440x216 with 2 Axes>"
      ]
     },
     "metadata": {
      "needs_background": "light"
     },
     "output_type": "display_data"
    }
   ],
   "source": [
    "return_boxplot(\"임대건물구분\")\n",
    "return_boxplot(\"지역\", figsize_arr=(30,3))\n",
    "return_boxplot(\"공급유형\", figsize_arr=(20,3))\n",
    "return_boxplot(\"자격유형\", figsize_arr=(20,3))\n",
    "return_boxplot(\"도보 10분거리 내 지하철역 수(환승노선 수 반영)\")\n",
    "return_boxplot(\"도보 10분거리 내 버스정류장 수\", figsize_arr=(20,3))\n",
    "return_boxplot(\"단지내주차면수\", figsize_arr=(20,3))"
   ]
  },
  {
   "cell_type": "markdown",
   "metadata": {},
   "source": [
    "차이점 List\n",
    "\n",
    "1. 상가수가 큰 차이를 보임\n",
    "2. 지역별 차이가 크다\n",
    "3. 자격유형 D가 큰 영향을 주는 듯함\n",
    "\n",
    "나머지 부분에서는 눈에 띄는 차이가 없음"
   ]
  },
  {
   "cell_type": "code",
   "execution_count": 34,
   "metadata": {},
   "outputs": [
    {
     "data": {
      "image/png": "[encoded data removed]",
      "text/plain": [
       "<Figure size 432x288 with 1 Axes>"
      ]
     },
     "metadata": {
      "needs_background": "light"
     },
     "output_type": "display_data"
    }
   ],
   "source": [
    "data_sets_from_inside = []\n",
    "for code_idx in data_inside_ap_code:\n",
    "    sum_val = train_df_copy[\"total_space\"][train_df_copy[\"단지코드\"] == code_idx].sum()\n",
    "    data_sets_from_inside.append(sum_val)\n",
    "    \n",
    "data_sets_from_outside = []\n",
    "for code_idx in data_outside_ap_code:\n",
    "    sum_val = train_df_copy[\"total_space\"][train_df_copy[\"단지코드\"] == code_idx].sum()\n",
    "    data_sets_from_outside.append(sum_val)\n",
    "    \n",
    "data_sets_from_inside = np.array(data_sets_from_inside)\n",
    "data_sets_from_outside = np.array(data_sets_from_outside)\n",
    "\n",
    "fig = plt.figure()\n",
    "ax = fig.add_subplot(111)\n",
    "ax.boxplot([data_sets_from_inside, data_sets_from_outside], labels=[\"Inside\", \"Outside\"])\n",
    "plt.show()"
   ]
  },
  {
   "cell_type": "markdown",
   "metadata": {},
   "source": [
    "총면적이 살짝? 작아보이는 정도이다"
   ]
  },
  {
   "cell_type": "markdown",
   "metadata": {},
   "source": [
    "### 지역별 & 세대별\n",
    "\n",
    "1차적으로 세대와의 상관도를 살펴보자"
   ]
  },
  {
   "cell_type": "code",
   "execution_count": 78,
   "metadata": {},
   "outputs": [
    {
     "data": {
      "image/png": "[encoded data removed]",
      "text/plain": [
       "<Figure size 720x720 with 4 Axes>"
      ]
     },
     "metadata": {
      "needs_background": "light"
     },
     "output_type": "display_data"
    }
   ],
   "source": [
    "list_lists = []\n",
    "for ap_code in train_df[\"단지코드\"].unique():\n",
    "    sample_df = train_df[train_df[\"단지코드\"] == ap_code][[\"지역\",\"등록차량수\"]].iloc[0]\n",
    "    area_val = sample_df[\"지역\"]\n",
    "    cars = sample_df[\"등록차량수\"]\n",
    "    \n",
    "    need_info = list(age_gender_info_df[age_gender_info_df[\"지역\"] == area_val].values.reshape(-1))[1:]\n",
    "    need_info = [cars] + need_info\n",
    "    list_lists.append(need_info)\n",
    "    \n",
    "list_arr = np.array(list_lists)\n",
    "cars_age_df = pd.DataFrame(list_arr, columns=[\"Cars\"]+list(age_gender_info_df.columns)[1:])\n",
    "\n",
    "sns.clustermap(cars_age_df.corr(), cmap = 'RdYlBu_r',vmin = -1, vmax = 1)\n",
    "plt.show()"
   ]
  },
  {
   "cell_type": "markdown",
   "metadata": {},
   "source": [
    "위 Heatmap에서 알 수 잇는 사실\n",
    "\n",
    "1. 재미있는 점이 보임 100대 남자, 여자와 자동차 수가 클러스터로 묶인다는 점...\n",
    "2. 비슷한 세대끼리 상관도가 높다 --> 대부분 비슷한 연령대가 같은 단지내에 산다는 점임 -> 비슷한 연령대끼리 하나의 Dummy로 묶어도 상관 없을 듯 하다.\n",
    "3. 그나마 30대 남자, 여자가 자동차 등록대수와 상관도가 높다 정도? (유의미 하지는 않을 듯)\n",
    "4. 순수 지역 및 세대 별 특성을 반영할 수 있을까? -> 다른 우선 순위 요인을 먼저 제거한 뒤 마지막에 반영하는 수밖에 없을 듯 하다.\n",
    "5. 다른 특성들과 결함 쪽으로는? "
   ]
  },
  {
   "cell_type": "code",
   "execution_count": null,
   "metadata": {},
   "outputs": [],
   "source": []
  },
  {
   "cell_type": "code",
   "execution_count": null,
   "metadata": {},
   "outputs": [],
   "source": []
  },
  {
   "cell_type": "code",
   "execution_count": null,
   "metadata": {},
   "outputs": [],
   "source": []
  },
  {
   "cell_type": "code",
   "execution_count": null,
   "metadata": {},
   "outputs": [],
   "source": []
  },
  {
   "cell_type": "code",
   "execution_count": null,
   "metadata": {},
   "outputs": [],
   "source": []
  },
  {
   "cell_type": "code",
   "execution_count": null,
   "metadata": {},
   "outputs": [],
   "source": []
  },
  {
   "cell_type": "code",
   "execution_count": null,
   "metadata": {},
   "outputs": [],
   "source": []
  },
  {
   "cell_type": "code",
   "execution_count": null,
   "metadata": {},
   "outputs": [],
   "source": []
  },
  {
   "cell_type": "code",
   "execution_count": null,
   "metadata": {},
   "outputs": [],
   "source": []
  },
  {
   "cell_type": "code",
   "execution_count": null,
   "metadata": {},
   "outputs": [],
   "source": []
  },
  {
   "cell_type": "code",
   "execution_count": null,
   "metadata": {},
   "outputs": [],
   "source": []
  },
  {
   "cell_type": "code",
   "execution_count": null,
   "metadata": {},
   "outputs": [],
   "source": []
  }
 ],
 "metadata": {
  "kernelspec": {
   "display_name": "Python 3",
   "language": "python",
   "name": "python3"
  },
  "language_info": {
   "codemirror_mode": {
    "name": "ipython",
    "version": 3
   },
   "file_extension": ".py",
   "mimetype": "text/x-python",
   "name": "python",
   "nbconvert_exporter": "python",
   "pygments_lexer": "ipython3",
   "version": "3.6.8"
  }
 },
 "nbformat": 4,
 "nbformat_minor": 2
}
