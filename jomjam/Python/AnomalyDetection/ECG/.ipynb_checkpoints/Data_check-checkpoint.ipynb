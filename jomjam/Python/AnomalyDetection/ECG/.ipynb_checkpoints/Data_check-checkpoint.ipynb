{
 "cells": [
  {
   "cell_type": "code",
   "execution_count": 1,
   "metadata": {},
   "outputs": [],
   "source": [
    "import os"
   ]
  },
  {
   "cell_type": "markdown",
   "metadata": {},
   "source": [
    "File Check"
   ]
  },
  {
   "cell_type": "code",
   "execution_count": 2,
   "metadata": {},
   "outputs": [
    {
     "name": "stdout",
     "output_type": "stream",
     "text": [
      "7\n",
      "\n",
      "['ECG5000_TEST.txt', 'ECG5000_TRAIN.ts', 'ECG5000_TEST.ts', 'ECG5000.txt', 'ECG5000_TRAIN.txt', 'ECG5000_TEST.arff', 'ECG5000_TRAIN.arff']\n"
     ]
    }
   ],
   "source": [
    "folder_dir = \"/works/Data/wellysis/ECG5000\"\n",
    "file_list = os.listdir(folder_dir)\n",
    "print(len(file_list))\n",
    "print()\n",
    "print(file_list)"
   ]
  },
  {
   "cell_type": "markdown",
   "metadata": {},
   "source": [
    "read arff data"
   ]
  },
  {
   "cell_type": "code",
   "execution_count": 2,
   "metadata": {},
   "outputs": [],
   "source": [
    "from scipy.io import arff\n",
    "import pandas as pd\n",
    "import numpy as np"
   ]
  },
  {
   "cell_type": "code",
   "execution_count": 4,
   "metadata": {},
   "outputs": [],
   "source": [
    "def return_df_from_arff(arff_data):\n",
    "    one_data = arff_data[0]\n",
    "    start = True\n",
    "    for i in range(140):\n",
    "        col_name = \"att{}\".format(i+1)\n",
    "        one_col = one_data[col_name].astype(float).reshape(-1,1)\n",
    "        if start:\n",
    "            tot_data = one_col\n",
    "            start = False\n",
    "        else:\n",
    "            tot_data = np.concatenate((tot_data, one_col), axis=1)\n",
    "    target_col = one_data[\"target\"].astype(float).reshape(-1,1)\n",
    "    tot_data = np.concatenate((tot_data, target_col), axis=1)\n",
    "    return tot_data\n",
    "        "
   ]
  },
  {
   "cell_type": "code",
   "execution_count": 5,
   "metadata": {},
   "outputs": [],
   "source": [
    "train_arff = arff.loadarff(folder_dir+\"/ECG5000_TRAIN.arff\")\n",
    "target_arff = arff.loadarff(folder_dir+\"/ECG5000_TEST.arff\")"
   ]
  },
  {
   "cell_type": "code",
   "execution_count": 6,
   "metadata": {},
   "outputs": [],
   "source": [
    "train_tot = return_df_from_arff(train_arff)"
   ]
  },
  {
   "cell_type": "code",
   "execution_count": 8,
   "metadata": {},
   "outputs": [
    {
     "data": {
      "text/plain": [
       "(500, 141)"
      ]
     },
     "execution_count": 8,
     "metadata": {},
     "output_type": "execute_result"
    }
   ],
   "source": [
    "train_tot.shape"
   ]
  },
  {
   "cell_type": "code",
   "execution_count": 9,
   "metadata": {},
   "outputs": [],
   "source": [
    "import matplotlib.pyplot as plt\n",
    "%matplotlib inline"
   ]
  },
  {
   "cell_type": "code",
   "execution_count": 10,
   "metadata": {},
   "outputs": [
    {
     "data": {
      "text/plain": [
       "[<matplotlib.lines.Line2D at 0x7f3a635bb4a8>]"
      ]
     },
     "execution_count": 10,
     "metadata": {},
     "output_type": "execute_result"
    },
    {
     "data": {
      "image/png": "[encoded data removed]",
      "text/plain": [
       "<Figure size 432x288 with 1 Axes>"
      ]
     },
     "metadata": {
      "needs_background": "light"
     },
     "output_type": "display_data"
    }
   ],
   "source": [
    "plt.plot(train_tot[3,:])"
   ]
  },
  {
   "cell_type": "markdown",
   "metadata": {},
   "source": [
    "# MIT Longterm data"
   ]
  },
  {
   "cell_type": "code",
   "execution_count": 3,
   "metadata": {},
   "outputs": [],
   "source": [
    "import wfdb"
   ]
  },
  {
   "cell_type": "code",
   "execution_count": 4,
   "metadata": {},
   "outputs": [
    {
     "name": "stdout",
     "output_type": "stream",
     "text": [
      "38\n"
     ]
    }
   ],
   "source": [
    "mit_folder_dir = \"/works/Data/wellysis/mit-bih-long-term-ecg-database-1.0.0/\"\n",
    "mit_file_list = os.listdir(mit_folder_dir)\n",
    "print(len(mit_file_list))\n",
    "\n",
    "mit_file_name_list = []\n",
    "with open(mit_folder_dir+\"RECORDS\", 'r') as f:\n",
    "    while True:\n",
    "        line = f.readline()\n",
    "        mit_file_name_list.append(line.strip())\n",
    "        if not line:\n",
    "            break"
   ]
  },
  {
   "cell_type": "code",
   "execution_count": 5,
   "metadata": {},
   "outputs": [
    {
     "data": {
      "text/plain": [
       "['14046', '14134', '14149', '14157', '14172', '14184', '15814', '']"
      ]
     },
     "execution_count": 5,
     "metadata": {},
     "output_type": "execute_result"
    }
   ],
   "source": [
    "mit_file_name_list"
   ]
  },
  {
   "cell_type": "code",
   "execution_count": 6,
   "metadata": {},
   "outputs": [],
   "source": [
    "signals, fields = wfdb.rdsamp(mit_folder_dir+mit_file_name_list[0])"
   ]
  },
  {
   "cell_type": "code",
   "execution_count": 7,
   "metadata": {},
   "outputs": [
    {
     "data": {
      "text/plain": [
       "(10828800, 2)"
      ]
     },
     "execution_count": 7,
     "metadata": {},
     "output_type": "execute_result"
    }
   ],
   "source": [
    "signals.shape"
   ]
  },
  {
   "cell_type": "code",
   "execution_count": 8,
   "metadata": {},
   "outputs": [
    {
     "data": {
      "text/plain": [
       "{'fs': 128,\n",
       " 'sig_len': 10828800,\n",
       " 'n_sig': 2,\n",
       " 'base_date': None,\n",
       " 'base_time': None,\n",
       " 'units': ['mV', 'mV'],\n",
       " 'sig_name': ['ECG1', 'ECG2'],\n",
       " 'comments': ['Age: 46  Sex: M']}"
      ]
     },
     "execution_count": 8,
     "metadata": {},
     "output_type": "execute_result"
    }
   ],
   "source": [
    "fields"
   ]
  },
  {
   "cell_type": "code",
   "execution_count": 9,
   "metadata": {},
   "outputs": [
    {
     "data": {
      "text/plain": [
       "['14046', '14134', '14149', '14157', '14172', '14184', '15814', '']"
      ]
     },
     "execution_count": 9,
     "metadata": {},
     "output_type": "execute_result"
    }
   ],
   "source": [
    "mit_file_name_list"
   ]
  },
  {
   "cell_type": "code",
   "execution_count": null,
   "metadata": {},
   "outputs": [],
   "source": []
  },
  {
   "cell_type": "code",
   "execution_count": null,
   "metadata": {},
   "outputs": [],
   "source": []
  }
 ],
 "metadata": {
  "kernelspec": {
   "display_name": "Python 3",
   "language": "python",
   "name": "python3"
  },
  "language_info": {
   "codemirror_mode": {
    "name": "ipython",
    "version": 3
   },
   "file_extension": ".py",
   "mimetype": "text/x-python",
   "name": "python",
   "nbconvert_exporter": "python",
   "pygments_lexer": "ipython3",
   "version": "3.6.8"
  }
 },
 "nbformat": 4,
 "nbformat_minor": 2
}
