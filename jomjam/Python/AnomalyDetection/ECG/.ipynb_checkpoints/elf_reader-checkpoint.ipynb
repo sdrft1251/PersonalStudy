{
 "cells": [
  {
   "cell_type": "code",
   "execution_count": 1,
   "id": "aa82b5ce",
   "metadata": {},
   "outputs": [],
   "source": [
    "import os\n",
    "import numpy as np\n",
    "import pyedflib"
   ]
  },
  {
   "cell_type": "markdown",
   "id": "f6dd0036",
   "metadata": {},
   "source": [
    "# Wellysis Data"
   ]
  },
  {
   "cell_type": "code",
   "execution_count": 2,
   "id": "1a7da57b",
   "metadata": {},
   "outputs": [
    {
     "name": "stdout",
     "output_type": "stream",
     "text": [
      "Total edf file num is : 87\n"
     ]
    }
   ],
   "source": [
    "dir_24 = \"/works/Data/wellysis/AU/2\"\n",
    "file_list = os.listdir(dir_24)\n",
    "edf_path_list = []\n",
    "for fold_name in file_list:\n",
    "    edf_list = os.listdir(dir_24+\"/\"+fold_name)\n",
    "    edf_path_list += [dir_24+\"/\"+fold_name+\"/\"+edf for edf in edf_list if edf.endswith(\".edf\")]\n",
    "    \n",
    "print(\"Total edf file num is : {}\".format(len(edf_path_list)))"
   ]
  },
  {
   "cell_type": "code",
   "execution_count": 3,
   "id": "a3fe2fc2",
   "metadata": {},
   "outputs": [],
   "source": [
    "import numpy as np\n",
    "from scipy.signal import lfilter\n",
    "\n",
    "def max_normalization(ecg):\n",
    "    return ecg / max(np.fabs(np.amin(ecg)), np.fabs(np.amax(ecg)))\n",
    "\n",
    "# =====================================\n",
    "# == ecg-af-detection-physionet-2017 ==\n",
    "# =====================================\n",
    "def low_pass_filtering(ecg):\n",
    "    # LPF (1-z^-6)^2/(1-z^-1)^2\n",
    "    b = [1, 0, 0, 0, 0, 0, -2, 0, 0, 0, 0, 0, 1]\n",
    "    a = [1, -2, 1]\n",
    "\n",
    "    # transfer function of LPF\n",
    "    h_LP = lfilter(b, a, np.append([1], np.zeros(12)))\n",
    "\n",
    "    ecg2 = np.convolve(ecg, h_LP)\n",
    "    # cancel delay\n",
    "    ecg2 = np.roll(ecg2, -6)\n",
    "    return max_normalization(ecg2)\n",
    "\n",
    "\n",
    "def high_pass_filtering(ecg):\n",
    "    # HPF = Allpass-(Lowpass) = z^-16-[(1-z^32)/(1-z^-1)]\n",
    "    b = [-1, 0, 0, 0, 0, 0, 0, 0, 0, 0, 0, 0,\n",
    "         0, 0, 0, 0, 32, -32, 0, 0, 0, 0, 0,\n",
    "         0, 0, 0, 0, 0, 0, 0, 0, 0, 1]\n",
    "    a = [1, -1]\n",
    "\n",
    "    # impulse response iof HPF\n",
    "    h_HP = lfilter(b, a, np.append([1], np.zeros(32)))\n",
    "    ecg3 = np.convolve(ecg, h_HP)\n",
    "    # cancel delay\n",
    "    ecg3 = np.roll(ecg3, -16)\n",
    "    return max_normalization(ecg3)\n",
    "\n",
    "\n",
    "class StandardScaler():\n",
    "    def __init__(self):\n",
    "        self.mean = 0\n",
    "        self.std = 1\n",
    "        \n",
    "    def fit(self, data):\n",
    "        self.mean = data.mean(0)\n",
    "        self.std = data.std(0)\n",
    "        \n",
    "    def transform(self, data):\n",
    "        return (data - self.mean) / self.std\n",
    "\n",
    "def make_signal(edf_dir):\n",
    "    scaler = StandardScaler()\n",
    "    ECG_MIN = -0.06\n",
    "    ECG_MAX = 0.12\n",
    "    with pyedflib.EdfReader(edf_dir) as f:\n",
    "        ecg = f.readSignal(0)\n",
    "        ecg = ecg[::2]\n",
    "        ecg = low_pass_filtering(ecg)\n",
    "        ecg = high_pass_filtering(ecg)\n",
    "        ecg[ecg<ECG_MIN] = ECG_MIN\n",
    "        ecg[ecg>ECG_MAX] = ECG_MAX\n",
    "    scaler.fit(ecg)\n",
    "    ecg = scaler.transform(ecg)\n",
    "    return ecg\n",
    "\n",
    "def make_datasample(signal, hz, len_sec, over_sec):\n",
    "    time_len = hz*len_sec\n",
    "    over_len = hz*over_sec\n",
    "    # Window\n",
    "    result = []\n",
    "    start_idx = hz*60\n",
    "    while start_idx+time_len <= len(signal)-hz*60:\n",
    "        sample_data = signal[start_idx:start_idx+time_len]\n",
    "        start_idx += (time_len-over_len)\n",
    "        if sample_data.std()>0.001:\n",
    "            if len(sample_data) == time_len:\n",
    "                result.append(sample_data)\n",
    "    result = np.array(result).reshape(-1, time_len, 1)\n",
    "    return result.astype(np.float32)"
   ]
  },
  {
   "cell_type": "code",
   "execution_count": 4,
   "id": "79bfc3b1",
   "metadata": {},
   "outputs": [],
   "source": [
    "def data_preprocessing(path_list, hz, len_sec, over_sec):\n",
    "    data_col = np.zeros((1,hz*len_sec,1), dtype=np.float32)\n",
    "    for idx, edf_path in enumerate(path_list):\n",
    "        signal = make_signal(edf_path)\n",
    "        preprocessed_signal = make_datasample(signal=signal, hz=hz, len_sec=len_sec, over_sec=over_sec)\n",
    "        if len(preprocessed_signal)==0:\n",
    "            continue\n",
    "        data_col = np.concatenate((data_col, preprocessed_signal), axis=0)\n",
    "        if idx%100 == 0:\n",
    "            print(\"Now Process {:.3f}\".format(idx/len(edf_path_list)))\n",
    "\n",
    "    data_col = data_col[1:]\n",
    "    return data_col"
   ]
  },
  {
   "cell_type": "code",
   "execution_count": 5,
   "id": "1b9b36ba",
   "metadata": {},
   "outputs": [],
   "source": [
    "hz = 128\n",
    "len_sec = 5\n",
    "over_sec = 2"
   ]
  },
  {
   "cell_type": "code",
   "execution_count": 6,
   "id": "6f33675b",
   "metadata": {},
   "outputs": [
    {
     "name": "stdout",
     "output_type": "stream",
     "text": [
      "Now Process 0.000\n",
      "(65458, 640, 1)\n"
     ]
    }
   ],
   "source": [
    "data_col1 = data_preprocessing(edf_path_list[:1000], hz=hz, len_sec=len_sec, over_sec=over_sec)\n",
    "print(data_col1.shape)\n",
    "np.save(\"/works/Data/wellysis/preprocessed/5s_lowhighpass_standard_data_col1\", data_col1)"
   ]
  },
  {
   "cell_type": "code",
   "execution_count": 7,
   "id": "d3549c8f",
   "metadata": {},
   "outputs": [
    {
     "name": "stdout",
     "output_type": "stream",
     "text": [
      "(0, 640, 1)\n"
     ]
    }
   ],
   "source": [
    "data_col2 = data_preprocessing(edf_path_list[1000:2000], hz=hz, len_sec=len_sec, over_sec=over_sec)\n",
    "print(data_col2.shape)\n",
    "np.save(\"/works/Data/wellysis/preprocessed/5s_lowhighpass_standard_data_col2\", data_col2)"
   ]
  },
  {
   "cell_type": "markdown",
   "id": "1e7238c9",
   "metadata": {},
   "source": [
    "# MIT Data"
   ]
  },
  {
   "cell_type": "code",
   "execution_count": 2,
   "id": "d1734dbc",
   "metadata": {},
   "outputs": [],
   "source": [
    "import wfdb"
   ]
  },
  {
   "cell_type": "code",
   "execution_count": 3,
   "id": "496ad787",
   "metadata": {},
   "outputs": [],
   "source": [
    "# MIT DataBase\n",
    "def data_from_mit(folder_path):\n",
    "    # return Dict\n",
    "    result = {}\n",
    "\n",
    "    file_list = os.listdir(folder_path)\n",
    "    # Record 파일에서 데이터 제목 가져오기\n",
    "    mit_file_name_list = []\n",
    "    with open(folder_path+\"RECORDS\", 'r') as f:\n",
    "        while True:\n",
    "            line = f.readline()\n",
    "            if len(line.strip()) != 0:\n",
    "                mit_file_name_list.append(line.strip())\n",
    "            if not line:\n",
    "                break\n",
    "    for mi_ in mit_file_name_list:\n",
    "        signals, fields = wfdb.rdsamp(folder_path+mi_)\n",
    "        # 두 데이터 추가\n",
    "        result[mi_] = [signals, fields]\n",
    "    \n",
    "    return result\n",
    "\n",
    "def make_dataformat_from_mit(data_col, name, time_len, over_len):\n",
    "    signal_1 = data_col[name][0][:,0]\n",
    "    # Using Only first signal now\n",
    "    #signal_2 = data_col[name][0][:,1]\n",
    "    detail = data_col[name][1]\n",
    "    # Result list\n",
    "    result = []\n",
    "\n",
    "    # Slicing Window Start\n",
    "    start_idx = 0\n",
    "    while start_idx+time_len <= len(signal_1):\n",
    "        sample_data = signal_1[start_idx:start_idx+time_len]\n",
    "        result.append(sample_data)\n",
    "        start_idx += (time_len-over_len)\n",
    "\n",
    "    # Make right format\n",
    "    result = np.array(result).reshape(-1, time_len, 1)\n",
    "    # Make 0 based data\n",
    "    min_val = result.min()\n",
    "    max_val = result.max()\n",
    "    if min_val != 0:\n",
    "        result = (result - min_val) / (max_val - min_val)\n",
    "    else:\n",
    "        result /= max_val\n",
    "    return result"
   ]
  },
  {
   "cell_type": "code",
   "execution_count": 11,
   "id": "894c44ff",
   "metadata": {},
   "outputs": [],
   "source": [
    "result = data_from_mit(\"/works/Data/wellysis/mit-bih-long-term-ecg-database-1.0.0/\")"
   ]
  },
  {
   "cell_type": "code",
   "execution_count": 12,
   "id": "fcaadfc4",
   "metadata": {},
   "outputs": [
    {
     "name": "stdout",
     "output_type": "stream",
     "text": [
      "7\n"
     ]
    }
   ],
   "source": [
    "print(len(result.keys()))"
   ]
  },
  {
   "cell_type": "code",
   "execution_count": 13,
   "id": "5b934923",
   "metadata": {},
   "outputs": [],
   "source": [
    "hz = 128\n",
    "len_sec = 5\n",
    "over_sec = 3\n",
    "\n",
    "data_col = np.zeros((1,hz*len_sec,1), dtype=np.float32)\n",
    "\n",
    "for k_ in list(result.keys())[:-1]:\n",
    "    sample = make_dataformat_from_mit(data_col=result, name=k_, time_len=hz*len_sec, over_len=hz*over_sec)\n",
    "    data_col = np.concatenate((data_col, sample), axis=0)\n",
    "    \n",
    "data_col = data_col[1:]"
   ]
  },
  {
   "cell_type": "code",
   "execution_count": 14,
   "id": "dd240533",
   "metadata": {},
   "outputs": [
    {
     "data": {
      "text/plain": [
       "(225408, 640, 1)"
      ]
     },
     "execution_count": 14,
     "metadata": {},
     "output_type": "execute_result"
    }
   ],
   "source": [
    "data_col.shape"
   ]
  },
  {
   "cell_type": "code",
   "execution_count": 15,
   "id": "7445b799",
   "metadata": {},
   "outputs": [],
   "source": [
    "np.save(\"/works/Data/wellysis/preprocessed/5s_mit_forVAEtrain\", data_col)"
   ]
  },
  {
   "cell_type": "code",
   "execution_count": 16,
   "id": "86ff2f86",
   "metadata": {},
   "outputs": [
    {
     "name": "stdout",
     "output_type": "stream",
     "text": [
      "(39988, 640, 1)\n"
     ]
    }
   ],
   "source": [
    "name = list(result.keys())[-1]\n",
    "hz = 128\n",
    "len_sec = 5\n",
    "over_sec = 3\n",
    "sample = make_dataformat_from_mit(data_col=result, name=name, time_len=hz*len_sec, over_len=hz*over_sec)\n",
    "print(sample.shape)"
   ]
  },
  {
   "cell_type": "code",
   "execution_count": 17,
   "id": "b544252e",
   "metadata": {},
   "outputs": [],
   "source": [
    "np.save(\"/works/Data/wellysis/preprocessed/5s_mit_forVAEtest\", sample)"
   ]
  },
  {
   "cell_type": "code",
   "execution_count": null,
   "id": "43a54295",
   "metadata": {},
   "outputs": [],
   "source": []
  },
  {
   "cell_type": "code",
   "execution_count": null,
   "id": "e17735ee",
   "metadata": {},
   "outputs": [],
   "source": []
  },
  {
   "cell_type": "code",
   "execution_count": null,
   "id": "320e3bcb",
   "metadata": {},
   "outputs": [],
   "source": []
  },
  {
   "cell_type": "markdown",
   "id": "0458de0b",
   "metadata": {},
   "source": [
    "# Dump"
   ]
  },
  {
   "cell_type": "code",
   "execution_count": 3,
   "id": "ab216b8b",
   "metadata": {},
   "outputs": [],
   "source": [
    "def make_signal(edf_dir): \n",
    "    f = pyedflib.EdfReader(edf_dir)\n",
    "    sigbufs = f.readSignal(0)\n",
    "    f._close()\n",
    "    return sigbufs\n",
    "\n",
    "def make_datasample(signal, time_len, over_len):\n",
    "    # preprocessing & Scaling\n",
    "    signal=np.where(signal<=9.0,9.0,signal)\n",
    "    signal=np.where(signal>=12.0,12.0,signal)\n",
    "    signal = (signal-9.0)/3.0\n",
    "    # Window\n",
    "    result = []\n",
    "    start_idx = 256*3600\n",
    "    while start_idx+time_len <= len(signal)-256*7200:\n",
    "        sample_data = signal[start_idx:start_idx+time_len]\n",
    "        start_idx += (time_len-over_len)\n",
    "        if sample_data.mean()<=0.5 and sample_data.mean()>=0.4:\n",
    "            #if sample_data.std()<0.1 and sample_data.std()>0.01:\n",
    "            if len(sample_data) == time_len:\n",
    "                result.append(sample_data)\n",
    "    result = np.array(result).reshape(-1, time_len, 1)\n",
    "    return result.astype(np.float32)"
   ]
  },
  {
   "cell_type": "code",
   "execution_count": 5,
   "id": "659149b1",
   "metadata": {},
   "outputs": [],
   "source": [
    "hz = 256\n",
    "window_size = 5\n",
    "over_size = 2"
   ]
  },
  {
   "cell_type": "code",
   "execution_count": 6,
   "id": "19cf300f",
   "metadata": {
    "scrolled": true
   },
   "outputs": [
    {
     "name": "stdout",
     "output_type": "stream",
     "text": [
      "Now Process 0.000\n",
      "Total Preprocessed data shape is : (141026, 1280, 1)\n"
     ]
    }
   ],
   "source": [
    "data_col1 = np.zeros((1,hz*window_size,1), dtype=np.float32)\n",
    "\n",
    "for idx, edf_path in enumerate(edf_path_list[:1000]):\n",
    "    signal = make_signal(edf_path)\n",
    "    preprocessed_signal = make_datasample(signal=signal, time_len=hz*window_size, over_len=hz*over_size)\n",
    "    if len(preprocessed_signal)==0:\n",
    "        continue\n",
    "    data_col1 = np.concatenate((data_col1, preprocessed_signal), axis=0)\n",
    "    if idx%100 == 0:\n",
    "        print(\"Now Process {:.3f}\".format(idx/len(edf_path_list)))\n",
    "    \n",
    "data_col1 = data_col1[1:]\n",
    "\n",
    "print(\"Total Preprocessed data shape is : {}\".format(data_col1.shape))\n",
    "\n",
    "np.save(\"/works/Data/wellysis/preprocessed/5s_minmax01_mid_meanFilter_data_col1\", data_col1)"
   ]
  },
  {
   "cell_type": "code",
   "execution_count": 7,
   "id": "bbafb1cd",
   "metadata": {},
   "outputs": [
    {
     "name": "stdout",
     "output_type": "stream",
     "text": [
      "0.0 1.0 0.45895898\n"
     ]
    }
   ],
   "source": [
    "print(data_col1.min(), data_col1.max(), data_col1.mean())"
   ]
  },
  {
   "cell_type": "code",
   "execution_count": 5,
   "id": "f2d4b1ed",
   "metadata": {},
   "outputs": [
    {
     "name": "stdout",
     "output_type": "stream",
     "text": [
      "Total Preprocessed data shape is : (399881, 512, 1)\n"
     ]
    }
   ],
   "source": [
    "data_col2 = np.zeros((1,hz*window_size,1), dtype=np.float32)\n",
    "\n",
    "for idx, edf_path in enumerate(edf_path_list[1000:2000]):\n",
    "    signal = make_signal(edf_path)\n",
    "    preprocessed_signal = make_datasample(signal=signal, time_len=hz*window_size, over_len=hz*over_size)\n",
    "    if len(preprocessed_signal)==0:\n",
    "        continue\n",
    "    data_col2 = np.concatenate((data_col2, preprocessed_signal), axis=0)\n",
    "    if idx%100 == 0:\n",
    "        print(\"Now Process {:.3f}\".format(idx/len(edf_path_list)))\n",
    "    \n",
    "data_col2 = data_col2[1:]\n",
    "\n",
    "print(\"Total Preprocessed data shape is : {}\".format(data_col2.shape))\n",
    "\n",
    "np.save(\"/works/Data/wellysis/preprocessed/5s_minmax01_mid_meanFilter_data_col2\", data_col2)"
   ]
  },
  {
   "cell_type": "code",
   "execution_count": null,
   "id": "e38ee083",
   "metadata": {},
   "outputs": [],
   "source": []
  },
  {
   "cell_type": "code",
   "execution_count": null,
   "id": "3d8efb22",
   "metadata": {},
   "outputs": [],
   "source": []
  },
  {
   "cell_type": "code",
   "execution_count": null,
   "id": "6a49c99c",
   "metadata": {},
   "outputs": [],
   "source": []
  },
  {
   "cell_type": "code",
   "execution_count": null,
   "id": "5e897027",
   "metadata": {},
   "outputs": [],
   "source": []
  },
  {
   "cell_type": "code",
   "execution_count": null,
   "id": "50dcd796",
   "metadata": {},
   "outputs": [],
   "source": []
  },
  {
   "cell_type": "code",
   "execution_count": null,
   "id": "f0b6db00",
   "metadata": {},
   "outputs": [],
   "source": []
  },
  {
   "cell_type": "code",
   "execution_count": 4,
   "id": "317a5044",
   "metadata": {
    "scrolled": true
   },
   "outputs": [
    {
     "name": "stdout",
     "output_type": "stream",
     "text": [
      "Now Process 0.000\n"
     ]
    },
    {
     "ename": "OSError",
     "evalue": "File /works/Data/wellysis/AU/24/2020-06-01 06:10:26_010663/2020-06-01 06:10:26_010663_18037.edf was found but cant be accessed. Make sure it contains no special characters or change your locale to use UTF8.",
     "output_type": "error",
     "traceback": [
      "\u001b[0;31m---------------------------------------------------------------------------\u001b[0m",
      "\u001b[0;31mOSError\u001b[0m                                   Traceback (most recent call last)",
      "\u001b[0;32mpyedflib/_extensions/_pyedflib.pyx\u001b[0m in \u001b[0;36mpyedflib._extensions._pyedflib.CyEdfReader.__init__\u001b[0;34m()\u001b[0m\n",
      "\u001b[0;32mpyedflib/_extensions/_pyedflib.pyx\u001b[0m in \u001b[0;36mpyedflib._extensions._pyedflib.CyEdfReader.open\u001b[0;34m()\u001b[0m\n",
      "\u001b[0;32mpyedflib/_extensions/_pyedflib.pyx\u001b[0m in \u001b[0;36mpyedflib._extensions._pyedflib.CyEdfReader.check_open_ok\u001b[0;34m()\u001b[0m\n",
      "\u001b[0;31mOSError\u001b[0m: /works/Data/wellysis/AU/24/2020-06-01 06:10:26_010663/2020-06-01 06:10:26_010663_18037.edf: the file is not EDF(+) or BDF(+) compliant (Filesize)",
      "\nDuring handling of the above exception, another exception occurred:\n",
      "\u001b[0;31mOSError\u001b[0m                                   Traceback (most recent call last)",
      "\u001b[0;32m<ipython-input-4-c057b1afbb97>\u001b[0m in \u001b[0;36m<module>\u001b[0;34m\u001b[0m\n\u001b[1;32m      4\u001b[0m \u001b[0;34m\u001b[0m\u001b[0m\n\u001b[1;32m      5\u001b[0m \u001b[0;32mfor\u001b[0m \u001b[0midx\u001b[0m\u001b[0;34m,\u001b[0m \u001b[0medf_path\u001b[0m \u001b[0;32min\u001b[0m \u001b[0menumerate\u001b[0m\u001b[0;34m(\u001b[0m\u001b[0medf_path_list\u001b[0m\u001b[0;34m[\u001b[0m\u001b[0;36m2000\u001b[0m\u001b[0;34m:\u001b[0m\u001b[0;34m]\u001b[0m\u001b[0;34m)\u001b[0m\u001b[0;34m:\u001b[0m\u001b[0;34m\u001b[0m\u001b[0;34m\u001b[0m\u001b[0m\n\u001b[0;32m----> 6\u001b[0;31m     \u001b[0msignal\u001b[0m \u001b[0;34m=\u001b[0m \u001b[0mmake_signal\u001b[0m\u001b[0;34m(\u001b[0m\u001b[0medf_path\u001b[0m\u001b[0;34m)\u001b[0m\u001b[0;34m\u001b[0m\u001b[0;34m\u001b[0m\u001b[0m\n\u001b[0m\u001b[1;32m      7\u001b[0m     \u001b[0mpreprocessed_signal\u001b[0m \u001b[0;34m=\u001b[0m \u001b[0mmake_datasample\u001b[0m\u001b[0;34m(\u001b[0m\u001b[0msignal\u001b[0m\u001b[0;34m=\u001b[0m\u001b[0msignal\u001b[0m\u001b[0;34m,\u001b[0m \u001b[0mtime_len\u001b[0m\u001b[0;34m=\u001b[0m\u001b[0mhz\u001b[0m\u001b[0;34m*\u001b[0m\u001b[0;36m5\u001b[0m\u001b[0;34m,\u001b[0m \u001b[0mover_len\u001b[0m\u001b[0;34m=\u001b[0m\u001b[0mhz\u001b[0m\u001b[0;34m*\u001b[0m\u001b[0;36m2\u001b[0m\u001b[0;34m)\u001b[0m\u001b[0;34m\u001b[0m\u001b[0;34m\u001b[0m\u001b[0m\n\u001b[1;32m      8\u001b[0m     \u001b[0;32mif\u001b[0m \u001b[0mlen\u001b[0m\u001b[0;34m(\u001b[0m\u001b[0mpreprocessed_signal\u001b[0m\u001b[0;34m)\u001b[0m\u001b[0;34m==\u001b[0m\u001b[0;36m0\u001b[0m\u001b[0;34m:\u001b[0m\u001b[0;34m\u001b[0m\u001b[0;34m\u001b[0m\u001b[0m\n",
      "\u001b[0;32m<ipython-input-3-4fea53408aa8>\u001b[0m in \u001b[0;36mmake_signal\u001b[0;34m(edf_dir)\u001b[0m\n\u001b[1;32m      1\u001b[0m \u001b[0;32mdef\u001b[0m \u001b[0mmake_signal\u001b[0m\u001b[0;34m(\u001b[0m\u001b[0medf_dir\u001b[0m\u001b[0;34m)\u001b[0m\u001b[0;34m:\u001b[0m\u001b[0;34m\u001b[0m\u001b[0;34m\u001b[0m\u001b[0m\n\u001b[0;32m----> 2\u001b[0;31m     \u001b[0mf\u001b[0m \u001b[0;34m=\u001b[0m \u001b[0mpyedflib\u001b[0m\u001b[0;34m.\u001b[0m\u001b[0mEdfReader\u001b[0m\u001b[0;34m(\u001b[0m\u001b[0medf_dir\u001b[0m\u001b[0;34m)\u001b[0m\u001b[0;34m\u001b[0m\u001b[0;34m\u001b[0m\u001b[0m\n\u001b[0m\u001b[1;32m      3\u001b[0m     \u001b[0msigbufs\u001b[0m \u001b[0;34m=\u001b[0m \u001b[0mf\u001b[0m\u001b[0;34m.\u001b[0m\u001b[0mreadSignal\u001b[0m\u001b[0;34m(\u001b[0m\u001b[0;36m0\u001b[0m\u001b[0;34m)\u001b[0m\u001b[0;34m\u001b[0m\u001b[0;34m\u001b[0m\u001b[0m\n\u001b[1;32m      4\u001b[0m     \u001b[0mf\u001b[0m\u001b[0;34m.\u001b[0m\u001b[0m_close\u001b[0m\u001b[0;34m(\u001b[0m\u001b[0;34m)\u001b[0m\u001b[0;34m\u001b[0m\u001b[0;34m\u001b[0m\u001b[0m\n\u001b[1;32m      5\u001b[0m     \u001b[0;32mreturn\u001b[0m \u001b[0msigbufs\u001b[0m\u001b[0;34m\u001b[0m\u001b[0;34m\u001b[0m\u001b[0m\n",
      "\u001b[0;32mpyedflib/_extensions/_pyedflib.pyx\u001b[0m in \u001b[0;36mpyedflib._extensions._pyedflib.CyEdfReader.__init__\u001b[0;34m()\u001b[0m\n",
      "\u001b[0;31mOSError\u001b[0m: File /works/Data/wellysis/AU/24/2020-06-01 06:10:26_010663/2020-06-01 06:10:26_010663_18037.edf was found but cant be accessed. Make sure it contains no special characters or change your locale to use UTF8."
     ]
    }
   ],
   "source": [
    "hz = 256\n",
    "\n",
    "data_col3 = np.zeros((1,hz*5,1), dtype=np.float32)\n",
    "\n",
    "for idx, edf_path in enumerate(edf_path_list[2000:]):\n",
    "    signal = make_signal(edf_path)\n",
    "    preprocessed_signal = make_datasample(signal=signal, time_len=hz*5, over_len=hz*2)\n",
    "    if len(preprocessed_signal)==0:\n",
    "        continue\n",
    "    data_col3 = np.concatenate((data_col3, preprocessed_signal), axis=0)\n",
    "    if idx%100 == 0:\n",
    "        print(\"Now Process {:.3f}\".format(idx/len(edf_path_list)))\n",
    "    \n",
    "data_col3 = data_col1[1:]\n",
    "\n",
    "print(\"Total Preprocessed data shape is : {}\".format(data_col3.shape))\n",
    "\n",
    "np.save(\"/works/Data/wellysis/preprocessed/5s_minmax_data_col3\", data_col3)"
   ]
  },
  {
   "cell_type": "code",
   "execution_count": null,
   "id": "b0f443ec",
   "metadata": {},
   "outputs": [],
   "source": []
  },
  {
   "cell_type": "code",
   "execution_count": null,
   "id": "34fd1f31",
   "metadata": {},
   "outputs": [],
   "source": []
  }
 ],
 "metadata": {
  "kernelspec": {
   "display_name": "Python 3",
   "language": "python",
   "name": "python3"
  },
  "language_info": {
   "codemirror_mode": {
    "name": "ipython",
    "version": 3
   },
   "file_extension": ".py",
   "mimetype": "text/x-python",
   "name": "python",
   "nbconvert_exporter": "python",
   "pygments_lexer": "ipython3",
   "version": "3.6.9"
  }
 },
 "nbformat": 4,
 "nbformat_minor": 5
}
