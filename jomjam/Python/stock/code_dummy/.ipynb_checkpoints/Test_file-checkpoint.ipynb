{
 "cells": [
  {
   "cell_type": "code",
   "execution_count": 1,
   "metadata": {},
   "outputs": [],
   "source": [
    "from src.backtesting import return_data, test_func\n",
    "import pandas as pd\n",
    "import numpy as np"
   ]
  },
  {
   "cell_type": "code",
   "execution_count": 2,
   "metadata": {},
   "outputs": [
    {
     "name": "stdout",
     "output_type": "stream",
     "text": [
      "     code  2021-01-04 00:00:00\n",
      "0  005930              8300000\n",
      "1  030200              2380000\n",
      "2  139480             15150000\n"
     ]
    }
   ],
   "source": [
    "for_date_df = return_data(\"005930\", \"2021-01-01\", \"2021-05-31\")\n",
    "before_list = for_date_df.index[:-1]\n",
    "after_list = for_date_df.index[1:]\n",
    "\n",
    "code_list = [\"005930\", \"030200\", \"139480\"]\n",
    "retain_list = [83000*100, 23800*100, 151500*100]\n",
    "\n",
    "port_ex = pd.DataFrame()\n",
    "port_ex['code'] = code_list\n",
    "port_ex[before_list[0]] = retain_list\n",
    "print(port_ex)"
   ]
  },
  {
   "cell_type": "code",
   "execution_count": 3,
   "metadata": {
    "scrolled": true
   },
   "outputs": [
    {
     "name": "stdout",
     "output_type": "stream",
     "text": [
      "[0 0 1] [1 1 0] 50150.0\n",
      "[0 0 0] [0 0 0] 50150.0\n",
      "[0 0 3] [6 2 0] 8950.0\n",
      "[1 0 0] [0 4 0] 150.0\n",
      "[4 0 0] [0 4 1] 95450.0\n",
      "[0 0 1] [2 2 0] 49350.0\n",
      "[0 1 0] [0 0 0] 73450.0\n",
      "[0 0 0] [0 0 0] 73450.0\n",
      "[0 2 0] [0 0 0] 121650.0\n",
      "[0 1 0] [1 0 0] 60250.0\n",
      "[0 0 0] [0 0 0] 60250.0\n",
      "[0 0 0] [0 0 0] 60250.0\n",
      "[0 0 0] [0 2 0] 12450.0\n",
      "[0 0 0] [0 0 0] 12450.0\n",
      "[0 0 0] [0 0 0] 12450.0\n",
      "[0 2 0] [0 0 0] 60750.0\n",
      "[0 1 0] [0 0 0] 84800.0\n",
      "[0 0 0] [1 0 0] 1100.0\n",
      "[0 4 0] [0 0 0] 96900.0\n",
      "[0 0 0] [0 1 0] 72850.0\n",
      "[0 0 0] [0 2 0] 24350.0\n",
      "[0 1 0] [0 0 0] 48650.0\n",
      "[0 0 0] [0 0 0] 48650.0\n",
      "[0 0 0] [0 0 0] 48650.0\n",
      "[0 0 1] [2 1 0] 31100.0\n",
      "[0 0 0] [0 0 0] 31100.0\n",
      "[0 0 0] [0 0 0] 31100.0\n",
      "[0 0 0] [0 0 0] 31100.0\n",
      "[0 3 2] [5 0 0] 64250.0\n",
      "[0 1 0] [1 0 0] 7700.0\n",
      "[0 2 0] [0 0 0] 60700.0\n",
      "[0 0 0] [0 0 0] 60700.0\n",
      "[2 0 0] [0 0 1] 47100.0\n",
      "[0 1 0] [0 0 0] 73400.0\n",
      "[2 0 0] [0 0 1] 65400.0\n",
      "[2 0 0] [0 0 1] 62500.0\n",
      "[0 1 0] [0 0 0] 88500.0\n",
      "[0 0 0] [0 0 0] 88500.0\n",
      "[0 0 2] [4 3 0] 43150.0\n",
      "[0 0 0] [0 0 0] 43150.0\n",
      "[0 1 0] [0 0 0] 69150.0\n",
      "[1 1 0] [0 0 1] 2750.0\n",
      "[0 1 0] [0 0 0] 29350.0\n",
      "[0 0 0] [0 0 0] 29350.0\n",
      "[0 0 0] [0 0 0] 29350.0\n",
      "[0 0 0] [0 0 0] 29350.0\n",
      "[0 1 0] [0 0 0] 56400.0\n",
      "[0 0 1] [2 1 0] 45650.0\n",
      "[0 0 0] [0 0 0] 45650.0\n",
      "[2 1 0] [0 0 1] 62400.0\n",
      "[0 0 0] [0 0 0] 62400.0\n",
      "[0 0 0] [0 2 0] 9400.0\n",
      "[0 2 0] [0 0 0] 62800.0\n",
      "[0 4 0] [0 0 0] 173600.0\n",
      "[0 0 0] [2 0 0] 11200.0\n",
      "[0 1 0] [0 0 0] 39500.0\n",
      "[1 0 0] [0 0 0] 121100.0\n",
      "[1 0 0] [0 0 1] 30800.0\n",
      "[0 1 0] [0 0 0] 59050.0\n",
      "[2 0 0] [0 0 1] 56350.0\n",
      "[2 0 0] [0 2 0] 170750.0\n",
      "[0 0 0] [0 6 0] 4250.0\n",
      "[0 6 0] [0 0 1] 3050.0\n",
      "[0 0 0] [0 0 0] 3050.0\n",
      "[0 0 0] [0 0 0] 3050.0\n",
      "[0 0 0] [0 0 0] 3050.0\n",
      "[0 0 0] [0 0 0] 3050.0\n",
      "[0 1 0] [0 0 0] 31150.0\n",
      "[0 0 0] [0 0 0] 31150.0\n",
      "[0 2 0] [1 0 0] 4250.0\n",
      "[0 0 0] [0 0 0] 4250.0\n",
      "[0 0 0] [0 0 0] 4250.0\n",
      "[0 0 0] [0 0 0] 4250.0\n",
      "[0 0 0] [0 0 0] 4250.0\n",
      "[0 2 0] [0 0 0] 62550.0\n",
      "[0 1 0] [1 0 0] 9200.0\n",
      "[0 0 0] [0 0 0] 9200.0\n",
      "[0 0 0] [0 0 0] 9200.0\n",
      "[0 0 0] [0 0 0] 9200.0\n",
      "[0 0 0] [0 0 0] 9200.0\n",
      "[0 0 0] [0 0 0] 9200.0\n",
      "[0 0 0] [0 0 0] 9200.0\n",
      "[1 0 0] [0 0 0] 91800.0\n",
      "[1 2 0] [0 0 1] 72200.0\n",
      "[0 0 0] [0 0 0] 72200.0\n",
      "[0 0 0] [0 1 0] 42750.0\n",
      "[0 4 0] [0 0 0] 164750.0\n",
      "[0 4 0] [0 0 1] 133650.0\n",
      "[0 2 0] [2 0 0] 39750.0\n",
      "[2 0 0] [0 1 0] 168950.0\n",
      "[0 0 0] [0 0 1] 14950.0\n",
      "[0 1 0] [0 0 0] 47250.0\n",
      "[0 1 0] [0 0 0] 79350.0\n",
      "[1 0 0] [0 1 0] 128350.0\n",
      "[0 1 0] [2 0 0] 1550.0\n",
      "[0 0 0] [0 0 0] 1550.0\n",
      "[0 1 0] [0 0 0] 34850.0\n",
      "[0 1 0] [0 0 0] 68500.0\n",
      "[0 0 0] [0 0 0] 68500.0\n",
      "[0 0 0] [0 0 0] 68500.0\n"
     ]
    }
   ],
   "source": [
    "result_df, balance = test_func(port_ex, before_list, after_list)"
   ]
  },
  {
   "cell_type": "code",
   "execution_count": 4,
   "metadata": {},
   "outputs": [
    {
     "name": "stdout",
     "output_type": "stream",
     "text": [
      "     code  2021-01-04 00:00:00  2021-01-05 00:00:00  2021-01-06 00:00:00  \\\n",
      "0  005930              8300000            8473900.0            8302200.0   \n",
      "1  030200              2380000            2418950.0            2424000.0   \n",
      "2  139480             15150000           15642000.0           15345000.0   \n",
      "\n",
      "   2021-01-07 00:00:00  2021-01-08 00:00:00  2021-01-11 00:00:00  \\\n",
      "0            8870300.0            9412800.0            9282000.0   \n",
      "1            2538950.0            2610800.0            2641800.0   \n",
      "2           16176000.0           17184000.0           16829500.0   \n",
      "\n",
      "   2021-01-12 00:00:00  2021-01-13 00:00:00  2021-01-14 00:00:00  ...  \\\n",
      "0            9422400.0            9328800.0            9328800.0  ...   \n",
      "1            2706350.0            2699200.0            2704800.0  ...   \n",
      "2           17568000.0           17232000.0           17088000.0  ...   \n",
      "\n",
      "   2021-05-17 00:00:00  2021-05-18 00:00:00  2021-05-20 00:00:00  \\\n",
      "0            8517200.0            8517200.0            8506500.0   \n",
      "1            2437500.0            2487100.0            2439600.0   \n",
      "2           15554000.0           15655000.0           15453000.0   \n",
      "\n",
      "   2021-05-21 00:00:00  2021-05-24 00:00:00  2021-05-25 00:00:00  \\\n",
      "0            8490600.0            8607600.0            8629200.0   \n",
      "1            2394700.0            2477600.0            2492800.0   \n",
      "2           15251000.0           15655000.0           15806500.0   \n",
      "\n",
      "   2021-05-26 00:00:00  2021-05-27 00:00:00  2021-05-28 00:00:00  \\\n",
      "0            8618400.0            8596800.0            8650800.0   \n",
      "1            2497500.0            2490100.0            2501200.0   \n",
      "2           15907500.0           15705500.0           15756000.0   \n",
      "\n",
      "   2021-05-31 00:00:00  \n",
      "0            8694000.0  \n",
      "1            2530800.0  \n",
      "2           16059000.0  \n",
      "\n",
      "[3 rows x 102 columns]\n"
     ]
    }
   ],
   "source": [
    "print(result_df)"
   ]
  },
  {
   "cell_type": "code",
   "execution_count": 5,
   "metadata": {
    "scrolled": true
   },
   "outputs": [
    {
     "data": {
      "text/plain": [
       "array([[0.321, 0.319, 0.318, 0.322, 0.322, 0.323, 0.317, 0.319, 0.32 ,\n",
       "        0.321, 0.321, 0.324, 0.324, 0.322, 0.32 , 0.316, 0.32 , 0.321,\n",
       "        0.32 , 0.323, 0.319, 0.321, 0.321, 0.318, 0.322, 0.321, 0.322,\n",
       "        0.316, 0.317, 0.321, 0.321, 0.325, 0.323, 0.322, 0.323, 0.323,\n",
       "        0.323, 0.322, 0.323, 0.319, 0.318, 0.323, 0.322, 0.317, 0.316,\n",
       "        0.318, 0.319, 0.316, 0.321, 0.324, 0.322, 0.322, 0.321, 0.323,\n",
       "        0.322, 0.323, 0.323, 0.325, 0.323, 0.322, 0.323, 0.323, 0.32 ,\n",
       "        0.323, 0.322, 0.319, 0.316, 0.316, 0.319, 0.319, 0.322, 0.32 ,\n",
       "        0.32 , 0.319, 0.317, 0.317, 0.321, 0.323, 0.322, 0.319, 0.32 ,\n",
       "        0.319, 0.319, 0.324, 0.324, 0.321, 0.321, 0.321, 0.321, 0.324,\n",
       "        0.325, 0.321, 0.319, 0.322, 0.325, 0.322, 0.32 , 0.319, 0.321,\n",
       "        0.321, 0.319],\n",
       "       [0.092, 0.091, 0.093, 0.092, 0.089, 0.092, 0.091, 0.092, 0.093,\n",
       "        0.093, 0.092, 0.092, 0.092, 0.092, 0.092, 0.092, 0.092, 0.093,\n",
       "        0.092, 0.093, 0.092, 0.093, 0.092, 0.093, 0.093, 0.092, 0.093,\n",
       "        0.093, 0.092, 0.092, 0.093, 0.093, 0.092, 0.092, 0.092, 0.092,\n",
       "        0.092, 0.093, 0.092, 0.091, 0.092, 0.092, 0.092, 0.092, 0.092,\n",
       "        0.093, 0.093, 0.092, 0.092, 0.093, 0.092, 0.092, 0.093, 0.093,\n",
       "        0.093, 0.092, 0.092, 0.092, 0.091, 0.093, 0.093, 0.092, 0.097,\n",
       "        0.093, 0.092, 0.092, 0.093, 0.093, 0.093, 0.092, 0.092, 0.091,\n",
       "        0.092, 0.092, 0.093, 0.092, 0.092, 0.092, 0.092, 0.09 , 0.091,\n",
       "        0.09 , 0.09 , 0.093, 0.093, 0.093, 0.092, 0.094, 0.093, 0.092,\n",
       "        0.092, 0.092, 0.093, 0.092, 0.092, 0.093, 0.093, 0.092, 0.093,\n",
       "        0.093, 0.093],\n",
       "       [0.587, 0.589, 0.589, 0.586, 0.588, 0.585, 0.592, 0.589, 0.587,\n",
       "        0.587, 0.587, 0.585, 0.584, 0.586, 0.587, 0.592, 0.588, 0.586,\n",
       "        0.587, 0.585, 0.59 , 0.586, 0.586, 0.59 , 0.586, 0.587, 0.585,\n",
       "        0.591, 0.59 , 0.587, 0.586, 0.582, 0.584, 0.586, 0.585, 0.585,\n",
       "        0.585, 0.586, 0.585, 0.59 , 0.59 , 0.585, 0.586, 0.59 , 0.592,\n",
       "        0.589, 0.588, 0.592, 0.587, 0.583, 0.585, 0.586, 0.586, 0.584,\n",
       "        0.585, 0.584, 0.585, 0.583, 0.586, 0.585, 0.584, 0.585, 0.583,\n",
       "        0.584, 0.586, 0.588, 0.592, 0.59 , 0.589, 0.589, 0.586, 0.588,\n",
       "        0.589, 0.589, 0.59 , 0.59 , 0.586, 0.586, 0.586, 0.591, 0.589,\n",
       "        0.591, 0.591, 0.583, 0.584, 0.586, 0.587, 0.585, 0.586, 0.584,\n",
       "        0.584, 0.587, 0.587, 0.585, 0.584, 0.585, 0.587, 0.589, 0.586,\n",
       "        0.586, 0.589]], dtype=float32)"
      ]
     },
     "execution_count": 5,
     "metadata": {},
     "output_type": "execute_result"
    }
   ],
   "source": [
    "np.round((result_df.values[:,1:] / result_df.sum(axis=0)[1:].values).astype(np.float32), 3)"
   ]
  },
  {
   "cell_type": "code",
   "execution_count": 6,
   "metadata": {},
   "outputs": [
    {
     "data": {
      "image/png": "[encoded data removed]",
      "text/plain": [
       "<Figure size 720x360 with 1 Axes>"
      ]
     },
     "metadata": {
      "needs_background": "light"
     },
     "output_type": "display_data"
    }
   ],
   "source": [
    "val = (result_df.sum(axis=0).iloc[1:]).astype(np.float32)\n",
    "\n",
    "import matplotlib.pyplot as plt\n",
    "%matplotlib inline\n",
    "\n",
    "fig = plt.figure(figsize=(10,5))\n",
    "ax = fig.add_subplot(111)\n",
    "ax.plot(np.arange(len(val)), val.values)\n",
    "plt.show()"
   ]
  },
  {
   "cell_type": "code",
   "execution_count": 7,
   "metadata": {},
   "outputs": [
    {
     "data": {
      "text/plain": [
       "2021-01-04    25830000.0\n",
       "2021-01-05    26534850.0\n",
       "2021-01-06    26071200.0\n",
       "2021-01-07    27585250.0\n",
       "2021-01-08    29207600.0\n",
       "                 ...    \n",
       "2021-05-25    26928500.0\n",
       "2021-05-26    27023400.0\n",
       "2021-05-27    26792400.0\n",
       "2021-05-28    26908000.0\n",
       "2021-05-31    27283800.0\n",
       "Length: 101, dtype: float32"
      ]
     },
     "execution_count": 7,
     "metadata": {},
     "output_type": "execute_result"
    }
   ],
   "source": [
    "val"
   ]
  },
  {
   "cell_type": "code",
   "execution_count": 8,
   "metadata": {},
   "outputs": [
    {
     "data": {
      "text/plain": [
       "68500.0"
      ]
     },
     "execution_count": 8,
     "metadata": {},
     "output_type": "execute_result"
    }
   ],
   "source": [
    "balance"
   ]
  },
  {
   "cell_type": "code",
   "execution_count": 9,
   "metadata": {},
   "outputs": [
    {
     "data": {
      "text/plain": [
       "1522300.0"
      ]
     },
     "execution_count": 9,
     "metadata": {},
     "output_type": "execute_result"
    }
   ],
   "source": [
    "val[-1] - val[0] + balance"
   ]
  },
  {
   "cell_type": "code",
   "execution_count": 10,
   "metadata": {},
   "outputs": [
    {
     "data": {
      "text/plain": [
       "0.05893534649632211"
      ]
     },
     "execution_count": 10,
     "metadata": {},
     "output_type": "execute_result"
    }
   ],
   "source": [
    "(val[-1] - val[0] + balance) / val[0]"
   ]
  },
  {
   "cell_type": "code",
   "execution_count": null,
   "metadata": {},
   "outputs": [],
   "source": []
  },
  {
   "cell_type": "code",
   "execution_count": null,
   "metadata": {},
   "outputs": [],
   "source": []
  },
  {
   "cell_type": "code",
   "execution_count": null,
   "metadata": {},
   "outputs": [],
   "source": []
  },
  {
   "cell_type": "code",
   "execution_count": null,
   "metadata": {},
   "outputs": [],
   "source": []
  },
  {
   "cell_type": "code",
   "execution_count": null,
   "metadata": {},
   "outputs": [],
   "source": []
  },
  {
   "cell_type": "code",
   "execution_count": null,
   "metadata": {},
   "outputs": [],
   "source": []
  },
  {
   "cell_type": "code",
   "execution_count": null,
   "metadata": {},
   "outputs": [],
   "source": []
  },
  {
   "cell_type": "code",
   "execution_count": null,
   "metadata": {},
   "outputs": [],
   "source": []
  }
 ],
 "metadata": {
  "kernelspec": {
   "display_name": "Python 3",
   "language": "python",
   "name": "python3"
  },
  "language_info": {
   "codemirror_mode": {
    "name": "ipython",
    "version": 3
   },
   "file_extension": ".py",
   "mimetype": "text/x-python",
   "name": "python",
   "nbconvert_exporter": "python",
   "pygments_lexer": "ipython3",
   "version": "3.6.8"
  }
 },
 "nbformat": 4,
 "nbformat_minor": 2
}
