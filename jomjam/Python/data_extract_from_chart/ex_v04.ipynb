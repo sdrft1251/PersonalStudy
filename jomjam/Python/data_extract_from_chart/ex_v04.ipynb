{
 "cells": [
  {
   "cell_type": "code",
   "execution_count": 2,
   "metadata": {},
   "outputs": [],
   "source": [
    "import cv2\n",
    "import matplotlib.pyplot as plt\n",
    "%matplotlib inline\n",
    "import seaborn as sns\n",
    "import numpy as np\n",
    "from collections import deque"
   ]
  },
  {
   "cell_type": "code",
   "execution_count": 3,
   "metadata": {},
   "outputs": [],
   "source": [
    "def load_image(path):\n",
    "    img = cv2.imread(\"./sample_need_data/2.png\", cv2.IMREAD_COLOR)\n",
    "    print(\"loading complete! Shape is == {}\".format(img.shape))\n",
    "    return img\n",
    "    \n",
    "def return_range(img, s_th, dot_num_rate):\n",
    "    hsv = cv2.cvtColor(img, cv2.COLOR_BGR2HSV)\n",
    "    h, s, v = cv2.split(hsv)\n",
    "    v_copy = v[s<s_th]\n",
    "    hist, bin_edge=np.histogram(v_copy, bins=np.arange(len(v_copy)))\n",
    "    \n",
    "    count_num=0.0\n",
    "    hist_cp = hist\n",
    "    while (count_num/float(len(v_copy)))<dot_num_rate:\n",
    "        idx = np.argmax(hist_cp)\n",
    "        hist_cp[idx] = hist_cp[idx]-1\n",
    "        count_num+=1\n",
    "    idx_array = np.arange(len(hist_cp==hist_cp.max()))\n",
    "    result = idx_array[hist_cp==hist_cp.max()]\n",
    "    result_dict={}\n",
    "    start=True\n",
    "    line_idx = 0\n",
    "    for arr in result:\n",
    "        if start:\n",
    "            start_val = arr\n",
    "            end_val = arr\n",
    "            start=False\n",
    "        else:\n",
    "            tmt_val = arr\n",
    "            if (end_val+1) == tmt_val:\n",
    "                end_val = tmt_val\n",
    "            else:\n",
    "                result_dict[str(line_idx)] = [start_val, end_val]\n",
    "                line_idx+=1\n",
    "                start_val = tmt_val\n",
    "                end_val = tmt_val\n",
    "        if arr == result[-1]:\n",
    "            result_dict[str(line_idx)] = [start_val, end_val]\n",
    "    print(\"Line num is ===={}\".format(result_dict.keys()))\n",
    "    return result_dict\n",
    "\n",
    "def see_plot_line(img, s_th, idx_dict):\n",
    "    hsv = cv2.cvtColor(img, cv2.COLOR_BGR2HSV)\n",
    "    h, s, v = cv2.split(hsv)\n",
    "    h2 = np.where(s>s_th,h,0)\n",
    "    for key in idx_dict.keys():\n",
    "        start_idx = idx_dict[key][0]\n",
    "        end_idx = idx_dict[key][1]\n",
    "        h3 = np.where((h2>=start_idx)&(h2<=end_idx), 255, 0)\n",
    "        fig = plt.figure(figsize=(20,5))\n",
    "        ax = fig.add_subplot(1,1,1)\n",
    "        ax.imshow(h3,cmap='gray')\n",
    "        plt.show()\n",
    "\n",
    "def return_num_col_idx_data(img, s_th, idx_dict):\n",
    "    hsv = cv2.cvtColor(img, cv2.COLOR_BGR2HSV)\n",
    "    h, s, v = cv2.split(hsv)\n",
    "    v2 = np.where(s<s_th,v,0)\n",
    "    reulst_dict={}\n",
    "    for key in idx_dict.keys():\n",
    "        result_list=[]\n",
    "        start_idx = idx_dict[key][0]\n",
    "        end_idx = idx_dict[key][1]\n",
    "        v3 = np.where((v2>=start_idx)&(v2<=end_idx), 255, 0)\n",
    "        \n",
    "        result_list=[]\n",
    "        for w_idx in range(v3.shape[1]):\n",
    "            v_arr = v3[:,w_idx]\n",
    "            if sum(v_arr==255)==0:\n",
    "                result_list.append(-1)\n",
    "            else:\n",
    "                result_list.append(np.median(np.where(v_arr==255)[0]))\n",
    "        result_list = np.array(result_list)\n",
    "        reulst_dict[key]=result_list\n",
    "    return reulst_dict\n",
    "\n",
    "\n",
    "def return_hs_val_mean(img, s_th, h_range):\n",
    "    hsv = cv2.cvtColor(img, cv2.COLOR_BGR2HSV)\n",
    "    h, s, v = cv2.split(hsv)\n",
    "    h = h[s>s_th]\n",
    "    v = v[s>s_th]\n",
    "    s = s[s>s_th]\n",
    "    \n",
    "    s = s[h>h_range[0]]\n",
    "    v = v[h>h_range[0]]\n",
    "    h = h[h>h_range[0]]\n",
    "    \n",
    "    s = s[h<h_range[1]]\n",
    "    v = v[h<h_range[1]]\n",
    "    h = h[h<h_range[1]]\n",
    "    \n",
    "    return h.mean(), s.mean(), v.mean()\n",
    "\n",
    "def smoothing(arr, dur=5):\n",
    "    new_trans_val_arr=[]\n",
    "    for att in arr:\n",
    "        if len(new_trans_val_arr)<5:\n",
    "            put_att = (np.array(new_trans_val_arr).sum()+att)/(len(new_trans_val_arr)+1.0)\n",
    "            new_trans_val_arr.append(put_att)\n",
    "        else:\n",
    "            put_att = (np.array(new_trans_val_arr[-4:]).sum()+att)/(5.0)\n",
    "            new_trans_val_arr.append(put_att)\n",
    "    new_trans_val_arr = np.array(new_trans_val_arr, dtype=np.float32)\n",
    "    return new_trans_val_arr\n",
    "\n",
    "\n",
    "def return_idx_val_by_h(img, s_threshold, h_mean):\n",
    "    hsv = cv2.cvtColor(img, cv2.COLOR_BGR2HSV)\n",
    "    result_col_val_list=[]\n",
    "    start = True\n",
    "    for w_idx in range(hsv.shape[1]):\n",
    "        h_arr = hsv[:,w_idx,:]\n",
    "        min_idx = 0\n",
    "        temp_idx=0\n",
    "        mean_val = 999999\n",
    "        for att in h_arr:\n",
    "            if att[1]<=s_threshold:\n",
    "                pass\n",
    "            else:\n",
    "                #h_val = float(att[0]- h_mean)**2\n",
    "                #s_val = float(att[1]- s_mean)**2\n",
    "                #v_val = float(att[2]- v_mean)**2\n",
    "                #diff_val = (h_val+s_val+v_val)/3.0\n",
    "                #diff_val = (h_val+s_val)/2\n",
    "                diff_val = abs(att[0]- h_mean)\n",
    "                if diff_val<mean_val:\n",
    "                    min_idx = temp_idx\n",
    "                    mean_val = diff_val\n",
    "            temp_idx+=1\n",
    "        result_col_val_list.append(min_idx)\n",
    "        before_idx = min_idx\n",
    "    trans_val_arr = -np.array(result_col_val_list)-(-np.array(result_col_val_list)).min()\n",
    "    trans_val_arr = np.array(trans_val_arr, dtype=np.float32)\n",
    "    return trans_val_arr"
   ]
  },
  {
   "cell_type": "code",
   "execution_count": 4,
   "metadata": {},
   "outputs": [
    {
     "name": "stdout",
     "output_type": "stream",
     "text": [
      "loading complete! Shape is == (132, 886, 3)\n",
      "Line num is ====dict_keys(['0'])\n",
      "{'0': [255, 255]}\n"
     ]
    },
    {
     "data": {
      "image/png": "[encoded data removed]",
      "text/plain": [
       "<Figure size 1440x360 with 1 Axes>"
      ]
     },
     "metadata": {
      "needs_background": "light"
     },
     "output_type": "display_data"
    }
   ],
   "source": [
    "path = \"./sample_need_data/2.png\"\n",
    "s_threshold = 30\n",
    "dot_num_rate_tr = 0.07\n",
    "img = load_image(path)\n",
    "idx_dict = return_range(img=img, s_th=s_threshold, dot_num_rate=dot_num_rate_tr)\n",
    "print(idx_dict)\n",
    "see_plot_line(img=img, s_th=s_threshold, idx_dict=idx_dict)"
   ]
  },
  {
   "cell_type": "code",
   "execution_count": null,
   "metadata": {},
   "outputs": [],
   "source": []
  },
  {
   "cell_type": "code",
   "execution_count": null,
   "metadata": {},
   "outputs": [],
   "source": []
  },
  {
   "cell_type": "code",
   "execution_count": null,
   "metadata": {},
   "outputs": [],
   "source": []
  },
  {
   "cell_type": "code",
   "execution_count": null,
   "metadata": {},
   "outputs": [],
   "source": []
  },
  {
   "cell_type": "code",
   "execution_count": null,
   "metadata": {},
   "outputs": [],
   "source": []
  },
  {
   "cell_type": "code",
   "execution_count": null,
   "metadata": {},
   "outputs": [],
   "source": []
  },
  {
   "cell_type": "code",
   "execution_count": null,
   "metadata": {},
   "outputs": [],
   "source": []
  },
  {
   "cell_type": "code",
   "execution_count": null,
   "metadata": {},
   "outputs": [],
   "source": []
  },
  {
   "cell_type": "code",
   "execution_count": null,
   "metadata": {},
   "outputs": [],
   "source": []
  },
  {
   "cell_type": "code",
   "execution_count": null,
   "metadata": {},
   "outputs": [],
   "source": []
  },
  {
   "cell_type": "code",
   "execution_count": null,
   "metadata": {},
   "outputs": [],
   "source": []
  }
 ],
 "metadata": {
  "kernelspec": {
   "display_name": "Python 3",
   "language": "python",
   "name": "python3"
  },
  "language_info": {
   "codemirror_mode": {
    "name": "ipython",
    "version": 3
   },
   "file_extension": ".py",
   "mimetype": "text/x-python",
   "name": "python",
   "nbconvert_exporter": "python",
   "pygments_lexer": "ipython3",
   "version": "3.7.4"
  }
 },
 "nbformat": 4,
 "nbformat_minor": 2
}
